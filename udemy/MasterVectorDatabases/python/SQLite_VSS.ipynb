{
  "cells": [
    {
      "cell_type": "code",
      "execution_count": null,
      "metadata": {
        "colab": {
          "base_uri": "https://localhost:8080/"
        },
        "id": "5M_kz02b5xml",
        "outputId": "968758e3-82f7-4461-9148-52dea4674c08"
      },
      "outputs": [],
      "source": [
        "!pip install sqlite-vss"
      ]
    },
    {
      "cell_type": "code",
      "execution_count": null,
      "metadata": {
        "colab": {
          "base_uri": "https://localhost:8080/"
        },
        "id": "Zy8nYFtZ6htp",
        "outputId": "3fb67cec-7d40-46e3-a027-f9366b2b6018"
      },
      "outputs": [],
      "source": [
        "!pip install langchain"
      ]
    },
    {
      "cell_type": "code",
      "execution_count": null,
      "metadata": {
        "id": "LR0pfut0KuqJ"
      },
      "outputs": [],
      "source": [
        "from langchain.embeddings.sentence_transformer import SentenceTransformerEmbeddings\n",
        "from langchain.text_splitter import CharacterTextSplitter\n",
        "from langchain.vectorstores import SQLiteVSS\n",
        "from langchain.document_loaders import TextLoader"
      ]
    },
    {
      "cell_type": "code",
      "execution_count": null,
      "metadata": {
        "id": "OmwPqOC-LSFu"
      },
      "outputs": [],
      "source": [
        "loader = TextLoader(\"state_union.txt\")\n",
        "documents = loader.load()"
      ]
    },
    {
      "cell_type": "markdown",
      "metadata": {
        "id": "KGpKPIyqNMS-"
      },
      "source": [
        "# New Section"
      ]
    },
    {
      "cell_type": "code",
      "execution_count": null,
      "metadata": {
        "id": "SQsV5LzNO3k_"
      },
      "outputs": [],
      "source": [
        "documents"
      ]
    },
    {
      "cell_type": "code",
      "execution_count": null,
      "metadata": {
        "id": "wruSvDQDPZn-"
      },
      "outputs": [],
      "source": [
        "# split it into chunks\n",
        "text_splitter = CharacterTextSplitter(chunk_size=1000, chunk_overlap=0)\n",
        "docs = text_splitter.split_documents(documents)\n",
        "texts = [doc.page_content for doc in docs]"
      ]
    },
    {
      "cell_type": "code",
      "execution_count": null,
      "metadata": {
        "id": "-aW3FAWyQdH4"
      },
      "outputs": [],
      "source": [
        "texts"
      ]
    },
    {
      "cell_type": "code",
      "execution_count": null,
      "metadata": {
        "id": "01pqkPD6QtjK"
      },
      "outputs": [],
      "source": [
        "!pip install sentence-transformers"
      ]
    },
    {
      "cell_type": "code",
      "execution_count": null,
      "metadata": {
        "id": "rSSGsN3FRPzk"
      },
      "outputs": [],
      "source": [
        "# create the open-source embedding function\n",
        "embedding_function = SentenceTransformerEmbeddings(model_name=\"all-MiniLM-L6-v2\")"
      ]
    },
    {
      "cell_type": "code",
      "execution_count": null,
      "metadata": {
        "id": "1BG29fpLSOmS"
      },
      "outputs": [],
      "source": [
        "# load it in sqlite-vss in atable named state_union.\n",
        "# the db_file parameter is the name of the file you want\n",
        "# as your sqlite database.\n",
        "db = SQLiteVSS.from_texts(texts=texts, embedding=embedding_function, table=\"state_union\", db_file=\"vss.db\")"
      ]
    },
    {
      "cell_type": "code",
      "execution_count": null,
      "metadata": {
        "id": "PuTc3XLeUuHK"
      },
      "outputs": [],
      "source": [
        "query = \"What did the president say about Ketanji Brown Jackson\"\n",
        "data = db.similarity_search(query)"
      ]
    },
    {
      "cell_type": "code",
      "execution_count": null,
      "metadata": {
        "colab": {
          "base_uri": "https://localhost:8080/",
          "height": 105
        },
        "id": "0kw4Es4PVBEO",
        "outputId": "f831bdf1-4c5c-4991-da69-220f04b7ea69"
      },
      "outputs": [],
      "source": [
        "# print results\n",
        "data[0].page_content"
      ]
    }
  ],
  "metadata": {
    "accelerator": "GPU",
    "colab": {
      "gpuType": "T4",
      "provenance": []
    },
    "kernelspec": {
      "display_name": "Python 3",
      "name": "python3"
    },
    "language_info": {
      "name": "python"
    }
  },
  "nbformat": 4,
  "nbformat_minor": 0
}
