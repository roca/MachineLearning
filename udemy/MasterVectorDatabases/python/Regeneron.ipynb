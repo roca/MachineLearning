{
 "cells": [
  {
   "cell_type": "code",
   "execution_count": null,
   "id": "75d4fae5-9b39-4dce-97c0-ebe8330b31fe",
   "metadata": {},
   "outputs": [],
   "source": [
    "#  Code ref: https://ritscm.regeneron.com/projects/DSEAIM/repos/secureaccess/browse/securekeyapp.py"
   ]
  },
  {
   "cell_type": "code",
   "execution_count": null,
   "id": "38d98f95-850c-43b1-8025-9a8d475238eb",
   "metadata": {},
   "outputs": [],
   "source": [
    "!pip install --trusted-host pypi.python.org --trusted-host pypi.org --trusted-host files.pythonhosted.org --upgrade pip"
   ]
  },
  {
   "cell_type": "code",
   "execution_count": null,
   "id": "9f7cb266-a8b8-4f43-9774-eaf4e3b9dd58",
   "metadata": {},
   "outputs": [],
   "source": [
    "!pip install  --trusted-host pypi.python.org --trusted-host pypi.org --trusted-host files.pythonhosted.org \\\n",
    "msal \\\n",
    "retry \\\n",
    "simplejson \\\n",
    "openai \\\n",
    "grpcio==1.58.0 \\\n",
    "pymilvus==2.3.5 \\\n",
    "protobuf \\\n",
    "grpcio-tools==1.58.0 \\\n",
    "pymongo \\\n",
    "tiktoken"
   ]
  },
  {
   "cell_type": "code",
   "execution_count": null,
   "id": "d9a6ae04-c6e9-4774-9284-31b441f59ece",
   "metadata": {},
   "outputs": [],
   "source": [
    "import os\n",
    "import openai\n",
    "import requests\n",
    "import simplejson as json\n",
    "from retry import retry\n",
    "from msal import PublicClientApplication, ConfidentialClientApplication, ClientApplication\n",
    "import time"
   ]
  },
  {
   "cell_type": "code",
   "execution_count": null,
   "id": "4ba72e62-598b-423f-b694-900e9850ab4b",
   "metadata": {},
   "outputs": [],
   "source": [
    "@retry (tries=3, delay=2)\n",
    "def getapikey():\n",
    "    # These are the AZURE parameters needed by the client application\n",
    "    # In this scheme, the user does not have to worry about the api key, all of that is handled\n",
    "    # at the AZURE Back End.   The API key is rotated hourly.\n",
    "    # We can handle these as Kuberbetes secrets, or as environment variables.\n",
    "    client_id = os.getenv(\"AZURE_CLIENT_ID\")\n",
    "    tenant_id = os.getenv(\"AZURE_TENANT_ID\")\n",
    "    endpoint = os.getenv(\"AZURE_ENDPOINT\")\n",
    "\n",
    "    scopes = [os.getenv(\"AZURE_APPLICATION_SCOPE\")]\n",
    "\n",
    "    app = ClientApplication(\n",
    "        client_id=client_id,\n",
    "        authority=\"https://login.microsoftonline.com/\" + tenant_id\n",
    "    )\n",
    "\n",
    "\n",
    "    acquire_tokens_result = app.acquire_token_by_username_password(username=os.getenv(\"SVC_ACCOUNT\"),\n",
    "                                                                   password=os.getenv(\"SVC_PASSWORD\"),\n",
    "                                                                   scopes=scopes)\n",
    "    if 'error' in acquire_tokens_result:\n",
    "        print(\"Error: \" + acquire_tokens_result['error'])\n",
    "        print(\"Description: \" + acquire_tokens_result['error_description'])\n",
    "        return 2\n",
    "    else:\n",
    "        header_token = {\"Authorization\": \"Bearer {}\".format(acquire_tokens_result['access_token'])}\n",
    "        rt = requests.post(url=endpoint, headers=header_token, data=b'{\"key\":\"openaikey2\"}')\n",
    "        return rt.json()"
   ]
  },
  {
   "cell_type": "code",
   "execution_count": null,
   "id": "767de030-c9e3-4f2c-89c8-0268b7c3c3ed",
   "metadata": {},
   "outputs": [],
   "source": [
    "openai.api_type = os.getenv(\"OPENAI_API_TYPE\")\n",
    "openai.api_base = os.getenv(\"OPENAI_API_BASE\")\n",
    "openai.api_version = os.getenv(\"OPENAI_API_VERSION\")\n",
    "# We are dynamically getting the key from AZURE>   Access is based on the service account/ad group combination\n",
    "openai.api_key = getapikey()\n",
    "# print(openai.api_key)"
   ]
  },
  {
   "cell_type": "code",
   "execution_count": null,
   "id": "63859fee-2954-4cef-8181-439af601d142",
   "metadata": {},
   "outputs": [],
   "source": [
    "import os\n",
    "from openai import AzureOpenAI\n",
    "\n",
    "ai_client = AzureOpenAI(\n",
    "  api_key = getapikey(),  \n",
    "  api_version = os.getenv(\"OPENAI_API_VERSION\"),\n",
    "  azure_endpoint = os.getenv(\"AZURE_OPENAI_ENDPOINT\")\n",
    ")\n"
   ]
  },
  {
   "cell_type": "markdown",
   "id": "31f33089",
   "metadata": {},
   "source": [
    "## Create a function to load multiple proteins from the bioregistry mongo database"
   ]
  },
  {
   "cell_type": "code",
   "execution_count": null,
   "id": "b9ab5687",
   "metadata": {},
   "outputs": [],
   "source": [
    "from pymongo import MongoClient\n",
    "username = os.getenv(\"BIOREGISTRY_USER\")\n",
    "password = os.getenv(\"BIOREGISTRY_PASSWORD\")\n",
    "host1 = os.getenv(\"MONGOID_DATABASE_HOST1\")\n",
    "host2 = os.getenv(\"MONGOID_DATABASE_HOST2\")\n",
    "host3 = os.getenv(\"MONGOID_DATABASE_HOST3\")\n",
    "db = os.getenv(\"MONGOID_DATABASE\")\n",
    "mongo_client = MongoClient(f'mongodb://{username}:{password}@{host1}/{db}')\n",
    "mongo_collection = mongo_client.get_database(db).get_collection('proteins')"
   ]
  },
  {
   "cell_type": "code",
   "execution_count": null,
   "id": "05630272",
   "metadata": {},
   "outputs": [],
   "source": [
    "from bson.json_util import dumps\n",
    "# { \"$and\" : [ { \"descriptive_name\" : { \"$ne\" : \"null\" } }, { \"descriptive_name\" : { \"$exists\" : \"true\" } } ] }\n",
    "proteins = mongo_collection.find({ \"$and\" : [ { \"descriptive_name\" : { \"$ne\" : None } }, { \"descriptive_name\" : { \"$exists\" : \"true\" } } ] }).limit(100)\n",
    "for protein in proteins:\n",
    "\tprint(dumps(protein))"
   ]
  },
  {
   "cell_type": "markdown",
   "id": "5a9a25e4",
   "metadata": {},
   "source": [
    "## Connect to Milvus Vector Database\n",
    "### Set up schema"
   ]
  },
  {
   "cell_type": "code",
   "execution_count": null,
   "id": "f02790f6-1ef1-45e2-9df7-e56a14e134ee",
   "metadata": {},
   "outputs": [],
   "source": [
    "from pymilvus import connections, utility, db\n",
    "conn = connections.connect(host=\"standalone\", port=19530, db_name=\"default\")\n",
    "db.list_database()"
   ]
  },
  {
   "cell_type": "code",
   "execution_count": null,
   "id": "490e61e8-59d1-407e-8287-e7d46eaabca8",
   "metadata": {},
   "outputs": [],
   "source": [
    "found = False\n",
    "for database_name in db.list_database():\n",
    "    if database_name == \"bioregistry\":\n",
    "        found = True\n",
    "if not found:\n",
    "    db.create_database(\"bioregistry\")"
   ]
  },
  {
   "cell_type": "code",
   "execution_count": null,
   "id": "f5efc439-ab31-4c8d-94e2-dfd6513481c5",
   "metadata": {},
   "outputs": [],
   "source": [
    "db.list_database()"
   ]
  },
  {
   "cell_type": "code",
   "execution_count": null,
   "id": "3a3fa510-9a81-49f4-b467-906abda15bbc",
   "metadata": {},
   "outputs": [],
   "source": [
    "db.using_database(\"bioregistry\")"
   ]
  },
  {
   "cell_type": "code",
   "execution_count": null,
   "id": "57497c63-f995-4194-995f-df7deacb86e9",
   "metadata": {},
   "outputs": [],
   "source": [
    "utility.list_collections()"
   ]
  },
  {
   "cell_type": "code",
   "execution_count": null,
   "id": "f104c447-505d-4e3e-a878-f6b39634b510",
   "metadata": {},
   "outputs": [],
   "source": [
    "new_collection_name = \"proteins\""
   ]
  },
  {
   "cell_type": "code",
   "execution_count": null,
   "id": "2661c2e5-5bb1-4dcf-8496-d2ac22286198",
   "metadata": {},
   "outputs": [],
   "source": [
    "for collection_name in utility.list_collections():\n",
    "    if collection_name == new_collection_name:\n",
    "        utility.drop_collection(new_collection_name)"
   ]
  },
  {
   "cell_type": "code",
   "execution_count": null,
   "id": "6ccfc66d-7e5b-4d42-9de9-a40bf0e2ab77",
   "metadata": {},
   "outputs": [],
   "source": [
    "from pymilvus import CollectionSchema, FieldSchema, DataType\n",
    "\n",
    "protein_id = FieldSchema(\n",
    "  name=\"protein_id\",\n",
    "  dtype=DataType.INT64,\n",
    "  is_primary=True,\n",
    ")\n",
    "\n",
    "name = FieldSchema(\n",
    "  name=\"name\",\n",
    "  dtype=DataType.VARCHAR,\n",
    "  max_length=32,\n",
    "  # The default value will be used if this field is left empty during data inserts or upserts.\n",
    "  # The data type of `default_value` must be the same as that specified in `dtype`.\n",
    "  default_value=\"Unknown\"\n",
    ")\n",
    "\n",
    "char_count = FieldSchema(\n",
    "  name=\"char_count\",\n",
    "  dtype=DataType.INT64,\n",
    "  # The default value will be used if this field is left empty during data inserts or upserts.\n",
    "  # The data type of `default_value` must be the same as that specified in `dtype`.\n",
    "  default_value=9999\n",
    ")\n",
    "\n",
    "protein_json = FieldSchema(\n",
    "  name=\"protein_json\",\n",
    "  dtype=DataType.JSON,\n",
    "  max_length=16000,\n",
    "  # The default value will be used if this field is left empty during data inserts or upserts.\n",
    "  # The data type of `default_value` must be the same as that specified in `dtype`.\n",
    "  default_value=\"Unknown\"\n",
    ")\n",
    "\n",
    "protein_vector = FieldSchema(\n",
    "  name=\"protein_vector\",\n",
    "  dtype=DataType.FLOAT_VECTOR,\n",
    "  dim=1536\n",
    ")\n",
    "\n",
    "schema = CollectionSchema(\n",
    "  fields=[protein_id, name, char_count, protein_json, protein_vector],\n",
    "  description=\"Protein search\",\n",
    "  enable_dynamic_field=True\n",
    ")"
   ]
  },
  {
   "cell_type": "code",
   "execution_count": null,
   "id": "a128af32-0eea-43a9-98c3-b036fdd27baa",
   "metadata": {},
   "outputs": [],
   "source": [
    "from pymilvus import Collection\n",
    "collection = Collection(\n",
    "    name=new_collection_name,\n",
    "    schema=schema,\n",
    "    using='default',\n",
    "    shards_num=2\n",
    "    )"
   ]
  },
  {
   "cell_type": "code",
   "execution_count": null,
   "id": "d487a862",
   "metadata": {},
   "outputs": [],
   "source": [
    "collection.create_partition(\"Disc1\")\n",
    "collection.has_partition(\"Disc1\")"
   ]
  },
  {
   "cell_type": "code",
   "execution_count": null,
   "id": "343767bf",
   "metadata": {},
   "outputs": [],
   "source": [
    "collection.create_partition(\"Disc2\")\n",
    "collection.has_partition(\"Disc2\")"
   ]
  },
  {
   "cell_type": "code",
   "execution_count": null,
   "id": "334b0610",
   "metadata": {},
   "outputs": [],
   "source": [
    "from pymilvus import Partition\n",
    "disc2 = Partition(collection, name=\"Disc2\")\n",
    "disc2.release()\n",
    "collection.drop_partition(\"Disc2\")\n",
    "collection.has_partition(\"Disc2\")"
   ]
  },
  {
   "cell_type": "code",
   "execution_count": null,
   "id": "09183e35-94ec-4ff3-9858-715fda764110",
   "metadata": {},
   "outputs": [],
   "source": [
    "utility.list_collections()"
   ]
  },
  {
   "cell_type": "code",
   "execution_count": null,
   "id": "f412d8f0",
   "metadata": {},
   "outputs": [],
   "source": [
    "import tiktoken\n",
    "def truncate_tokens(string: str, encoding_name: str, max_length: int = 8191) -> str:\n",
    "    \"\"\"Truncates a text string based on max number of tokens.\"\"\"\n",
    "    encoding = tiktoken.encoding_for_model(encoding_name)\n",
    "    encoded_string = encoding.encode(string)\n",
    "    num_tokens = len(encoded_string)\n",
    "\n",
    "    if num_tokens > max_length:\n",
    "        string = encoding.decode(encoded_string[:max_length])\n",
    "\n",
    "    return string"
   ]
  },
  {
   "cell_type": "markdown",
   "id": "18cbfe7e-7c9b-46b6-a868-696789bb8b30",
   "metadata": {},
   "source": [
    "## Insert proteins as vetcors\n",
    "### { protein_id, name, char_count, protein_json, protein_vector "
   ]
  },
  {
   "cell_type": "code",
   "execution_count": null,
   "id": "03bf648b",
   "metadata": {},
   "outputs": [],
   "source": [
    "from bson.json_util import dumps\n",
    "from bson import json_util\n",
    "import json\n",
    "proteins = mongo_collection.find({\"created_by\": \"kristin.hudson\"})\n",
    "i = 1\n",
    "for protein in proteins:\n",
    "\tif 'descriptive_name'in protein:\n",
    "\t\tprotein_json = json.dumps(protein,default=json_util.default)\n",
    "\t\tprotein_descriptive_name= f\"{protein['descriptive_name']}\"\n",
    "\t\t#tokenized = truncate_tokens(string=protein_string, encoding_name=\"gpt-3.5-turbo\", max_length=8191)\n",
    "\t\tprint(protein_descriptive_name)\n",
    "\t\tresponse = ai_client.embeddings.create(\n",
    "\t\t\tinput = protein_descriptive_name, #tokenized,\n",
    "\t\t\tmodel = \"RegnADA002\"\n",
    "\t\t)\n",
    "\t\tprotein_id_column = [i]\n",
    "\t\tname_column = [protein['regn_name']]\n",
    "\t\tchar_count_column = [len(protein_descriptive_name)]\n",
    "\t\tprotein_json_column = [json.loads(protein_json)]\n",
    "\t\tprotein_vector_column = [response.data[0].embedding]\n",
    "\t\tdata = [protein_id_column, name_column, char_count_column, protein_json_column, protein_vector_column]\n",
    "\t\tcollection.upsert(data)\n",
    "\t\ti += 1"
   ]
  },
  {
   "cell_type": "code",
   "execution_count": null,
   "id": "58691a4c",
   "metadata": {},
   "outputs": [],
   "source": [
    "\n",
    "collection.compact()"
   ]
  },
  {
   "cell_type": "code",
   "execution_count": null,
   "id": "be24ed2d",
   "metadata": {},
   "outputs": [],
   "source": [
    "index_params = {\n",
    "  \"metric_type\":\"COSINE\",\n",
    "  \"index_type\":\"IVF_SQ8\",\n",
    "  \"params\":{\"nlist\":1024},\n",
    "  \n",
    "}\n",
    "collection.create_index(\n",
    "  field_name=\"protein_vector\", \n",
    "  index_name=\"protein_vector_idx\",\n",
    "  index_params=index_params\n",
    ")"
   ]
  },
  {
   "cell_type": "code",
   "execution_count": null,
   "id": "fd9a5df8",
   "metadata": {},
   "outputs": [],
   "source": [
    "# index on a scalar field\n",
    "collection.create_index(\n",
    "  field_name=\"name\", \n",
    "  index_name=\"protein_name_idx\"\n",
    ")"
   ]
  },
  {
   "cell_type": "markdown",
   "id": "24b2f386-593f-4714-8771-e575e1add9ed",
   "metadata": {},
   "source": [
    "## Search , Query and Hybrid"
   ]
  },
  {
   "cell_type": "code",
   "execution_count": null,
   "id": "3209e9fd-7618-484c-a1b4-8ff7c3ed6b40",
   "metadata": {},
   "outputs": [],
   "source": [
    "search_string = 'mROR1(M1-A29).hCD8'\n",
    "response = ai_client.embeddings.create(\n",
    "    input = search_string,\n",
    "    model= \"RegnADA002\"\n",
    ")\n",
    "query_embedding = response.data[0].embedding\n",
    "# query_embedding"
   ]
  },
  {
   "cell_type": "code",
   "execution_count": null,
   "id": "72c7c975-4d76-4336-a7ac-fbbdec0c8ff8",
   "metadata": {},
   "outputs": [],
   "source": [
    "search_params = {\n",
    "    \"metric_type\": \"COSINE\", \n",
    "    \"params\": {\"search_k\": 64}\n",
    "}"
   ]
  },
  {
   "cell_type": "code",
   "execution_count": null,
   "id": "3d019497-50e4-47fc-8561-9f3293c88243",
   "metadata": {},
   "outputs": [],
   "source": [
    "# Search\n",
    "collection = Collection(new_collection_name)\n",
    "utility.list_collections()\n",
    "collection.load()\n",
    "results =  collection.search(\n",
    "    data=[query_embedding],\n",
    "    anns_field=\"protein_vector\",\n",
    "    param=search_params,\n",
    "    limit=10,\n",
    "    expr=None,\n",
    "    output_fields=['protein_json']\n",
    ")\n",
    "for result in results[0]:\n",
    "    print(result)"
   ]
  },
  {
   "cell_type": "code",
   "execution_count": null,
   "id": "811f7f28-df2e-48ea-8f76-6abb89037526",
   "metadata": {},
   "outputs": [],
   "source": [
    "query_expr = \"protein_json['regn_name'] like 'REGN3853'\" # Querying the json field"
   ]
  },
  {
   "cell_type": "code",
   "execution_count": null,
   "id": "dedc3ffd-e71f-4fd3-addb-d417da1d841b",
   "metadata": {},
   "outputs": [],
   "source": [
    "# Query\n",
    "collection = Collection(new_collection_name)\n",
    "utility.list_collections()\n",
    "collection.load()\n",
    "results = collection.query(\n",
    "    expr = query_expr,\n",
    "    offset = 0,\n",
    "    limit = 10, \n",
    "    output_fields = [\"name\", \"protein_json\"]\n",
    ")\n",
    "results[0]"
   ]
  },
  {
   "cell_type": "code",
   "execution_count": null,
   "id": "03622b4b-2077-4208-8e50-63d0d0a58be4",
   "metadata": {},
   "outputs": [],
   "source": [
    "# Hybrid : sama as search with expr provided\n",
    "results =  collection.search(\n",
    "    data=[query_embedding],\n",
    "    anns_field=\"protein_vector\",\n",
    "    param=search_params,\n",
    "    limit=5,\n",
    "    expr=query_expr,\n",
    "    output_fields=['protein_json']\n",
    ")\n",
    "for result in results[0]:\n",
    "    print(result)"
   ]
  },
  {
   "cell_type": "code",
   "execution_count": null,
   "id": "78dc95f9-8c79-4a90-8611-f72e17ae9c6c",
   "metadata": {},
   "outputs": [],
   "source": []
  }
 ],
 "metadata": {
  "kernelspec": {
   "display_name": "Python 3 (ipykernel)",
   "language": "python",
   "name": "python3"
  }
 },
 "nbformat": 4,
 "nbformat_minor": 5
}
