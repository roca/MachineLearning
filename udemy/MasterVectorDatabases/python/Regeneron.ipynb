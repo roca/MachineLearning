{
 "cells": [
  {
   "cell_type": "code",
   "execution_count": null,
   "id": "75d4fae5-9b39-4dce-97c0-ebe8330b31fe",
   "metadata": {},
   "outputs": [],
   "source": [
    "#  Code ref: https://ritscm.regeneron.com/projects/DSEAIM/repos/secureaccess/browse/securekeyapp.py"
   ]
  },
  {
   "cell_type": "code",
   "execution_count": 1,
   "id": "38d98f95-850c-43b1-8025-9a8d475238eb",
   "metadata": {},
   "outputs": [
    {
     "name": "stdout",
     "output_type": "stream",
     "text": [
      "Requirement already satisfied: pip in /usr/local/lib/python3.11/dist-packages (23.2.1)\n",
      "Collecting pip\n",
      "  Obtaining dependency information for pip from https://files.pythonhosted.org/packages/15/aa/3f4c7bcee2057a76562a5b33ecbd199be08cdb4443a02e26bd2c3cf6fc39/pip-23.3.2-py3-none-any.whl.metadata\n",
      "  Downloading pip-23.3.2-py3-none-any.whl.metadata (3.5 kB)\n",
      "Downloading pip-23.3.2-py3-none-any.whl (2.1 MB)\n",
      "\u001b[2K   \u001b[90m━━━━━━━━━━━━━━━━━━━━━━━━━━━━━━━━━━━━━━━━\u001b[0m \u001b[32m2.1/2.1 MB\u001b[0m \u001b[31m8.9 MB/s\u001b[0m eta \u001b[36m0:00:00\u001b[0mta \u001b[36m0:00:01\u001b[0m\n",
      "\u001b[?25hInstalling collected packages: pip\n",
      "  Attempting uninstall: pip\n",
      "    Found existing installation: pip 23.2.1\n",
      "    Uninstalling pip-23.2.1:\n",
      "      Successfully uninstalled pip-23.2.1\n",
      "Successfully installed pip-23.3.2\n",
      "\u001b[33mWARNING: Running pip as the 'root' user can result in broken permissions and conflicting behaviour with the system package manager. It is recommended to use a virtual environment instead: https://pip.pypa.io/warnings/venv\u001b[0m\u001b[33m\n",
      "\u001b[0m"
     ]
    }
   ],
   "source": [
    "!pip install --trusted-host pypi.python.org --trusted-host pypi.org --trusted-host files.pythonhosted.org --upgrade pip"
   ]
  },
  {
   "cell_type": "code",
   "execution_count": 4,
   "id": "9f7cb266-a8b8-4f43-9774-eaf4e3b9dd58",
   "metadata": {},
   "outputs": [
    {
     "name": "stdout",
     "output_type": "stream",
     "text": [
      "Collecting msal\n",
      "  Using cached msal-1.26.0-py2.py3-none-any.whl.metadata (11 kB)\n",
      "Collecting retry\n",
      "  Using cached retry-0.9.2-py2.py3-none-any.whl (8.0 kB)\n",
      "Collecting simplejson\n",
      "  Using cached simplejson-3.19.2-cp311-cp311-manylinux_2_5_x86_64.manylinux1_x86_64.manylinux_2_17_x86_64.manylinux2014_x86_64.whl.metadata (3.1 kB)\n",
      "Collecting openai\n",
      "  Using cached openai-1.10.0-py3-none-any.whl.metadata (18 kB)\n",
      "Requirement already satisfied: grpcio==1.58.0 in /usr/local/lib/python3.11/dist-packages (1.58.0)\n",
      "Collecting pymilvus==2.3.5\n",
      "  Using cached pymilvus-2.3.5-py3-none-any.whl.metadata (4.4 kB)\n",
      "Requirement already satisfied: protobuf in /usr/local/lib/python3.11/dist-packages (4.24.3)\n",
      "Collecting grpcio-tools==1.58.0\n",
      "  Using cached grpcio_tools-1.58.0-cp311-cp311-manylinux_2_17_x86_64.manylinux2014_x86_64.whl.metadata (6.2 kB)\n",
      "Collecting environs<=9.5.0 (from pymilvus==2.3.5)\n",
      "  Using cached environs-9.5.0-py2.py3-none-any.whl (12 kB)\n",
      "Collecting ujson>=2.0.0 (from pymilvus==2.3.5)\n",
      "  Using cached ujson-5.9.0-cp311-cp311-manylinux_2_17_x86_64.manylinux2014_x86_64.whl.metadata (8.7 kB)\n",
      "Collecting pandas>=1.2.4 (from pymilvus==2.3.5)\n",
      "  Using cached pandas-2.2.0-cp311-cp311-manylinux_2_17_x86_64.manylinux2014_x86_64.whl.metadata (19 kB)\n",
      "Requirement already satisfied: requests in /usr/local/lib/python3.11/dist-packages (from pymilvus==2.3.5) (2.31.0)\n",
      "Collecting minio>=7.0.0 (from pymilvus==2.3.5)\n",
      "  Using cached minio-7.2.3-py3-none-any.whl.metadata (6.4 kB)\n",
      "Collecting pyarrow>=12.0.0 (from pymilvus==2.3.5)\n",
      "  Using cached pyarrow-15.0.0-cp311-cp311-manylinux_2_28_x86_64.whl.metadata (3.0 kB)\n",
      "Requirement already satisfied: setuptools in /usr/local/lib/python3.11/dist-packages (from grpcio-tools==1.58.0) (68.2.2)\n",
      "Requirement already satisfied: PyJWT<3,>=1.0.0 in /usr/lib/python3/dist-packages (from PyJWT[crypto]<3,>=1.0.0->msal) (2.3.0)\n",
      "Requirement already satisfied: cryptography<44,>=0.6 in /usr/lib/python3/dist-packages (from msal) (3.4.8)\n",
      "Requirement already satisfied: decorator>=3.4.2 in /usr/local/lib/python3.11/dist-packages (from retry) (5.1.1)\n",
      "Collecting py<2.0.0,>=1.4.26 (from retry)\n",
      "  Using cached py-1.11.0-py2.py3-none-any.whl (98 kB)\n",
      "Requirement already satisfied: anyio<5,>=3.5.0 in /usr/local/lib/python3.11/dist-packages (from openai) (4.0.0)\n",
      "Requirement already satisfied: distro<2,>=1.7.0 in /usr/lib/python3/dist-packages (from openai) (1.7.0)\n",
      "Collecting httpx<1,>=0.23.0 (from openai)\n",
      "  Using cached httpx-0.26.0-py3-none-any.whl.metadata (7.6 kB)\n",
      "Collecting pydantic<3,>=1.9.0 (from openai)\n",
      "  Using cached pydantic-2.5.3-py3-none-any.whl.metadata (65 kB)\n",
      "Requirement already satisfied: sniffio in /usr/local/lib/python3.11/dist-packages (from openai) (1.3.0)\n",
      "Collecting tqdm>4 (from openai)\n",
      "  Using cached tqdm-4.66.1-py3-none-any.whl.metadata (57 kB)\n",
      "Requirement already satisfied: typing-extensions<5,>=4.7 in /usr/local/lib/python3.11/dist-packages (from openai) (4.8.0)\n",
      "Requirement already satisfied: idna>=2.8 in /usr/local/lib/python3.11/dist-packages (from anyio<5,>=3.5.0->openai) (3.4)\n",
      "Collecting marshmallow>=3.0.0 (from environs<=9.5.0->pymilvus==2.3.5)\n",
      "  Using cached marshmallow-3.20.2-py3-none-any.whl.metadata (7.5 kB)\n",
      "Collecting python-dotenv (from environs<=9.5.0->pymilvus==2.3.5)\n",
      "  Using cached python_dotenv-1.0.1-py3-none-any.whl.metadata (23 kB)\n",
      "Requirement already satisfied: certifi in /usr/local/lib/python3.11/dist-packages (from httpx<1,>=0.23.0->openai) (2023.7.22)\n",
      "Collecting httpcore==1.* (from httpx<1,>=0.23.0->openai)\n",
      "  Using cached httpcore-1.0.2-py3-none-any.whl.metadata (20 kB)\n",
      "Collecting h11<0.15,>=0.13 (from httpcore==1.*->httpx<1,>=0.23.0->openai)\n",
      "  Using cached h11-0.14.0-py3-none-any.whl (58 kB)\n",
      "Requirement already satisfied: urllib3 in /usr/local/lib/python3.11/dist-packages (from minio>=7.0.0->pymilvus==2.3.5) (2.0.5)\n",
      "Requirement already satisfied: argon2-cffi in /usr/local/lib/python3.11/dist-packages (from minio>=7.0.0->pymilvus==2.3.5) (23.1.0)\n",
      "Collecting pycryptodome (from minio>=7.0.0->pymilvus==2.3.5)\n",
      "  Using cached pycryptodome-3.20.0-cp35-abi3-manylinux_2_17_x86_64.manylinux2014_x86_64.whl.metadata (3.4 kB)\n",
      "Requirement already satisfied: numpy<2,>=1.23.2 in /usr/local/lib/python3.11/dist-packages (from pandas>=1.2.4->pymilvus==2.3.5) (1.26.0)\n",
      "Requirement already satisfied: python-dateutil>=2.8.2 in /usr/local/lib/python3.11/dist-packages (from pandas>=1.2.4->pymilvus==2.3.5) (2.8.2)\n",
      "Collecting pytz>=2020.1 (from pandas>=1.2.4->pymilvus==2.3.5)\n",
      "  Using cached pytz-2023.3.post1-py2.py3-none-any.whl.metadata (22 kB)\n",
      "Collecting tzdata>=2022.7 (from pandas>=1.2.4->pymilvus==2.3.5)\n",
      "  Using cached tzdata-2023.4-py2.py3-none-any.whl.metadata (1.4 kB)\n",
      "Collecting annotated-types>=0.4.0 (from pydantic<3,>=1.9.0->openai)\n",
      "  Using cached annotated_types-0.6.0-py3-none-any.whl.metadata (12 kB)\n",
      "Collecting pydantic-core==2.14.6 (from pydantic<3,>=1.9.0->openai)\n",
      "  Using cached pydantic_core-2.14.6-cp311-cp311-manylinux_2_17_x86_64.manylinux2014_x86_64.whl.metadata (6.5 kB)\n",
      "Requirement already satisfied: charset-normalizer<4,>=2 in /usr/local/lib/python3.11/dist-packages (from requests->pymilvus==2.3.5) (3.2.0)\n",
      "Requirement already satisfied: packaging>=17.0 in /usr/local/lib/python3.11/dist-packages (from marshmallow>=3.0.0->environs<=9.5.0->pymilvus==2.3.5) (23.1)\n",
      "Requirement already satisfied: six>=1.5 in /usr/lib/python3/dist-packages (from python-dateutil>=2.8.2->pandas>=1.2.4->pymilvus==2.3.5) (1.16.0)\n",
      "Requirement already satisfied: argon2-cffi-bindings in /usr/local/lib/python3.11/dist-packages (from argon2-cffi->minio>=7.0.0->pymilvus==2.3.5) (21.2.0)\n",
      "Requirement already satisfied: cffi>=1.0.1 in /usr/local/lib/python3.11/dist-packages (from argon2-cffi-bindings->argon2-cffi->minio>=7.0.0->pymilvus==2.3.5) (1.15.1)\n",
      "Requirement already satisfied: pycparser in /usr/local/lib/python3.11/dist-packages (from cffi>=1.0.1->argon2-cffi-bindings->argon2-cffi->minio>=7.0.0->pymilvus==2.3.5) (2.21)\n",
      "Using cached pymilvus-2.3.5-py3-none-any.whl (174 kB)\n",
      "Using cached grpcio_tools-1.58.0-cp311-cp311-manylinux_2_17_x86_64.manylinux2014_x86_64.whl (2.6 MB)\n",
      "Using cached msal-1.26.0-py2.py3-none-any.whl (99 kB)\n",
      "Using cached simplejson-3.19.2-cp311-cp311-manylinux_2_5_x86_64.manylinux1_x86_64.manylinux_2_17_x86_64.manylinux2014_x86_64.whl (144 kB)\n",
      "Using cached openai-1.10.0-py3-none-any.whl (225 kB)\n",
      "Using cached httpx-0.26.0-py3-none-any.whl (75 kB)\n",
      "Using cached httpcore-1.0.2-py3-none-any.whl (76 kB)\n",
      "Using cached minio-7.2.3-py3-none-any.whl (92 kB)\n",
      "Using cached pandas-2.2.0-cp311-cp311-manylinux_2_17_x86_64.manylinux2014_x86_64.whl (13.0 MB)\n",
      "Downloading pyarrow-15.0.0-cp311-cp311-manylinux_2_28_x86_64.whl (38.3 MB)\n",
      "\u001b[2K   \u001b[90m━━━━━━━━━━━━━━━━━━━━━━━━━━━━━━━━━━━━━━━━\u001b[0m \u001b[32m38.3/38.3 MB\u001b[0m \u001b[31m10.6 MB/s\u001b[0m eta \u001b[36m0:00:00\u001b[0m00:01\u001b[0m00:01\u001b[0m\n",
      "\u001b[?25hDownloading pydantic-2.5.3-py3-none-any.whl (381 kB)\n",
      "\u001b[2K   \u001b[90m━━━━━━━━━━━━━━━━━━━━━━━━━━━━━━━━━━━━━━━━\u001b[0m \u001b[32m381.9/381.9 kB\u001b[0m \u001b[31m5.0 MB/s\u001b[0m eta \u001b[36m0:00:00\u001b[0ma \u001b[36m0:00:01\u001b[0m\n",
      "\u001b[?25hDownloading pydantic_core-2.14.6-cp311-cp311-manylinux_2_17_x86_64.manylinux2014_x86_64.whl (2.1 MB)\n",
      "\u001b[2K   \u001b[90m━━━━━━━━━━━━━━━━━━━━━━━━━━━━━━━━━━━━━━━━\u001b[0m \u001b[32m2.1/2.1 MB\u001b[0m \u001b[31m11.0 MB/s\u001b[0m eta \u001b[36m0:00:00\u001b[0ma \u001b[36m0:00:01\u001b[0m\n",
      "\u001b[?25hDownloading tqdm-4.66.1-py3-none-any.whl (78 kB)\n",
      "\u001b[2K   \u001b[90m━━━━━━━━━━━━━━━━━━━━━━━━━━━━━━━━━━━━━━━━\u001b[0m \u001b[32m78.3/78.3 kB\u001b[0m \u001b[31m1.9 MB/s\u001b[0m eta \u001b[36m0:00:00\u001b[0ma \u001b[36m0:00:01\u001b[0m\n",
      "\u001b[?25hDownloading ujson-5.9.0-cp311-cp311-manylinux_2_17_x86_64.manylinux2014_x86_64.whl (53 kB)\n",
      "\u001b[2K   \u001b[90m━━━━━━━━━━━━━━━━━━━━━━━━━━━━━━━━━━━━━━━━\u001b[0m \u001b[32m53.2/53.2 kB\u001b[0m \u001b[31m1.2 MB/s\u001b[0m eta \u001b[36m0:00:00\u001b[0ma \u001b[36m0:00:01\u001b[0m\n",
      "\u001b[?25hDownloading annotated_types-0.6.0-py3-none-any.whl (12 kB)\n",
      "Downloading marshmallow-3.20.2-py3-none-any.whl (49 kB)\n",
      "\u001b[2K   \u001b[90m━━━━━━━━━━━━━━━━━━━━━━━━━━━━━━━━━━━━━━━━\u001b[0m \u001b[32m49.4/49.4 kB\u001b[0m \u001b[31m995.6 kB/s\u001b[0m eta \u001b[36m0:00:00\u001b[0ma \u001b[36m0:00:01\u001b[0m\n",
      "\u001b[?25hDownloading pytz-2023.3.post1-py2.py3-none-any.whl (502 kB)\n",
      "\u001b[2K   \u001b[90m━━━━━━━━━━━━━━━━━━━━━━━━━━━━━━━━━━━━━━━━\u001b[0m \u001b[32m502.5/502.5 kB\u001b[0m \u001b[31m4.9 MB/s\u001b[0m eta \u001b[36m0:00:00\u001b[0ma \u001b[36m0:00:01\u001b[0m\n",
      "\u001b[?25hDownloading tzdata-2023.4-py2.py3-none-any.whl (346 kB)\n",
      "\u001b[2K   \u001b[90m━━━━━━━━━━━━━━━━━━━━━━━━━━━━━━━━━━━━━━━━\u001b[0m \u001b[32m346.6/346.6 kB\u001b[0m \u001b[31m3.0 MB/s\u001b[0m eta \u001b[36m0:00:00\u001b[0ma \u001b[36m0:00:01\u001b[0mm\n",
      "\u001b[?25hDownloading pycryptodome-3.20.0-cp35-abi3-manylinux_2_17_x86_64.manylinux2014_x86_64.whl (2.1 MB)\n",
      "\u001b[2K   \u001b[90m━━━━━━━━━━━━━━━━━━━━━━━━━━━━━━━━━━━━━━━━\u001b[0m \u001b[32m2.1/2.1 MB\u001b[0m \u001b[31m10.4 MB/s\u001b[0m eta \u001b[36m0:00:00\u001b[0ma \u001b[36m0:00:01\u001b[0m\n",
      "\u001b[?25hDownloading python_dotenv-1.0.1-py3-none-any.whl (19 kB)\n",
      "Installing collected packages: pytz, ujson, tzdata, tqdm, simplejson, python-dotenv, pydantic-core, pycryptodome, pyarrow, py, marshmallow, h11, grpcio-tools, annotated-types, retry, pydantic, pandas, msal, httpcore, environs, httpx, openai, minio, pymilvus\n",
      "Successfully installed annotated-types-0.6.0 environs-9.5.0 grpcio-tools-1.58.0 h11-0.14.0 httpcore-1.0.2 httpx-0.26.0 marshmallow-3.20.2 minio-7.2.3 msal-1.26.0 openai-1.10.0 pandas-2.2.0 py-1.11.0 pyarrow-15.0.0 pycryptodome-3.20.0 pydantic-2.5.3 pydantic-core-2.14.6 pymilvus-2.3.5 python-dotenv-1.0.1 pytz-2023.3.post1 retry-0.9.2 simplejson-3.19.2 tqdm-4.66.1 tzdata-2023.4 ujson-5.9.0\n",
      "\u001b[33mWARNING: Running pip as the 'root' user can result in broken permissions and conflicting behaviour with the system package manager. It is recommended to use a virtual environment instead: https://pip.pypa.io/warnings/venv\u001b[0m\u001b[33m\n",
      "\u001b[0m"
     ]
    }
   ],
   "source": [
    "!pip install  --trusted-host pypi.python.org --trusted-host pypi.org --trusted-host files.pythonhosted.org \\\n",
    "msal \\\n",
    "retry \\\n",
    "simplejson \\\n",
    "openai \\\n",
    "grpcio==1.58.0 \\\n",
    "pymilvus==2.3.5 \\\n",
    "protobuf \\\n",
    "grpcio-tools==1.58.0"
   ]
  },
  {
   "cell_type": "code",
   "execution_count": 5,
   "id": "d9a6ae04-c6e9-4774-9284-31b441f59ece",
   "metadata": {},
   "outputs": [],
   "source": [
    "import os\n",
    "import openai\n",
    "import requests\n",
    "import simplejson as json\n",
    "from retry import retry\n",
    "from msal import PublicClientApplication, ConfidentialClientApplication, ClientApplication\n",
    "import time"
   ]
  },
  {
   "cell_type": "code",
   "execution_count": 10,
   "id": "4ba72e62-598b-423f-b694-900e9850ab4b",
   "metadata": {},
   "outputs": [],
   "source": [
    "@retry (tries=3, delay=2)\n",
    "def getapikey():\n",
    "    # These are the AZURE parameters needed by the client application\n",
    "    # In this scheme, the user does not have to worry about the api key, all of that is handled\n",
    "    # at the AZURE Back End.   The API key is rotated hourly.\n",
    "    # We can handle these as Kuberbetes secrets, or as environment variables.\n",
    "    client_id = os.getenv(\"AZURE_CLIENT_ID\")\n",
    "    tenant_id = os.getenv(\"AZURE_TENANT_ID\")\n",
    "    endpoint = os.getenv(\"AZURE_ENDPOINT\")\n",
    "\n",
    "    scopes = [os.getenv(\"AZURE_APPLICATION_SCOPE\")]\n",
    "\n",
    "    app = ClientApplication(\n",
    "        client_id=client_id,\n",
    "        authority=\"https://login.microsoftonline.com/\" + tenant_id\n",
    "    )\n",
    "\n",
    "\n",
    "    acquire_tokens_result = app.acquire_token_by_username_password(username=os.getenv(\"SVC_ACCOUNT\"),\n",
    "                                                                   password=os.getenv(\"SVC_PASSWORD\"),\n",
    "                                                                   scopes=scopes)\n",
    "    if 'error' in acquire_tokens_result:\n",
    "        print(\"Error: \" + acquire_tokens_result['error'])\n",
    "        print(\"Description: \" + acquire_tokens_result['error_description'])\n",
    "        return 2\n",
    "    else:\n",
    "        header_token = {\"Authorization\": \"Bearer {}\".format(acquire_tokens_result['access_token'])}\n",
    "        rt = requests.post(url=endpoint, headers=header_token, data=b'{\"key\":\"openaikey2\"}')\n",
    "        return rt.json()"
   ]
  },
  {
   "cell_type": "code",
   "execution_count": 11,
   "id": "767de030-c9e3-4f2c-89c8-0268b7c3c3ed",
   "metadata": {},
   "outputs": [
    {
     "name": "stdout",
     "output_type": "stream",
     "text": [
      "{'token_type': 'Bearer', 'scope': 'api://955373bc-d80f-4b35-a792-22a8537c059b/ApiUser.Read', 'expires_in': 4478, 'ext_expires_in': 4478, 'access_token': 'eyJ0eXAiOiJKV1QiLCJhbGciOiJSUzI1NiIsImtpZCI6IjVCM25SeHRRN2ppOGVORGMzRnkwNUtmOTdaRSJ9.eyJhdWQiOiI5NTUzNzNiYy1kODBmLTRiMzUtYTc5Mi0yMmE4NTM3YzA1OWIiLCJpc3MiOiJodHRwczovL2xvZ2luLm1pY3Jvc29mdG9ubGluZS5jb20vM2U5YWFkZjgtNmExNi00OTBmLThkY2QtYzY4ODYwY2FhZTBiL3YyLjAiLCJpYXQiOjE3MDYyODQyNDYsIm5iZiI6MTcwNjI4NDI0NiwiZXhwIjoxNzA2Mjg5MDI1LCJhaW8iOiJBVVFBdS84VkFBQUFTNEYvajNIY2pBWVJzYVM2eXlldVE4NHVidWFOcWY1N0Q1MUdXMU9SbHBncEszVUNtME04NDNuMUtmeENHSjl2ZXNHZ3grVXlVMlVsTGNmR1FhTjl5dz09IiwiYXpwIjoiOTU1MzczYmMtZDgwZi00YjM1LWE3OTItMjJhODUzN2MwNTliIiwiYXpwYWNyIjoiMCIsIm5hbWUiOiJzdmMgY2hhdGdwdC1hcGkiLCJvaWQiOiIzZjM1MzJkMi1jZjE1LTQ1NDktYWRiNy0yYWRhYmNlYmUwNTgiLCJwcmVmZXJyZWRfdXNlcm5hbWUiOiJzdmMuY2hhdGdwdC1hcGlAcmVnZW5lcm9uLmNvbSIsInJoIjoiMC5BWFlBLUsyYVBoWnFEMG1OemNhSVlNcXVDN3h6VTVVUDJEVkxwNUlpcUZOOEJadTBBTDQuIiwic2NwIjoiQXBpVXNlci5SZWFkIiwic3ViIjoiVlhOQkQ4Y3VMZmhJV0dsanRQX1JyQk5IUWpaLXlvdHZ1cENhQkR5TzBoVSIsInRpZCI6IjNlOWFhZGY4LTZhMTYtNDkwZi04ZGNkLWM2ODg2MGNhYWUwYiIsInV0aSI6IjFGUE8tYUt2dGsteFczOHg4N0RsQUEiLCJ2ZXIiOiIyLjAifQ.BJKvcRN_6dkesY-hEwJcHLMy-6xIk3PFWX0tP8buog5edgJITB7PYwsGINcNSgXWIA1TeyUJZB3RAior1Olqh-sp1Pv9m0x0vCpKzkqv7GexlCOQK_MfJJ5dpBSgZ0n7nxrnKyrmIz7rH4tKkm0j-HJ5Kz6XvwgzLUAdj83sEM51yqAMT2JjU-UrjE7POWzK8c5Lz_58cmugmtZ-lmW-kwbR1Z07pkhREYnLrX3LpHjOVcIGaNKgRGTfOZuU_jB-CyRIxUiN-QO-RIjTF3xWwUa2ZD0B8QhUewgfGZ6KfZojbT5fqAxBcNRV5euuJmWhPDL8MmLse0-H51BdXM7byw', 'refresh_token': '0.AXYA-K2aPhZqD0mNzcaIYMquC7xzU5UP2DVLp5IiqFN8BZu0AL4.AgABAAEAAAAmoFfGtYxvRrNriQdPKIZ-AgDs_wUA9P_yR-BFDMjbC61yt6FPcLIQT_w3eb9pq-3EYGj_AzbWilX0XuN9IwnQGM-nHNDVaM8FKZI8hH9oTYmE3h2qeKk82bC_011hyktDQdgX_ekO6B-waJZZFUFsqZxyjhnPnmZ-jIxgDGvWPZwT8ACjvDeV7uDkAc0365yFNYLJ6NMkYzCxo_nGKfwHpDb4CmGdLWKWFYNyZgqAMxktEc-IBXB0cYQhXUdV_2mTEVlv3rZbBihmOP82hJm_b0jFuc-Vx-iSyr01dH-6WJ8DR9hQWGUs52PniROj81H23-LAcS62ypZqYg0oRhparwhySnJHI7IMyYMGGMWbYP8UPNnJ_jRKLonqlMHw6U-oJuj2se5NiFfkU69TMpPbyNjk8HvHQQIoH3X3aE0pobBBX2h1V-ZpqVAMbwpje-hlNPEO-Cr4uQHrUcfRQPhz87Hk8gPwz0_lilwRMmHYi1PAtDBzpJSGwMsK-ZsA77ar2N_pWB-A-POIdJWcknZKlty1wo99QEw8V4I7AgV44xJxFIUD_eHPmS8OnHrysD7mdEl2uuVehaIyQbhADdKAPglAAJ2buWONVeZch8bD9x09VESkdO6gC2basgmrRnmi3wTjZvavJrZsXsaOuJxGveAIx-Z2eqXA7qV_azj2B1aJ_w_jjiZJpRDedJ1Phjfoiqmlh5kmFKW0DGRIgLFUnwyNfA5U33GyrMNsgOooAyVz2JYLuxomKyQ3VWpVkYMy-T62PIa3DfObtLa949Vu6raZ9-5F9hfRYmjlTyZ54tYah_AvgzV092Obv0seXjtb6fe-MNBzse1ayfQMM3OCaIcZuiebitUztm9iG-62reGUZhs', 'id_token': 'eyJ0eXAiOiJKV1QiLCJhbGciOiJSUzI1NiIsImtpZCI6IjVCM25SeHRRN2ppOGVORGMzRnkwNUtmOTdaRSJ9.eyJhdWQiOiI5NTUzNzNiYy1kODBmLTRiMzUtYTc5Mi0yMmE4NTM3YzA1OWIiLCJpc3MiOiJodHRwczovL2xvZ2luLm1pY3Jvc29mdG9ubGluZS5jb20vM2U5YWFkZjgtNmExNi00OTBmLThkY2QtYzY4ODYwY2FhZTBiL3YyLjAiLCJpYXQiOjE3MDYyODQyNDYsIm5iZiI6MTcwNjI4NDI0NiwiZXhwIjoxNzA2Mjg4MTQ2LCJhaW8iOiJBVVFBdS84VkFBQUE2dTNRUVNtdU4zL0RGWXd4MkpuYUl0Z24xNmtGSXpTWmZkU0xGUE5xNGpOQmdCSG1lOHRhK3h2VjhJdnJkYVUrZGpUTVhkUkh6T3V2d0ZVbVpQczQ3dz09IiwibmFtZSI6InN2YyBjaGF0Z3B0LWFwaSIsIm9pZCI6IjNmMzUzMmQyLWNmMTUtNDU0OS1hZGI3LTJhZGFiY2ViZTA1OCIsInByZWZlcnJlZF91c2VybmFtZSI6InN2Yy5jaGF0Z3B0LWFwaUByZWdlbmVyb24uY29tIiwicmgiOiIwLkFYWUEtSzJhUGhacUQwbU56Y2FJWU1xdUM3eHpVNVVQMkRWTHA1SWlxRk44Qlp1MEFMNC4iLCJzdWIiOiJWWE5CRDhjdUxmaElXR2xqdFBfUnJCTkhRaloteW90dnVwQ2FCRHlPMGhVIiwidGlkIjoiM2U5YWFkZjgtNmExNi00OTBmLThkY2QtYzY4ODYwY2FhZTBiIiwidXRpIjoiMUZQTy1hS3Z0ay14VzM4eDg3RGxBQSIsInZlciI6IjIuMCJ9.U0QTZFrafnzToL2HGULp3VqkG2zZE9wM-1ApTnP8rijW16w5kF3Yk1Od1RrgFi0rzJoQPlKB0dzmWsl19CZJsVlBalG32lRR1zO_5chdp70H-GQcfJR58HEeorQAiER8-sNnRa7R-8rlZQ4VenpHhTi2AcPKWxVGqVzT1juHvRVt3s0mEWcwZNPkHaqikYBKs98i_MQyOrAqo6B9uwWyX6cSvOpSKIyUMGWbOV_dnQ7902fJO0CsgvJ9_PEgTWuZ5g4vHr_PxuanuFjjhPvlK0ghd53j1w6Q8fLv5oh5ZGgp0-hewr-5YCDK0aHkBpJvSGiNBtswqy_9PW5pd8gT0g', 'client_info': 'eyJ1aWQiOiIzZjM1MzJkMi1jZjE1LTQ1NDktYWRiNy0yYWRhYmNlYmUwNTgiLCJ1dGlkIjoiM2U5YWFkZjgtNmExNi00OTBmLThkY2QtYzY4ODYwY2FhZTBiIn0', 'id_token_claims': {'aud': '955373bc-d80f-4b35-a792-22a8537c059b', 'iss': 'https://login.microsoftonline.com/3e9aadf8-6a16-490f-8dcd-c68860caae0b/v2.0', 'iat': 1706284246, 'nbf': 1706284246, 'exp': 1706288146, 'aio': 'AUQAu/8VAAAA6u3QQSmuN3/DFYwx2JnaItgn16kFIzSZfdSLFPNq4jNBgBHme8ta+xvV8IvrdaU+djTMXdRHzOuvwFUmZPs47w==', 'name': 'svc chatgpt-api', 'oid': '3f3532d2-cf15-4549-adb7-2adabcebe058', 'preferred_username': 'svc.chatgpt-api@regeneron.com', 'rh': '0.AXYA-K2aPhZqD0mNzcaIYMquC7xzU5UP2DVLp5IiqFN8BZu0AL4.', 'sub': 'VXNBD8cuLfhIWGljtP_RrBNHQjZ-yotvupCaBDyO0hU', 'tid': '3e9aadf8-6a16-490f-8dcd-c68860caae0b', 'uti': '1FPO-aKvtk-xW38x87DlAA', 'ver': '2.0'}, 'token_source': 'identity_provider'}\n",
      "c209e393e0bc4b7caaadf1342147f448\n"
     ]
    }
   ],
   "source": [
    "openai.api_type = os.getenv(\"OPENAI_API_TYPE\")\n",
    "openai.api_base = os.getenv(\"OPENAI_API_BASE\")\n",
    "openai.api_version = os.getenv(\"OPENAI_API_VERSION\")\n",
    "# We are dynamically getting the key from AZURE>   Access is based on the service account/ad group combination\n",
    "openai.api_key = getapikey()\n",
    "print(openai.api_key)"
   ]
  },
  {
   "cell_type": "code",
   "execution_count": null,
   "id": "63859fee-2954-4cef-8181-439af601d142",
   "metadata": {},
   "outputs": [],
   "source": [
    "import os\n",
    "from openai import AzureOpenAI\n",
    "\n",
    "client = AzureOpenAI(\n",
    "  api_key = getapikey(),  \n",
    "  api_version = os.getenv(\"OPENAI_API_VERSION\"),\n",
    "  azure_endpoint = os.getenv(\"AZURE_OPENAI_ENDPOINT\")\n",
    ")\n",
    "\n",
    "protein = \"{\\\"_id\\\":\\\"582b467fbd364f2b2a00009c\\\",\\\"_type\\\":\\\"Protein\\\",\\\"associated_plasmid_regn_names\\\":[],\\\"created_at\\\":\\\"2016-11-15T17:31:43.154Z\\\",\\\"created_by\\\":\\\"kristin.hudson\\\",\\\"eln_ref\\\":\\\"https://researcheln.regeneron.regn.com:8443/EWorkbookWebApp/#entity/displayEntity?entityId=e4cd7280ab5811e6a49840a8f01e721c\\\\u0026r=y\\\",\\\"linked_pes_prgns\\\":null,\\\"pes_created_at\\\":null,\\\"pes_created_by\\\":null,\\\"project_numbers\\\":[],\\\"protein_chain_ids\\\":[\\\"582b45c777ab416e41000031\\\",\\\"582b462ebd364f2b2a00009b\\\"],\\\"protein_sources\\\":[{\\\"_id\\\":\\\"5f7e341e7baad70118845ce8\\\",\\\"created_at\\\":\\\"2020-10-07T21:33:18.831Z\\\",\\\"regn_name\\\":\\\"PN22022\\\",\\\"updated_at\\\":\\\"2020-10-07T21:33:18.831Z\\\"}],\\\"protein_type\\\":{\\\"_id\\\":\\\"5d07a07a700f3e489862adc1\\\",\\\"chain_structure\\\":[2,2],\\\"chains\\\":4,\\\"created_at\\\":\\\"2016-11-09T19:27:50.386Z\\\",\\\"name\\\":\\\"Standard mAb\\\",\\\"protein_category\\\":\\\"Common Antibody \\\\u0026 Antibody-like Formats\\\",\\\"protein_id\\\":null,\\\"svg\\\":\\\"data:image/svg+xml;base64, IDxzdmcgdmVyc2lvbj0iMS4xIiBpZD0iTGF5ZXJfMSIgeG1sbnM9Imh0dHA6\\\\nLy93d3cudzMub3JnLzIwMDAvc3ZnIiB4bWxuczp4bGluaz0iaHR0cDovL3d3\\\\ndy53My5vcmcvMTk5OS94bGluayIgeD0iMHB4IiB5PSIwcHgiIHdpZHRoPSIz\\\\nODhweCIgaGVpZ2h0PSIzNTkuMjI3cHgiIHZpZXdCb3g9IjAgMCAzODggMzU5\\\\nLjIyNyIgZW5hYmxlLWJhY2tncm91bmQ9Im5ldyAwIDAgMzg4IDM1OS4yMjci\\\\nIHhtbDpzcGFjZT0icHJlc2VydmUiPiA8Zz4gPGc+IDxyZWN0IHg9IjE5Ni41\\\\nIiB5PSIxNTYuOTc3IiBmaWxsPSIjQ0MwMDAwIiB3aWR0aD0iMjYuMTU3IiBo\\\\nZWlnaHQ9IjE4NC41Ii8+IDwvZz4gPC9nPiA8Zz4gPGc+IDxyZWN0IHg9IjE2\\\\nNy41IiB5PSIxNTYuOTc3IiBmaWxsPSIjQ0MwMDAwIiB3aWR0aD0iMjYuMTU3\\\\nIiBoZWlnaHQ9IjE4NC41Ii8+IDwvZz4gPC9nPiA8cmVjdCB4PSIzNTEuNSIg\\\\neT0iMzI3LjcyNyIgZmlsbD0iI0NDMDAwMSIgd2lkdGg9IjEiIGhlaWdodD0i\\\\nMCIvPiA8Zz4gPHJlY3QgeD0iMjY1LjU2MSIgeT0iLTkuNzUyIiB0cmFuc2Zv\\\\ncm09Im1hdHJpeCgwLjcwNzEgMC43MDcxIC0wLjcwNzEgMC43MDcxIDEzOS45\\\\nNDY3IC0xNzIuODY1MikiIGZpbGw9IiNDQzAwMDAiIHdpZHRoPSIyNi4xNTci\\\\nIGhlaWdodD0iMTg0LjUiLz4gPC9nPiA8Zz4gPHJlY3QgeD0iOTguNDM5IiB5\\\\nPSItOS43NTIiIHRyYW5zZm9ybT0ibWF0cml4KC0wLjcwNzEgMC43MDcxIC0w\\\\nLjcwNzEgLTAuNzA3MSAyNDguNzA3NiA2MS45ODA5KSIgZmlsbD0iI0NDMDAw\\\\nMCIgd2lkdGg9IjI2LjE1NyIgaGVpZ2h0PSIxODQuNSIvPiA8L2c+IDxnPiA8\\\\ncmVjdCB4PSI3Ni43OTMiIHk9IjExLjc4NCIgdHJhbnNmb3JtPSJtYXRyaXgo\\\\nLTAuNzA3MSAwLjcwNzEgLTAuNzA3MSAtMC43MDcxIDIyNi43OTU2IDExMy41\\\\nOTgpIiBmaWxsPSIjMDAwMEZGIiB3aWR0aD0iMjYuMTU3IiBoZWlnaHQ9IjE4\\\\nMy45NyIvPiA8L2c+IDxnPiA8cmVjdCB4PSIyODguMjQ1IiB5PSIxMS43ODUi\\\\nIHRyYW5zZm9ybT0ibWF0cml4KC0wLjcwNzEgLTAuNzA3MSAwLjcwNzEgLTAu\\\\nNzA3MSA0NDEuMDE2MSAzOTAuMjEzOSkiIGZpbGw9IiMwMDAwRkYiIHdpZHRo\\\\nPSIyNi4xNTciIGhlaWdodD0iMTgzLjk3Ii8+IDwvZz4gPC9zdmc+IA==\\\\n\\\",\\\"unique_chains\\\":2,\\\"updated_at\\\":\\\"2016-11-09T19:27:50.386Z\\\"},\\\"purposes\\\":[\\\"Isotype Control\\\"],\\\"pushed_to_lims\\\":true,\\\"regn_name\\\":\\\"REGN5012\\\",\\\"regn_number\\\":5012,\\\"resolved_at\\\":\\\"2016-11-15T17:31:43.154Z\\\",\\\"resolved_by\\\":\\\"kristin.hudson\\\",\\\"synonyms\\\":[{\\\"_id\\\":\\\"5b6020e3700f3e449e654a63\\\",\\\"type\\\":\\\"abpid\\\",\\\"value\\\":\\\"H4H22022N\\\"}],\\\"updated_at\\\":\\\"2023-04-21T09:45:56.211Z\\\"}\"\n",
    "\n",
    "response = client.embeddings.create(\n",
    "    input = protein,\n",
    "    model= \"RegnADA002\"\n",
    ")"
   ]
  },
  {
   "cell_type": "code",
   "execution_count": null,
   "id": "e33eab41-23fa-43ee-b772-69f4ff8026c3",
   "metadata": {},
   "outputs": [],
   "source": [
    "print(f\"JSON string length: {len(protein)}\")\n",
    "len(response.data[0].embedding)"
   ]
  },
  {
   "cell_type": "code",
   "execution_count": null,
   "id": "f02790f6-1ef1-45e2-9df7-e56a14e134ee",
   "metadata": {},
   "outputs": [],
   "source": [
    "from pymilvus import connections, utility, db\n",
    "conn = connections.connect(host=\"standalone\", port=19530, db_name=\"default\")\n",
    "db.list_database()"
   ]
  },
  {
   "cell_type": "code",
   "execution_count": null,
   "id": "490e61e8-59d1-407e-8287-e7d46eaabca8",
   "metadata": {},
   "outputs": [],
   "source": [
    "found = False\n",
    "for database_name in db.list_database():\n",
    "    if database_name == \"bioregistry\":\n",
    "        found = True\n",
    "if not found:\n",
    "    db.create_database(\"bioregistry\")"
   ]
  },
  {
   "cell_type": "code",
   "execution_count": null,
   "id": "f5efc439-ab31-4c8d-94e2-dfd6513481c5",
   "metadata": {},
   "outputs": [],
   "source": [
    "db.list_database()"
   ]
  },
  {
   "cell_type": "code",
   "execution_count": null,
   "id": "3a3fa510-9a81-49f4-b467-906abda15bbc",
   "metadata": {},
   "outputs": [],
   "source": [
    "db.using_database(\"bioregistry\")"
   ]
  },
  {
   "cell_type": "code",
   "execution_count": null,
   "id": "57497c63-f995-4194-995f-df7deacb86e9",
   "metadata": {},
   "outputs": [],
   "source": [
    "utility.list_collections()"
   ]
  },
  {
   "cell_type": "code",
   "execution_count": null,
   "id": "f104c447-505d-4e3e-a878-f6b39634b510",
   "metadata": {},
   "outputs": [],
   "source": [
    "new_collection_name = \"proteins\""
   ]
  },
  {
   "cell_type": "code",
   "execution_count": null,
   "id": "2661c2e5-5bb1-4dcf-8496-d2ac22286198",
   "metadata": {},
   "outputs": [],
   "source": [
    "for collection_name in utility.list_collections():\n",
    "    if collection_name == new_collection_name:\n",
    "        utility.drop_collection(new_collection_name)"
   ]
  },
  {
   "cell_type": "code",
   "execution_count": null,
   "id": "6ccfc66d-7e5b-4d42-9de9-a40bf0e2ab77",
   "metadata": {},
   "outputs": [],
   "source": [
    "from pymilvus import CollectionSchema, FieldSchema, DataType\n",
    "\n",
    "protein_id = FieldSchema(\n",
    "  name=\"protein_id\",\n",
    "  dtype=DataType.INT64,\n",
    "  is_primary=True,\n",
    ")\n",
    "\n",
    "name = FieldSchema(\n",
    "  name=\"name\",\n",
    "  dtype=DataType.VARCHAR,\n",
    "  max_length=32,\n",
    "  # The default value will be used if this field is left empty during data inserts or upserts.\n",
    "  # The data type of `default_value` must be the same as that specified in `dtype`.\n",
    "  default_value=\"Unknown\"\n",
    ")\n",
    "\n",
    "char_count = FieldSchema(\n",
    "  name=\"char_count\",\n",
    "  dtype=DataType.INT64,\n",
    "  # The default value will be used if this field is left empty during data inserts or upserts.\n",
    "  # The data type of `default_value` must be the same as that specified in `dtype`.\n",
    "  default_value=9999\n",
    ")\n",
    "\n",
    "protein_json = FieldSchema(\n",
    "  name=\"protein_json\",\n",
    "  dtype=DataType.VARCHAR,\n",
    "  max_length=4000,\n",
    "  # The default value will be used if this field is left empty during data inserts or upserts.\n",
    "  # The data type of `default_value` must be the same as that specified in `dtype`.\n",
    "  default_value=\"Unknown\"\n",
    ")\n",
    "\n",
    "protein_vector = FieldSchema(\n",
    "  name=\"protein_vector\",\n",
    "  dtype=DataType.FLOAT_VECTOR,\n",
    "  dim=1536\n",
    ")\n",
    "\n",
    "schema = CollectionSchema(\n",
    "  fields=[protein_id, name, char_count, protein_json, protein_vector],\n",
    "  description=\"Protein search\",\n",
    "  enable_dynamic_field=True\n",
    ")"
   ]
  },
  {
   "cell_type": "code",
   "execution_count": null,
   "id": "a128af32-0eea-43a9-98c3-b036fdd27baa",
   "metadata": {},
   "outputs": [],
   "source": [
    "from pymilvus import Collection\n",
    "collection = Collection(\n",
    "    name=new_collection_name,\n",
    "    schema=schema,\n",
    "    using='default',\n",
    "    shards_num=2\n",
    "    )"
   ]
  },
  {
   "cell_type": "code",
   "execution_count": null,
   "id": "d487a862",
   "metadata": {},
   "outputs": [],
   "source": [
    "collection.create_partition(\"Disc1\")\n",
    "collection.has_partition(\"Disc1\")"
   ]
  },
  {
   "cell_type": "code",
   "execution_count": null,
   "id": "343767bf",
   "metadata": {},
   "outputs": [],
   "source": [
    "collection.create_partition(\"Disc2\")\n",
    "collection.has_partition(\"Disc2\")"
   ]
  },
  {
   "cell_type": "code",
   "execution_count": null,
   "id": "334b0610",
   "metadata": {},
   "outputs": [],
   "source": [
    "from pymilvus import Partition\n",
    "disc2 = Partition(collection, name=\"Disc2\")\n",
    "disc2.release()\n",
    "collection.drop_partition(\"Disc2\")\n",
    "collection.has_partition(\"Disc2\")"
   ]
  },
  {
   "cell_type": "code",
   "execution_count": null,
   "id": "0b92e40a-3706-4bb5-9963-f474c6903783",
   "metadata": {},
   "outputs": [],
   "source": [
    "import json\n",
    "protein_obj = json.loads(protein)\n",
    "protein_obj['regn_name']"
   ]
  },
  {
   "cell_type": "code",
   "execution_count": null,
   "id": "09183e35-94ec-4ff3-9858-715fda764110",
   "metadata": {},
   "outputs": [],
   "source": [
    "utility.list_collections()"
   ]
  },
  {
   "cell_type": "code",
   "execution_count": null,
   "id": "18cbfe7e-7c9b-46b6-a868-696789bb8b30",
   "metadata": {},
   "outputs": [],
   "source": [
    "# Insert one vetcor\n",
    "# { protein_id, name, char_count, protein_json, protein_vector }\n",
    "protein_id_column = [1]\n",
    "name_column = [protein_obj['regn_name']]\n",
    "char_count_column = [len(protein)]\n",
    "protein_json_column = [protein]\n",
    "protein_vector_column = [response.data[0].embedding]"
   ]
  },
  {
   "cell_type": "code",
   "execution_count": null,
   "id": "f27f9b98-992d-4710-a688-910c2649c3c0",
   "metadata": {},
   "outputs": [],
   "source": [
    "data = [protein_id_column, name_column, char_count_column, protein_json_column, protein_vector_column]"
   ]
  },
  {
   "cell_type": "code",
   "execution_count": null,
   "id": "56a1c8db-9867-4d97-93b5-276f5e7a2985",
   "metadata": {},
   "outputs": [],
   "source": [
    "mr = collection.upsert(data)"
   ]
  },
  {
   "cell_type": "code",
   "execution_count": null,
   "id": "98bd156e-be2b-4777-9ce8-a5e5bfa74d16",
   "metadata": {},
   "outputs": [],
   "source": [
    "mr"
   ]
  },
  {
   "cell_type": "code",
   "execution_count": null,
   "id": "58691a4c",
   "metadata": {},
   "outputs": [],
   "source": [
    "\n",
    "collection.compact()"
   ]
  },
  {
   "cell_type": "code",
   "execution_count": null,
   "id": "be24ed2d",
   "metadata": {},
   "outputs": [],
   "source": [
    "index_params = {\n",
    "  \"metric_type\":\"L2\",\n",
    "  \"index_type\":\"IVF_SQ8\",\n",
    "  \"params\":{\"nlist\":1024},\n",
    "  \n",
    "}\n",
    "collection.create_index(\n",
    "  field_name=\"protein_vector\", \n",
    "  index_name=\"protein_vector_idx\",\n",
    "  index_params=index_params\n",
    ")"
   ]
  },
  {
   "cell_type": "code",
   "execution_count": null,
   "id": "fd9a5df8",
   "metadata": {},
   "outputs": [],
   "source": [
    "# index on a scalar field\n",
    "collection.create_index(\n",
    "  field_name=\"name\", \n",
    "  index_name=\"protein_name_idx\"\n",
    ")"
   ]
  },
  {
   "cell_type": "code",
   "execution_count": null,
   "id": "24b2f386-593f-4714-8771-e575e1add9ed",
   "metadata": {},
   "outputs": [],
   "source": [
    "# Search , Query and Hybrid"
   ]
  },
  {
   "cell_type": "code",
   "execution_count": null,
   "id": "3209e9fd-7618-484c-a1b4-8ff7c3ed6b40",
   "metadata": {},
   "outputs": [],
   "source": [
    "search_string = \"kristin.hudson\" \n",
    "response = client.embeddings.create(\n",
    "    input = search_string,\n",
    "    model= \"RegnADA002\"\n",
    ")\n",
    "query_embedding = response.data[0].embedding\n",
    "query_embedding"
   ]
  },
  {
   "cell_type": "code",
   "execution_count": null,
   "id": "72c7c975-4d76-4336-a7ac-fbbdec0c8ff8",
   "metadata": {},
   "outputs": [],
   "source": [
    "search_params = {\n",
    "    \"metric_type\": \"L2\", \n",
    "    \"params\": {\"search_k\": 64}\n",
    "}"
   ]
  },
  {
   "cell_type": "code",
   "execution_count": null,
   "id": "3d019497-50e4-47fc-8561-9f3293c88243",
   "metadata": {},
   "outputs": [],
   "source": [
    "# Search\n",
    "collection = Collection(new_collection_name)\n",
    "utility.list_collections()\n",
    "collection.load()\n",
    "results =  collection.search(\n",
    "    data=[query_embedding],\n",
    "    anns_field=\"protein_vector\",\n",
    "    param=search_params,\n",
    "    limit=5,\n",
    "    expr=None,\n",
    "    output_fields=['protein_json']\n",
    ")\n",
    "for result in results[0]:\n",
    "    print(result)"
   ]
  },
  {
   "cell_type": "code",
   "execution_count": null,
   "id": "811f7f28-df2e-48ea-8f76-6abb89037526",
   "metadata": {},
   "outputs": [],
   "source": [
    "query_expr = f\"name == '{protein_obj['regn_name']}'\""
   ]
  },
  {
   "cell_type": "code",
   "execution_count": null,
   "id": "dedc3ffd-e71f-4fd3-addb-d417da1d841b",
   "metadata": {},
   "outputs": [],
   "source": [
    "# Query\n",
    "collection = Collection(new_collection_name)\n",
    "utility.list_collections()\n",
    "collection.load()\n",
    "results = collection.query(\n",
    "    expr = query_expr,\n",
    "    offset = 0,\n",
    "    limit = 10, \n",
    "    output_fields = [\"name\", \"protein_json\"]\n",
    ")\n",
    "results[0]"
   ]
  },
  {
   "cell_type": "code",
   "execution_count": null,
   "id": "03622b4b-2077-4208-8e50-63d0d0a58be4",
   "metadata": {},
   "outputs": [],
   "source": [
    "# Hybrid : sama as search with expr provided\n",
    "results =  collection.search(\n",
    "    data=[query_embedding],\n",
    "    anns_field=\"protein_vector\",\n",
    "    param=search_params,\n",
    "    limit=5,\n",
    "    expr=query_expr,\n",
    "    output_fields=['protein_json']\n",
    ")\n",
    "for result in results[0]:\n",
    "    print(result)"
   ]
  },
  {
   "cell_type": "code",
   "execution_count": null,
   "id": "78dc95f9-8c79-4a90-8611-f72e17ae9c6c",
   "metadata": {},
   "outputs": [],
   "source": []
  }
 ],
 "metadata": {
  "kernelspec": {
   "display_name": "Python 3 (ipykernel)",
   "language": "python",
   "name": "python3"
  },
  "language_info": {
   "codemirror_mode": {
    "name": "ipython",
    "version": 3
   },
   "file_extension": ".py",
   "mimetype": "text/x-python",
   "name": "python",
   "nbconvert_exporter": "python",
   "pygments_lexer": "ipython3",
   "version": "3.11.0rc1"
  }
 },
 "nbformat": 4,
 "nbformat_minor": 5
}
