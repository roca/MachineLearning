{
 "cells": [
  {
   "cell_type": "markdown",
   "id": "75d4fae5-9b39-4dce-97c0-ebe8330b31fe",
   "metadata": {},
   "source": [
    "# [Reverse Image Search on Milvus](https://milvus.io/bootcamp)\n",
    "##  Code ref: https://github.com/towhee-io/examples/tree/main/image/reverse_image_search"
   ]
  },
  {
   "cell_type": "markdown",
   "id": "80cc26af",
   "metadata": {},
   "source": []
  },
  {
   "cell_type": "code",
   "execution_count": null,
   "id": "38d98f95-850c-43b1-8025-9a8d475238eb",
   "metadata": {},
   "outputs": [],
   "source": [
    "!pip install --trusted-host pypi.python.org --trusted-host pypi.org --trusted-host files.pythonhosted.org --upgrade pip"
   ]
  },
  {
   "cell_type": "code",
   "execution_count": null,
   "id": "9f7cb266-a8b8-4f43-9774-eaf4e3b9dd58",
   "metadata": {},
   "outputs": [],
   "source": [
    "!pip install  --trusted-host pypi.python.org --trusted-host pypi.org --trusted-host files.pythonhosted.org \\\n",
    "msal \\\n",
    "retry \\\n",
    "simplejson \\\n",
    "openai \\\n",
    "grpcio==1.58.0 \\\n",
    "pymilvus==2.3.5 \\\n",
    "protobuf \\\n",
    "grpcio-tools==1.58.0 \\\n",
    "pymongo \\\n",
    "tiktoken \\\n",
    "scikit-learn \\\n",
    "towhee \\\n",
    "opencv-python \\\n",
    "pillow"
   ]
  },
  {
   "cell_type": "code",
   "execution_count": null,
   "id": "d9a6ae04-c6e9-4774-9284-31b441f59ece",
   "metadata": {},
   "outputs": [],
   "source": [
    "import os\n",
    "import openai\n",
    "import requests\n",
    "import simplejson as json\n",
    "from retry import retry\n",
    "from msal import PublicClientApplication, ConfidentialClientApplication, ClientApplication\n",
    "import time"
   ]
  },
  {
   "cell_type": "code",
   "execution_count": null,
   "id": "4ba72e62-598b-423f-b694-900e9850ab4b",
   "metadata": {},
   "outputs": [],
   "source": [
    "@retry (tries=3, delay=2)\n",
    "def getapikey():\n",
    "    # These are the AZURE parameters needed by the client application\n",
    "    # In this scheme, the user does not have to worry about the api key, all of that is handled\n",
    "    # at the AZURE Back End.   The API key is rotated hourly.\n",
    "    # We can handle these as Kuberbetes secrets, or as environment variables.\n",
    "    client_id = os.getenv(\"AZURE_CLIENT_ID\")\n",
    "    tenant_id = os.getenv(\"AZURE_TENANT_ID\")\n",
    "    endpoint = os.getenv(\"AZURE_ENDPOINT\")\n",
    "\n",
    "    scopes = [os.getenv(\"AZURE_APPLICATION_SCOPE\")]\n",
    "\n",
    "    app = ClientApplication(\n",
    "        client_id=client_id,\n",
    "        authority=\"https://login.microsoftonline.com/\" + tenant_id\n",
    "    )\n",
    "\n",
    "\n",
    "    acquire_tokens_result = app.acquire_token_by_username_password(username=os.getenv(\"SVC_ACCOUNT\"),\n",
    "                                                                   password=os.getenv(\"SVC_PASSWORD\"),\n",
    "                                                                   scopes=scopes)\n",
    "    if 'error' in acquire_tokens_result:\n",
    "        print(\"Error: \" + acquire_tokens_result['error'])\n",
    "        print(\"Description: \" + acquire_tokens_result['error_description'])\n",
    "        return 2\n",
    "    else:\n",
    "        header_token = {\"Authorization\": \"Bearer {}\".format(acquire_tokens_result['access_token'])}\n",
    "        rt = requests.post(url=endpoint, headers=header_token, data=b'{\"key\":\"openaikey2\"}')\n",
    "        return rt.json()"
   ]
  },
  {
   "cell_type": "code",
   "execution_count": null,
   "id": "767de030-c9e3-4f2c-89c8-0268b7c3c3ed",
   "metadata": {},
   "outputs": [],
   "source": [
    "openai.api_type = os.getenv(\"OPENAI_API_TYPE\")\n",
    "openai.api_base = os.getenv(\"OPENAI_API_BASE\")\n",
    "openai.api_version = os.getenv(\"OPENAI_API_VERSION\")\n",
    "# We are dynamically getting the key from AZURE>   Access is based on the service account/ad group combination\n",
    "openai.api_key = getapikey()\n",
    "print(openai.api_key)"
   ]
  },
  {
   "cell_type": "code",
   "execution_count": null,
   "id": "63859fee-2954-4cef-8181-439af601d142",
   "metadata": {},
   "outputs": [],
   "source": [
    "import os\n",
    "from openai import AzureOpenAI\n",
    "\n",
    "ai_client = AzureOpenAI(\n",
    "  api_key = openai.api_key,  \n",
    "  api_version = os.getenv(\"OPENAI_API_VERSION\"),\n",
    "  azure_endpoint = os.getenv(\"AZURE_OPENAI_ENDPOINT\")\n",
    ")\n"
   ]
  },
  {
   "cell_type": "markdown",
   "id": "78dc95f9-8c79-4a90-8611-f72e17ae9c6c",
   "metadata": {},
   "source": [
    "# Test image retrieval using multi-modal embeddings\n",
    "## Reference docs: https://learn.microsoft.com/en-us/azure/ai-services/computer-vision/how-to/image-retrieval?tabs=csharp"
   ]
  },
  {
   "cell_type": "code",
   "execution_count": null,
   "id": "8e1f70d0",
   "metadata": {},
   "outputs": [],
   "source": [
    "import os\n",
    "from dotenv import load_dotenv\n",
    "from PIL import Image\n",
    "import matplotlib.pyplot as plt\n",
    "import glob\n",
    "import json\n",
    "import pathlib\n",
    "from azurecv import (image_embedding, text_embedding, get_cosine_similarity, \n",
    "                     get_image_embedding_multiprocessing, \n",
    "                     search_by_image, search_by_text)\n",
    "\n",
    "# image embedding\n",
    "endpoint = f\"{os.getenv('AZURE_OPENAI_ENDPOINT')}computervision/\"\n",
    "image = \"data/images/train/banana/n07753592_18.JPEG\"\n",
    "image_emb = image_embedding(image, endpoint, openai.api_key)\n",
    "print(image_emb)"
   ]
  },
  {
   "cell_type": "code",
   "execution_count": null,
   "id": "d89d48ea",
   "metadata": {},
   "outputs": [],
   "source": [
    "import csv\n",
    "from glob import glob\n",
    "from pathlib import Path\n",
    "from statistics import mean\n",
    "\n",
    "from towhee import pipe, ops, DataCollection\n",
    "from pymilvus import connections, FieldSchema, CollectionSchema, DataType, Collection, utility\n",
    "\n",
    "\n",
    "# Towhee parameters\n",
    "MODEL = 'resnet50'\n",
    "DEVICE = None # if None, use default device (cuda is enabled if available)\n",
    "\n",
    "# Milvus parameters\n",
    "HOST = 'standalone'\n",
    "PORT = '19530'\n",
    "TOPK = 10\n",
    "DIM = 2048 # dimension of embedding extracted by MODEL\n",
    "COLLECTION_NAME = 'reverse_image_search'\n",
    "INDEX_TYPE = 'IVF_FLAT'\n",
    "METRIC_TYPE = 'L2'\n",
    "\n",
    "# path to csv (column_1 indicates image path) OR a pattern of image paths\n",
    "INSERT_SRC = 'reverse_image_search.csv'\n",
    "QUERY_SRC = './test/*/*.JPEG'"
   ]
  },
  {
   "cell_type": "code",
   "execution_count": null,
   "id": "c5adebea",
   "metadata": {},
   "outputs": [],
   "source": [
    "# Load image path\n",
    "def load_image(x):\n",
    "    if x.endswith('csv'):\n",
    "        with open(x) as f:\n",
    "            reader = csv.reader(f)\n",
    "            next(reader)\n",
    "            for item in reader:\n",
    "                yield item[1]\n",
    "    else:\n",
    "        for item in glob(x):\n",
    "            yield item\n",
    "            \n",
    "# Embedding pipeline\n",
    "p_embed = (\n",
    "    pipe.input('src')\n",
    "        .flat_map('src', 'img_path', load_image)\n",
    "        .map('img_path', 'img', ops.image_decode())\n",
    "        .map('img', 'vec', ops.image_embedding.timm(model_name=MODEL, device=DEVICE))\n",
    ")"
   ]
  },
  {
   "cell_type": "code",
   "execution_count": null,
   "id": "81d32bee",
   "metadata": {},
   "outputs": [],
   "source": [
    "# Display embedding result, no need for implementation\n",
    "p_display = p_embed.output('img_path', 'img', 'vec')\n",
    "DataCollection(p_display('./data/images/test/goldfish/*.JPEG')).show()"
   ]
  },
  {
   "cell_type": "code",
   "execution_count": null,
   "id": "ccd6fa3f",
   "metadata": {},
   "outputs": [],
   "source": [
    "# Create milvus collection (delete first if exists)\n",
    "def create_milvus_collection(collection_name, dim):\n",
    "    if utility.has_collection(collection_name):\n",
    "        utility.drop_collection(collection_name)\n",
    "    \n",
    "    fields = [\n",
    "        FieldSchema(name='path', dtype=DataType.VARCHAR, description='path to image', max_length=500, \n",
    "                    is_primary=True, auto_id=False),\n",
    "        FieldSchema(name='embedding', dtype=DataType.FLOAT_VECTOR, description='image embedding vectors', dim=dim)\n",
    "    ]\n",
    "    schema = CollectionSchema(fields=fields, description='reverse image search')\n",
    "    collection = Collection(name=collection_name, schema=schema)\n",
    "\n",
    "    index_params = {\n",
    "        'metric_type': METRIC_TYPE,\n",
    "        'index_type': INDEX_TYPE,\n",
    "        'params': {\"nlist\": 2048}\n",
    "    }\n",
    "    collection.create_index(field_name='embedding', index_params=index_params)"
   ]
  },
  {
   "cell_type": "code",
   "execution_count": null,
   "id": "16f1f630",
   "metadata": {},
   "outputs": [],
   "source": [
    "# Connect to Milvus service\n",
    "connections.connect(host=HOST, port=PORT)\n",
    "\n",
    "# Create collection\n",
    "collection = create_milvus_collection(COLLECTION_NAME, DIM)\n",
    "print(f'A new collection created: {COLLECTION_NAME}')"
   ]
  }
 ],
 "metadata": {
  "kernelspec": {
   "display_name": "Python 3 (ipykernel)",
   "language": "python",
   "name": "python3"
  }
 },
 "nbformat": 4,
 "nbformat_minor": 5
}
