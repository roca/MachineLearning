{
 "cells": [
  {
   "cell_type": "markdown",
   "metadata": {
    "id": "cX8lawwGnlYD"
   },
   "source": [
    "## FAISS"
   ]
  },
  {
   "cell_type": "markdown",
   "metadata": {
    "id": "8lgXdYPFnoOy"
   },
   "source": [
    "- An AI library developed by Facebook\n",
    "- A library for efficient similarity search\n",
    "- It has lots of indexes to computer the approximate nearest neighbours vectors\n",
    "\n",
    "https://engineering.fb.com/2017/03/29/data-infrastructure/faiss-a-library-for-efficient-similarity-search/"
   ]
  },
  {
   "cell_type": "markdown",
   "metadata": {
    "id": "Alt3Bv7loSDs"
   },
   "source": [
    "https://github.com/facebookresearch/faiss/wiki"
   ]
  },
  {
   "cell_type": "markdown",
   "metadata": {
    "id": "zaw1EMnpotyF"
   },
   "source": [
    "https://github.com/facebookresearch/faiss/wiki/Faiss-indexes"
   ]
  },
  {
   "cell_type": "markdown",
   "metadata": {
    "id": "no6SVYNYoeN7"
   },
   "source": [
    "- Distance Calculation method : L2 (Euclidean distance)"
   ]
  },
  {
   "cell_type": "markdown",
   "metadata": {
    "id": "1AZNtFiLo66R"
   },
   "source": [
    "- Cell-Probe Method"
   ]
  },
  {
   "cell_type": "markdown",
   "metadata": {
    "id": "juJSvw97pDke"
   },
   "source": [
    "1. How they work?\n",
    "2. How to use them?\n",
    "3. Compare them with Brute force approach"
   ]
  },
  {
   "cell_type": "code",
   "execution_count": null,
   "metadata": {
    "colab": {
     "base_uri": "https://localhost:8080/"
    },
    "id": "3zVGOjtInnEb",
    "outputId": "6d9430bf-1906-4050-b841-f8cfcbdab181"
   },
   "outputs": [],
   "source": [
    "!pip install faiss-cpu\n"
   ]
  },
  {
   "cell_type": "code",
   "execution_count": null,
   "metadata": {
    "id": "jVtTIHjwOidL"
   },
   "outputs": [],
   "source": [
    "#Efficient, High dimentional indexing, GPU Accelarion, Versatility - Flat, IVF , PQ"
   ]
  },
  {
   "cell_type": "code",
   "execution_count": null,
   "metadata": {
    "id": "gqB2WibrnCfs"
   },
   "outputs": [],
   "source": [
    "import faiss\n",
    "import numpy as np"
   ]
  },
  {
   "cell_type": "code",
   "execution_count": null,
   "metadata": {
    "id": "FINwo_d9nCin"
   },
   "outputs": [],
   "source": [
    "# Generate some random vectors for demonstration\n",
    "\n",
    "dimension = 64\n",
    "num_vectors = 1000\n",
    "\n",
    "query_vector = np.random.random((1, dimension)).astype('float32')\n",
    "data_vectors = np.random.random((num_vectors, dimension)).astype('float32')"
   ]
  },
  {
   "cell_type": "code",
   "execution_count": null,
   "metadata": {
    "colab": {
     "base_uri": "https://localhost:8080/"
    },
    "id": "i1f4M7v9nClk",
    "outputId": "7aef4fc9-c430-449e-b82a-fb908852d3f5"
   },
   "outputs": [],
   "source": [
    "query_vector"
   ]
  },
  {
   "cell_type": "code",
   "execution_count": null,
   "metadata": {
    "colab": {
     "base_uri": "https://localhost:8080/"
    },
    "id": "2nssTZeYnAsZ",
    "outputId": "320ff38b-d30a-48ae-9e33-71458feb1e36"
   },
   "outputs": [],
   "source": [
    "len(query_vector)"
   ]
  },
  {
   "cell_type": "code",
   "execution_count": null,
   "metadata": {
    "colab": {
     "base_uri": "https://localhost:8080/"
    },
    "id": "tbMbcutpnAvK",
    "outputId": "eaf46c47-35d0-4434-aa78-fb8b0962bab0"
   },
   "outputs": [],
   "source": [
    "data_vectors"
   ]
  },
  {
   "cell_type": "code",
   "execution_count": null,
   "metadata": {
    "colab": {
     "base_uri": "https://localhost:8080/"
    },
    "id": "i8J4A1A4nAxm",
    "outputId": "91939e42-ca77-446b-b4f7-3c304bfe38a6"
   },
   "outputs": [],
   "source": [
    "len(data_vectors)"
   ]
  },
  {
   "cell_type": "code",
   "execution_count": null,
   "metadata": {
    "id": "tSko2GQ2nA0N"
   },
   "outputs": [],
   "source": [
    "# create a simple 'flat' index\n",
    "\n",
    "# index = datastructure to help us perform effieciently similarity search\n",
    "\n",
    "index = faiss.IndexFlatL2(dimension)"
   ]
  },
  {
   "cell_type": "markdown",
   "metadata": {
    "id": "lhOqSFXktUsI"
   },
   "source": [
    "In the context of Faiss, an \"index\" refers to a data structure that is constructed to efficiently perform similarity search on a set of vectors. The index is built on the dataset, allowing for quick retrieval of nearest neighbors or similar vectors when given a query vector. Faiss provides various types of indexes, each suitable for different scenarios and datasets.\n"
   ]
  },
  {
   "cell_type": "code",
   "execution_count": null,
   "metadata": {
    "colab": {
     "base_uri": "https://localhost:8080/"
    },
    "id": "JPQpP1SbnA3M",
    "outputId": "9d9e18ee-1284-476e-dfb4-3113bc30bd28"
   },
   "outputs": [],
   "source": [
    "index"
   ]
  },
  {
   "cell_type": "code",
   "execution_count": null,
   "metadata": {
    "id": "_fJkxYdKrbWf"
   },
   "outputs": [],
   "source": [
    "# index > vectors\n",
    "\n",
    "# Add data vectors to index\n",
    "\n",
    "index.add(data_vectors)"
   ]
  },
  {
   "cell_type": "code",
   "execution_count": null,
   "metadata": {
    "id": "r6oTyJvKrdID"
   },
   "outputs": [],
   "source": [
    "# Perform a vector search\n",
    "\n",
    "k = 5 # number of nearest neighbours to retrieve\n",
    "\n",
    "distances, indices = index.search(query_vector, k)"
   ]
  },
  {
   "cell_type": "code",
   "execution_count": null,
   "metadata": {
    "colab": {
     "base_uri": "https://localhost:8080/"
    },
    "id": "6VyaXfp1rdK4",
    "outputId": "0146ba34-2102-4c88-95a0-106277bf35fe"
   },
   "outputs": [],
   "source": [
    "# print the results\n",
    "\n",
    "print(\"Query Vector:\\n\", query_vector)\n",
    "print(\"\\nNearest Neighbours:\")\n",
    "for i in range(k):\n",
    "  print(f\"Index : {indices[0][i]}, Distance: {distances[0][i]}\")"
   ]
  },
  {
   "cell_type": "code",
   "execution_count": null,
   "metadata": {
    "id": "v5cONc7TsAe4"
   },
   "outputs": [],
   "source": [
    "# Finding nearest neighbours"
   ]
  },
  {
   "cell_type": "code",
   "execution_count": null,
   "metadata": {
    "id": "llVM6GqwtZGC"
   },
   "outputs": [],
   "source": [
    "query_vector = np.array([[10.0]* 64], dtype='float32')"
   ]
  },
  {
   "cell_type": "code",
   "execution_count": null,
   "metadata": {
    "colab": {
     "base_uri": "https://localhost:8080/"
    },
    "id": "LXsfhyzftZIo",
    "outputId": "5b3b48e4-a35f-4535-9471-18e114e86dea"
   },
   "outputs": [],
   "source": [
    "query_vector"
   ]
  },
  {
   "cell_type": "code",
   "execution_count": null,
   "metadata": {
    "id": "91VeR5_qtZLd"
   },
   "outputs": [],
   "source": [
    "dimensions = 64\n",
    "num_vectors = 1000\n",
    "data_vectors = np.random.normal(loc=10, scale=1, size=(num_vectors, dimension)).astype('float32')"
   ]
  },
  {
   "cell_type": "code",
   "execution_count": null,
   "metadata": {
    "colab": {
     "base_uri": "https://localhost:8080/"
    },
    "id": "-g2uZhv1tZOP",
    "outputId": "03dd8518-51f3-4d04-900d-5bab2a5d952a"
   },
   "outputs": [],
   "source": [
    "data_vectors"
   ]
  },
  {
   "cell_type": "code",
   "execution_count": null,
   "metadata": {
    "id": "hAgSuIjgtZRE"
   },
   "outputs": [],
   "source": [
    "index = faiss.IndexFlatL2(dimension)"
   ]
  },
  {
   "cell_type": "code",
   "execution_count": null,
   "metadata": {
    "id": "tmnYNonYu5wo"
   },
   "outputs": [],
   "source": [
    "index.add(data_vectors)"
   ]
  },
  {
   "cell_type": "code",
   "execution_count": null,
   "metadata": {
    "id": "yHlIvuhjsAhk"
   },
   "outputs": [],
   "source": [
    "k = 5\n",
    "distances, indices = index.search(query_vector, k)"
   ]
  },
  {
   "cell_type": "code",
   "execution_count": null,
   "metadata": {
    "colab": {
     "base_uri": "https://localhost:8080/"
    },
    "id": "HhQWnbWjvEYf",
    "outputId": "895924f5-5311-47e1-8fac-89a2fe1a6d80"
   },
   "outputs": [],
   "source": [
    "print(\"Query Vector:\\n\", query_vector)\n",
    "print(\"\\nNearest Neighbours:\")\n",
    "for i in range(k):\n",
    "  index_number = indices[0][i]\n",
    "  distance_value = distances[0][i]\n",
    "  actual_number = data_vectors[index_number][0]\n",
    "  print(f\"Index : {index_number}, Actual Number : {actual_number}, Distance: {distance_value}\")"
   ]
  },
  {
   "cell_type": "code",
   "execution_count": null,
   "metadata": {
    "id": "Mx25jV9DvEbb"
   },
   "outputs": [],
   "source": []
  }
 ],
 "metadata": {
  "colab": {
   "gpuType": "T4",
   "provenance": []
  },
  "kernelspec": {
   "display_name": "Python 3 (ipykernel)",
   "language": "python",
   "name": "python3"
  },
  "language_info": {
   "codemirror_mode": {
    "name": "ipython",
    "version": 3
   },
   "file_extension": ".py",
   "mimetype": "text/x-python",
   "name": "python",
   "nbconvert_exporter": "python",
   "pygments_lexer": "ipython3",
   "version": "3.11.0rc1"
  }
 },
 "nbformat": 4,
 "nbformat_minor": 4
}
