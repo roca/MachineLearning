{
 "cells": [
  {
   "cell_type": "code",
   "execution_count": null,
   "id": "add3d590-7f5f-4d11-9208-fafc1821c7ba",
   "metadata": {},
   "outputs": [],
   "source": [
    "import os"
   ]
  },
  {
   "cell_type": "code",
   "execution_count": null,
   "id": "558714e8-7728-428f-a8f1-7ff6d74d529d",
   "metadata": {},
   "outputs": [],
   "source": [
    "os.environ[\"OPENAI_API_KEY\"]\n",
    "# os.environ['CHROMA_API_IMPL']='rest'\n",
    "# os.environ['CHROMA_SERVER_CORS_ALLOW_ORIGINS']=''"
   ]
  },
  {
   "cell_type": "code",
   "execution_count": null,
   "id": "a690d816-9bad-42f0-8566-08e73213f4e0",
   "metadata": {},
   "outputs": [],
   "source": [
    "!pip install --trusted-host pypi.org --trusted-host files.pythonhosted.org  chromadb langchain openai tiktoken langchain_openai -q"
   ]
  },
  {
   "cell_type": "code",
   "execution_count": null,
   "id": "25b193fd-8ece-4712-86ac-a18b5acd809b",
   "metadata": {},
   "outputs": [],
   "source": [
    "from langchain.document_loaders import TextLoader\n",
    "from langchain.document_loaders import  DirectoryLoader\n",
    "from langchain.text_splitter import RecursiveCharacterTextSplitter\n",
    "\n",
    "from langchain.llms import OpenAI\n",
    "from langchain_openai import OpenAIEmbeddings\n",
    "from langchain.embeddings import HuggingFaceEmbeddings\n",
    "\n",
    "from langchain.chains import RetrievalQA\n",
    "from langchain.vectorstores import Chroma"
   ]
  },
  {
   "cell_type": "code",
   "execution_count": null,
   "id": "8a8f3a91-998b-4f40-8182-f4279596fba9",
   "metadata": {},
   "outputs": [],
   "source": [
    "# load multiple document and process documants\n",
    "loader = DirectoryLoader(\"./bbc/sport\", glob=\"./*.txt\", loader_cls=TextLoader)\n",
    "documents = loader.load()"
   ]
  },
  {
   "cell_type": "code",
   "execution_count": null,
   "id": "b4b32997-7b79-4083-bbfd-c9ecf31343f2",
   "metadata": {},
   "outputs": [],
   "source": [
    "# split the text into smaler chunks\n",
    "text_spliter = RecursiveCharacterTextSplitter(chunk_size=1000, chunk_overlap=200)\n",
    "texts = text_spliter.split_documents(documents)"
   ]
  },
  {
   "cell_type": "code",
   "execution_count": null,
   "id": "25198288-813e-4ce9-ba22-8b99a63ad725",
   "metadata": {},
   "outputs": [],
   "source": [
    "# Create a ChromaDB\n",
    "import chromadb\n",
    "from chromadb.config import Settings\n",
    "\n",
    "client = chromadb.HttpClient(host=\"chroma\", port = 8000, settings=Settings(allow_reset=True, anonymized_telemetry=False))"
   ]
  },
  {
   "cell_type": "code",
   "execution_count": null,
   "id": "cea18995-8473-478d-a7d2-f5be3a5ff58c",
   "metadata": {},
   "outputs": [],
   "source": [
    "persist_directory = \"db\"\n",
    "# embedding = OpenAIEmbeddings(openai_api_key=os.environ[\"OPENAI_API_KEY\"])\n",
    "embedding = HuggingFaceEmbeddings(model_name=\"sentence-transformers/paraphrase-multilingual-MiniLM-L12-v2\")\n"
   ]
  },
  {
   "cell_type": "code",
   "execution_count": null,
   "id": "7d3d47e5-4cf3-495a-90ef-2e960277c6fb",
   "metadata": {},
   "outputs": [],
   "source": [
    "vectordb = Chroma.from_documents(\n",
    "    documents = texts,\n",
    "    embedding = embedding,\n",
    "    persist_directory = persist_directory\n",
    ")"
   ]
  },
  {
   "cell_type": "code",
   "execution_count": null,
   "id": "58aa09a2-6001-4d8e-8e04-b18ec6c03b6d",
   "metadata": {},
   "outputs": [],
   "source": [
    "#persist the db to the disk\n",
    "vectordb.persist()\n",
    "vectordb = None"
   ]
  },
  {
   "cell_type": "code",
   "execution_count": null,
   "id": "aa993242-b92d-4d9e-a643-a4d470f9fecd",
   "metadata": {},
   "outputs": [],
   "source": [
    "vectordb = Chroma(persist_directory = persist_directory, embedding_function = embedding)"
   ]
  },
  {
   "cell_type": "code",
   "execution_count": null,
   "id": "0f6d87e2-b432-4959-9639-42b09829f86b",
   "metadata": {},
   "outputs": [],
   "source": [
    "retriever = vectordb.as_retriever(search_kwargs={\"k\": 2})"
   ]
  },
  {
   "cell_type": "code",
   "execution_count": null,
   "id": "6ce228b8-d214-4c1d-865d-c7408d44cabb",
   "metadata": {},
   "outputs": [],
   "source": [
    "retriever.search_type"
   ]
  },
  {
   "cell_type": "code",
   "execution_count": null,
   "id": "9764cb7b-22b6-4647-911c-c3661eef87f9",
   "metadata": {},
   "outputs": [],
   "source": []
  }
 ],
 "metadata": {
  "kernelspec": {
   "display_name": "Python 3 (ipykernel)",
   "language": "python",
   "name": "python3"
  },
  "language_info": {
   "codemirror_mode": {
    "name": "ipython",
    "version": 3
   },
   "file_extension": ".py",
   "mimetype": "text/x-python",
   "name": "python",
   "nbconvert_exporter": "python",
   "pygments_lexer": "ipython3",
   "version": "3.11.0rc1"
  }
 },
 "nbformat": 4,
 "nbformat_minor": 5
}
