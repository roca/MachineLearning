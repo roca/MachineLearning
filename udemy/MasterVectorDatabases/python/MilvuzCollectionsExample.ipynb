{
 "cells": [
  {
   "cell_type": "code",
   "execution_count": null,
   "id": "5419ab2e-433f-4402-8447-5b0b8952d23d",
   "metadata": {},
   "outputs": [],
   "source": [
    "!pip install --trusted-host pypi.python.org --trusted-host pypi.org --trusted-host files.pythonhosted.org pymilvus"
   ]
  },
  {
   "cell_type": "code",
   "execution_count": null,
   "id": "d154808f-8533-4cbe-b7de-5ee5eeae8d27",
   "metadata": {},
   "outputs": [],
   "source": [
    "from pymilvus import Collection, FieldSchema, CollectionSchema, DataType, connections, db, utility"
   ]
  },
  {
   "cell_type": "code",
   "execution_count": null,
   "id": "20132cd3-f051-4a3e-9bf1-575f8fd46ed6",
   "metadata": {},
   "outputs": [],
   "source": [
    "conn = connections.connect(host=\"standalone\", port=19530, db_name=\"default\")\n",
    "db.list_database()"
   ]
  },
  {
   "cell_type": "code",
   "execution_count": null,
   "id": "c7bd186a-0a9a-4a62-9ea5-b1d7d435a0d9",
   "metadata": {},
   "outputs": [],
   "source": [
    "## Field  Schema\n",
    "\n",
    "song_name = FieldSchema(\n",
    "    name=\"song_name\",\n",
    "    dtype=DataType.VARCHAR,\n",
    "    max_length=200,\n",
    ")\n",
    "song_id = FieldSchema(\n",
    "    name=\"song_id\",\n",
    "    dtype=DataType.INT64,\n",
    "    is_primary=True,\n",
    ")\n",
    "list_count = FieldSchema(\n",
    "    name=\"list_count\",\n",
    "    dtype=DataType.INT64,\n",
    ")\n",
    "song_vec = FieldSchema(\n",
    "    name=\"song_vec\",\n",
    "    dtype=DataType.FLOAT_VECTOR,\n",
    "    dim=2,\n",
    ")"
   ]
  },
  {
   "cell_type": "code",
   "execution_count": null,
   "id": "a573d2ca-7e44-46fe-a59c-85ad180e7f44",
   "metadata": {},
   "outputs": [],
   "source": [
    "collection_schema = CollectionSchema(\n",
    "    fields=[song_name, song_id, list_count, song_vec],\n",
    "    description=\"Album Songs\"\n",
    ")"
   ]
  },
  {
   "cell_type": "code",
   "execution_count": null,
   "id": "fcf40524-3cfc-4324-b768-02ffeb7dea5b",
   "metadata": {},
   "outputs": [],
   "source": [
    "collection = Collection(\n",
    "    name=\"Album1\",\n",
    "    schema=collection_schema,\n",
    "    using=\"default\",\n",
    ")\n",
    "utility.list_collections()"
   ]
  },
  {
   "cell_type": "code",
   "execution_count": null,
   "id": "abba8060-4836-4417-923b-30a776801c3f",
   "metadata": {},
   "outputs": [],
   "source": [
    "utility.rename_collection(\"Album1\", \"Album2\")\n",
    "utility.list_collections()"
   ]
  },
  {
   "cell_type": "code",
   "execution_count": null,
   "id": "42bd9b61-9d60-4251-a6ab-1d0272cd98b4",
   "metadata": {},
   "outputs": [],
   "source": []
  }
 ],
 "metadata": {
  "kernelspec": {
   "display_name": "Python 3 (ipykernel)",
   "language": "python",
   "name": "python3"
  },
  "language_info": {
   "codemirror_mode": {
    "name": "ipython",
    "version": 3
   },
   "file_extension": ".py",
   "mimetype": "text/x-python",
   "name": "python",
   "nbconvert_exporter": "python",
   "pygments_lexer": "ipython3",
   "version": "3.11.0rc1"
  }
 },
 "nbformat": 4,
 "nbformat_minor": 5
}
