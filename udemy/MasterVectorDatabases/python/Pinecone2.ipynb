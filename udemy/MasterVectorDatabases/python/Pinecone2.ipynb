{
 "cells": [
  {
   "cell_type": "code",
   "execution_count": 1,
   "id": "d5d56514-9645-4611-8975-4bfc14f4084a",
   "metadata": {
    "scrolled": true
   },
   "outputs": [
    {
     "name": "stdout",
     "output_type": "stream",
     "text": [
      "Requirement already satisfied: pip in /usr/local/lib/python3.11/dist-packages (23.2.1)\n",
      "Collecting pip\n",
      "  Obtaining dependency information for pip from https://files.pythonhosted.org/packages/15/aa/3f4c7bcee2057a76562a5b33ecbd199be08cdb4443a02e26bd2c3cf6fc39/pip-23.3.2-py3-none-any.whl.metadata\n",
      "  Downloading pip-23.3.2-py3-none-any.whl.metadata (3.5 kB)\n",
      "Downloading pip-23.3.2-py3-none-any.whl (2.1 MB)\n",
      "\u001b[2K   \u001b[90m━━━━━━━━━━━━━━━━━━━━━━━━━━━━━━━━━━━━━━━━\u001b[0m \u001b[32m2.1/2.1 MB\u001b[0m \u001b[31m827.3 kB/s\u001b[0m eta \u001b[36m0:00:00\u001b[0m:01\u001b[0m00:01\u001b[0m0m\n",
      "\u001b[?25hInstalling collected packages: pip\n",
      "  Attempting uninstall: pip\n",
      "    Found existing installation: pip 23.2.1\n",
      "    Uninstalling pip-23.2.1:\n",
      "      Successfully uninstalled pip-23.2.1\n",
      "Successfully installed pip-23.3.2\n",
      "\u001b[33mWARNING: Running pip as the 'root' user can result in broken permissions and conflicting behaviour with the system package manager. It is recommended to use a virtual environment instead: https://pip.pypa.io/warnings/venv\u001b[0m\u001b[33m\n",
      "\u001b[0mNote: you may need to restart the kernel to use updated packages.\n"
     ]
    }
   ],
   "source": [
    "pip install --trusted-host pypi.python.org --trusted-host pypi.org --trusted-host files.pythonhosted.org  --upgrade pip"
   ]
  },
  {
   "cell_type": "code",
   "execution_count": 2,
   "id": "657d247e-05f2-463a-ae41-493ebf20373f",
   "metadata": {},
   "outputs": [
    {
     "name": "stdout",
     "output_type": "stream",
     "text": [
      "Collecting pinecone-client\n",
      "  Downloading pinecone_client-3.0.2-py3-none-any.whl.metadata (12 kB)\n",
      "Collecting pandas\n",
      "  Downloading pandas-2.2.0-cp311-cp311-manylinux_2_17_x86_64.manylinux2014_x86_64.whl.metadata (19 kB)\n",
      "Requirement already satisfied: certifi>=2019.11.17 in /usr/local/lib/python3.11/dist-packages (from pinecone-client) (2023.7.22)\n",
      "Collecting tqdm>=4.64.1 (from pinecone-client)\n",
      "  Downloading tqdm-4.66.1-py3-none-any.whl.metadata (57 kB)\n",
      "\u001b[2K     \u001b[90m━━━━━━━━━━━━━━━━━━━━━━━━━━━━━━━━━━━━━━━\u001b[0m \u001b[32m57.6/57.6 kB\u001b[0m \u001b[31m252.9 kB/s\u001b[0m eta \u001b[36m0:00:00\u001b[0ma \u001b[36m0:00:01\u001b[0m\n",
      "\u001b[?25hRequirement already satisfied: typing-extensions>=3.7.4 in /usr/local/lib/python3.11/dist-packages (from pinecone-client) (4.8.0)\n",
      "Requirement already satisfied: urllib3>=1.26.0 in /usr/local/lib/python3.11/dist-packages (from pinecone-client) (2.0.5)\n",
      "Requirement already satisfied: numpy<2,>=1.23.2 in /usr/local/lib/python3.11/dist-packages (from pandas) (1.26.0)\n",
      "Requirement already satisfied: python-dateutil>=2.8.2 in /usr/local/lib/python3.11/dist-packages (from pandas) (2.8.2)\n",
      "Collecting pytz>=2020.1 (from pandas)\n",
      "  Downloading pytz-2023.3.post1-py2.py3-none-any.whl.metadata (22 kB)\n",
      "Collecting tzdata>=2022.7 (from pandas)\n",
      "  Downloading tzdata-2023.4-py2.py3-none-any.whl.metadata (1.4 kB)\n",
      "Requirement already satisfied: six>=1.5 in /usr/lib/python3/dist-packages (from python-dateutil>=2.8.2->pandas) (1.16.0)\n",
      "Downloading pinecone_client-3.0.2-py3-none-any.whl (201 kB)\n",
      "\u001b[2K   \u001b[90m━━━━━━━━━━━━━━━━━━━━━━━━━━━━━━━━━━━━━━━━\u001b[0m \u001b[32m201.4/201.4 kB\u001b[0m \u001b[31m1.6 MB/s\u001b[0m eta \u001b[36m0:00:00\u001b[0mta \u001b[36m0:00:01\u001b[0m\n",
      "\u001b[?25hDownloading pandas-2.2.0-cp311-cp311-manylinux_2_17_x86_64.manylinux2014_x86_64.whl (13.0 MB)\n",
      "\u001b[2K   \u001b[90m━━━━━━━━━━━━━━━━━━━━━━━━━━━━━━━━━━━━━━━━\u001b[0m \u001b[32m13.0/13.0 MB\u001b[0m \u001b[31m2.4 MB/s\u001b[0m eta \u001b[36m0:00:00\u001b[0m00:01\u001b[0m00:01\u001b[0m\n",
      "\u001b[?25hDownloading pytz-2023.3.post1-py2.py3-none-any.whl (502 kB)\n",
      "\u001b[2K   \u001b[90m━━━━━━━━━━━━━━━━━━━━━━━━━━━━━━━━━━━━━━━\u001b[0m \u001b[32m502.5/502.5 kB\u001b[0m \u001b[31m654.3 kB/s\u001b[0m eta \u001b[36m0:00:00\u001b[0m0:01\u001b[0m00:01\u001b[0m\n",
      "\u001b[?25hDownloading tqdm-4.66.1-py3-none-any.whl (78 kB)\n",
      "\u001b[2K   \u001b[90m━━━━━━━━━━━━━━━━━━━━━━━━━━━━━━━━━━━━━━━━\u001b[0m \u001b[32m78.3/78.3 kB\u001b[0m \u001b[31m328.8 kB/s\u001b[0m eta \u001b[36m0:00:00\u001b[0ma \u001b[36m0:00:01\u001b[0m\n",
      "\u001b[?25hDownloading tzdata-2023.4-py2.py3-none-any.whl (346 kB)\n",
      "\u001b[2K   \u001b[90m━━━━━━━━━━━━━━━━━━━━━━━━━━━━━━━━━━━━━━━\u001b[0m \u001b[32m346.6/346.6 kB\u001b[0m \u001b[31m266.4 kB/s\u001b[0m eta \u001b[36m0:00:00\u001b[0m00:01\u001b[0m0:01\u001b[0m\n",
      "\u001b[?25hInstalling collected packages: pytz, tzdata, tqdm, pinecone-client, pandas\n",
      "Successfully installed pandas-2.2.0 pinecone-client-3.0.2 pytz-2023.3.post1 tqdm-4.66.1 tzdata-2023.4\n",
      "\u001b[33mWARNING: Running pip as the 'root' user can result in broken permissions and conflicting behaviour with the system package manager. It is recommended to use a virtual environment instead: https://pip.pypa.io/warnings/venv\u001b[0m\u001b[33m\n",
      "\u001b[0m"
     ]
    }
   ],
   "source": [
    "!pip install --trusted-host pypi.python.org --trusted-host pypi.org --trusted-host files.pythonhosted.org  pinecone-client pandas"
   ]
  },
  {
   "cell_type": "code",
   "execution_count": 3,
   "id": "7624e401-e6c5-422a-9ca8-d575578fda05",
   "metadata": {},
   "outputs": [],
   "source": [
    "from pinecone import Pinecone\n",
    "import os"
   ]
  },
  {
   "cell_type": "code",
   "execution_count": 4,
   "id": "a2a7660f-201c-4a07-a087-4ae20b9814d7",
   "metadata": {},
   "outputs": [],
   "source": [
    "# initialize connection to pinecone (get API key at app.pc.io)\n",
    "api_key = os.environ.get('PINECONE_API_KEY') or 'PINECONE_API_KEY'\n",
    "environment = os.environ.get('PINECONE_ENVIRONMENT') or 'PINECONE_ENVIRONMENT'\n",
    "\n",
    "# configure client\n",
    "pc = Pinecone(api_key=api_key)"
   ]
  },
  {
   "cell_type": "code",
   "execution_count": 5,
   "id": "760e741d-f06a-42bc-981f-c93565e01ae4",
   "metadata": {},
   "outputs": [
    {
     "data": {
      "text/plain": [
       "'3bd6ebfe-51bc-479b-b529-6bdcf0a37ff5'"
      ]
     },
     "execution_count": 5,
     "metadata": {},
     "output_type": "execute_result"
    }
   ],
   "source": [
    "os.environ.get('PINECONE_API_KEY') "
   ]
  },
  {
   "cell_type": "code",
   "execution_count": 6,
   "id": "aef47bfc-1035-48d7-b996-e03102ff6593",
   "metadata": {},
   "outputs": [
    {
     "data": {
      "text/plain": [
       "{'indexes': [{'dimension': 64,\n",
       "              'host': 'prices-9atubxs.svc.gcp-starter.pinecone.io',\n",
       "              'metric': 'cosine',\n",
       "              'name': 'prices',\n",
       "              'spec': {'pod': {'environment': 'gcp-starter',\n",
       "                               'pod_type': 'starter',\n",
       "                               'pods': 1,\n",
       "                               'replicas': 1,\n",
       "                               'shards': 1}},\n",
       "              'status': {'ready': True, 'state': 'Ready'}}]}"
      ]
     },
     "execution_count": 6,
     "metadata": {},
     "output_type": "execute_result"
    }
   ],
   "source": [
    "pc.list_indexes()"
   ]
  },
  {
   "cell_type": "code",
   "execution_count": 7,
   "id": "25d1f363-62ea-4e81-8e50-c21988818d2a",
   "metadata": {},
   "outputs": [
    {
     "name": "stdout",
     "output_type": "stream",
     "text": [
      "prices\n"
     ]
    }
   ],
   "source": [
    "# List indexes\n",
    "indexes = pc.list_indexes()\n",
    "print(indexes[0].name)"
   ]
  },
  {
   "cell_type": "code",
   "execution_count": 8,
   "id": "0ed7de52-9f6b-4514-86d8-63a87f469b06",
   "metadata": {},
   "outputs": [
    {
     "data": {
      "text/plain": [
       "{'dimension': 64,\n",
       " 'host': 'prices-9atubxs.svc.gcp-starter.pinecone.io',\n",
       " 'metric': 'cosine',\n",
       " 'name': 'prices',\n",
       " 'spec': {'pod': {'environment': 'gcp-starter',\n",
       "                  'pod_type': 'starter',\n",
       "                  'pods': 1,\n",
       "                  'replicas': 1,\n",
       "                  'shards': 1}},\n",
       " 'status': {'ready': True, 'state': 'Ready'}}"
      ]
     },
     "execution_count": 8,
     "metadata": {},
     "output_type": "execute_result"
    }
   ],
   "source": [
    "# Describe index\n",
    "pc.describe_index(indexes[0].name)"
   ]
  },
  {
   "cell_type": "code",
   "execution_count": 9,
   "id": "a71a2979-f970-49dd-a628-8643fdc454bd",
   "metadata": {},
   "outputs": [],
   "source": [
    "#create index\n",
    "new_index_name = \"prices\"\n",
    "dimension = 64\n",
    "metric = \"cosine\""
   ]
  },
  {
   "cell_type": "code",
   "execution_count": 10,
   "id": "4fdd4d90-b67a-498c-bde8-a5a5ad9bf027",
   "metadata": {},
   "outputs": [],
   "source": [
    "# if exists delete\n",
    "for index in pc.list_indexes().indexes:\n",
    "    if index.name == new_index_name:\n",
    "        pc.delete_index(new_index_name)"
   ]
  },
  {
   "cell_type": "code",
   "execution_count": 11,
   "id": "fba6df8e-1725-4413-a498-bc8adf1f5ecf",
   "metadata": {},
   "outputs": [],
   "source": [
    "from pinecone import PodSpec\n",
    "pc.create_index(\n",
    "    name=new_index_name, \n",
    "    dimension=dimension, \n",
    "    metric=metric, \n",
    "    spec=PodSpec(\n",
    "        environment=\"gcp-starter\",\n",
    "        pod_type=\"starter\",\n",
    "        pods=1,\n",
    "        replicas=1,\n",
    "        shards=1\n",
    "))"
   ]
  },
  {
   "cell_type": "code",
   "execution_count": 12,
   "id": "a031d01e-ab2a-413c-958c-4415bdde0db3",
   "metadata": {},
   "outputs": [
    {
     "data": {
      "text/plain": [
       "{'dimension': 64,\n",
       " 'host': 'prices-9atubxs.svc.gcp-starter.pinecone.io',\n",
       " 'metric': 'cosine',\n",
       " 'name': 'prices',\n",
       " 'spec': {'pod': {'environment': 'gcp-starter',\n",
       "                  'pod_type': 'starter',\n",
       "                  'pods': 1,\n",
       "                  'replicas': 1,\n",
       "                  'shards': 1}},\n",
       " 'status': {'ready': True, 'state': 'Ready'}}"
      ]
     },
     "execution_count": 12,
     "metadata": {},
     "output_type": "execute_result"
    }
   ],
   "source": [
    "pc.describe_index(new_index_name)"
   ]
  },
  {
   "cell_type": "code",
   "execution_count": 13,
   "id": "91049cb2-95db-4d3b-81e4-96810c119f66",
   "metadata": {},
   "outputs": [],
   "source": [
    "index = pc.Index(name=new_index_name)"
   ]
  },
  {
   "cell_type": "code",
   "execution_count": 14,
   "id": "8cd8f123-2917-42bb-b09b-11c62f03d928",
   "metadata": {},
   "outputs": [
    {
     "data": {
      "text/plain": [
       "<pinecone.data.index.Index at 0x7f0c3c3bb750>"
      ]
     },
     "execution_count": 14,
     "metadata": {},
     "output_type": "execute_result"
    }
   ],
   "source": [
    "index"
   ]
  },
  {
   "cell_type": "code",
   "execution_count": 15,
   "id": "743fcbdf-5253-424a-8267-0d102b7144ab",
   "metadata": {},
   "outputs": [],
   "source": [
    "import random\n",
    "ids = [ 'a', 'b', 'c', 'd']\n",
    "vectors = [ [random.random() for _ in range(64)] for vec in range(4) ]"
   ]
  },
  {
   "cell_type": "code",
   "execution_count": 16,
   "id": "764cea9c-c1ee-4e78-8550-89bffea2e808",
   "metadata": {},
   "outputs": [
    {
     "data": {
      "text/plain": [
       "['a', 'b', 'c', 'd']"
      ]
     },
     "execution_count": 16,
     "metadata": {},
     "output_type": "execute_result"
    }
   ],
   "source": [
    "ids"
   ]
  },
  {
   "cell_type": "code",
   "execution_count": 17,
   "id": "c8f98b1b-fa99-476c-a58c-871711d16a3b",
   "metadata": {},
   "outputs": [
    {
     "data": {
      "text/plain": [
       "4"
      ]
     },
     "execution_count": 17,
     "metadata": {},
     "output_type": "execute_result"
    }
   ],
   "source": [
    "len(vectors)"
   ]
  },
  {
   "cell_type": "code",
   "execution_count": 18,
   "id": "546aeb4f-acf7-4fef-8318-5b166db2ad53",
   "metadata": {},
   "outputs": [
    {
     "data": {
      "text/plain": [
       "{'upserted_count': 4}"
      ]
     },
     "execution_count": 18,
     "metadata": {},
     "output_type": "execute_result"
    }
   ],
   "source": [
    "# Bulk Insert some data\n",
    "# [(id1, vecvtor1), (id2, vector2)]\n",
    "index.upsert(vectors=zip(ids,vectors))"
   ]
  },
  {
   "cell_type": "code",
   "execution_count": 19,
   "id": "1745b3bd-2301-4ba2-b208-3e702f72f371",
   "metadata": {},
   "outputs": [
    {
     "data": {
      "text/plain": [
       "{'dimension': 64,\n",
       " 'index_fullness': 0.0,\n",
       " 'namespaces': {},\n",
       " 'total_vector_count': 0}"
      ]
     },
     "execution_count": 19,
     "metadata": {},
     "output_type": "execute_result"
    }
   ],
   "source": [
    "index.describe_index_stats()"
   ]
  },
  {
   "cell_type": "code",
   "execution_count": 20,
   "id": "2cc7083a-35a0-43bb-886b-79b4d9c2ab80",
   "metadata": {},
   "outputs": [],
   "source": [
    "# large amounts of data should be inserted in batches over serveral requests"
   ]
  },
  {
   "cell_type": "code",
   "execution_count": 21,
   "id": "191aca41-1e47-42d8-b3b5-776d5bf13169",
   "metadata": {},
   "outputs": [],
   "source": [
    "import itertools\n",
    "\n",
    "vector_dimension = 64\n",
    "vector_count = 1000"
   ]
  },
  {
   "cell_type": "code",
   "execution_count": 22,
   "id": "905722fd-8c6b-4156-8033-b9a198f0d3bf",
   "metadata": {},
   "outputs": [],
   "source": [
    "# (id, vector)\n",
    "example_data_generator = map (\n",
    "    lambda i :\n",
    "        (f'id-{i}', [random.random() for _ in range(vector_dimension)]), range(vector_count)\n",
    ")\n",
    "\n",
    "# helper function to split data into batches\n",
    "def chunks(iterable, batch_size):\n",
    "    \n",
    "     it = iter(iterable)\n",
    "     chunk = tuple(itertools.islice(it, batch_size))\n",
    "     while chunk:\n",
    "        yield chunk\n",
    "        chunk = tuple(itertools.islice(it, batch_size))\n",
    "\t"
   ]
  },
  {
   "cell_type": "code",
   "execution_count": 23,
   "id": "86ea15ab",
   "metadata": {},
   "outputs": [],
   "source": [
    "for chunk in chunks(example_data_generator, 100):\n",
    "    index.upsert(vectors=chunk)"
   ]
  },
  {
   "cell_type": "code",
   "execution_count": null,
   "id": "97ee3236",
   "metadata": {},
   "outputs": [],
   "source": [
    "with pc.Index(new_index_name, pool_threads=30) as index:\n",
    "    # Send requests in parallel\n",
    "    async_results = [\n",
    "        index.upsert(vectors=ids_vectors_chunk, async_req=True)\n",
    "        for ids_vectors_chunk in chunks(example_data_generator, batch_size=100)\n",
    "    ]\n",
    "    # Wait for and retrieve responses (this raises in case of error)\n",
    "    [async_result.get() for async_result in async_results]"
   ]
  },
  {
   "cell_type": "code",
   "execution_count": null,
   "metadata": {},
   "outputs": [],
   "source": []
  }
 ],
 "metadata": {
  "kernelspec": {
   "display_name": "Python 3 (ipykernel)",
   "language": "python",
   "name": "python3"
  },
  "language_info": {
   "codemirror_mode": {
    "name": "ipython",
    "version": 3
   },
   "file_extension": ".py",
   "mimetype": "text/x-python",
   "name": "python",
   "nbconvert_exporter": "python",
   "pygments_lexer": "ipython3",
   "version": "3.11.0rc1"
  }
 },
 "nbformat": 4,
 "nbformat_minor": 5
}
