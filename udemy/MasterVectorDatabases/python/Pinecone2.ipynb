{
 "cells": [
  {
   "cell_type": "code",
   "execution_count": null,
   "id": "d5d56514-9645-4611-8975-4bfc14f4084a",
   "metadata": {
    "scrolled": true
   },
   "outputs": [],
   "source": [
    "pip install --trusted-host pypi.python.org --trusted-host pypi.org --trusted-host files.pythonhosted.org  --upgrade pip"
   ]
  },
  {
   "cell_type": "code",
   "execution_count": null,
   "id": "657d247e-05f2-463a-ae41-493ebf20373f",
   "metadata": {},
   "outputs": [],
   "source": [
    "!pip install --trusted-host pypi.python.org --trusted-host pypi.org --trusted-host files.pythonhosted.org  pinecone-client pandas"
   ]
  },
  {
   "cell_type": "code",
   "execution_count": null,
   "id": "7624e401-e6c5-422a-9ca8-d575578fda05",
   "metadata": {},
   "outputs": [],
   "source": [
    "from pinecone import Pinecone\n",
    "import os"
   ]
  },
  {
   "cell_type": "code",
   "execution_count": null,
   "id": "a2a7660f-201c-4a07-a087-4ae20b9814d7",
   "metadata": {},
   "outputs": [],
   "source": [
    "# initialize connection to pinecone (get API key at app.pc.io)\n",
    "api_key = os.environ.get('PINECONE_API_KEY') or 'PINECONE_API_KEY'\n",
    "environment = os.environ.get('PINECONE_ENVIRONMENT') or 'PINECONE_ENVIRONMENT'\n",
    "\n",
    "# configure client\n",
    "pc = Pinecone(api_key=api_key)"
   ]
  },
  {
   "cell_type": "code",
   "execution_count": null,
   "id": "760e741d-f06a-42bc-981f-c93565e01ae4",
   "metadata": {},
   "outputs": [],
   "source": [
    "os.environ.get('PINECONE_API_KEY') "
   ]
  },
  {
   "cell_type": "code",
   "execution_count": null,
   "id": "aef47bfc-1035-48d7-b996-e03102ff6593",
   "metadata": {},
   "outputs": [],
   "source": [
    "pc.list_indexes()"
   ]
  },
  {
   "cell_type": "code",
   "execution_count": null,
   "id": "25d1f363-62ea-4e81-8e50-c21988818d2a",
   "metadata": {},
   "outputs": [],
   "source": [
    "# List indexes\n",
    "indexes = pc.list_indexes()\n",
    "print(indexes[0].name)"
   ]
  },
  {
   "cell_type": "code",
   "execution_count": null,
   "id": "0ed7de52-9f6b-4514-86d8-63a87f469b06",
   "metadata": {},
   "outputs": [],
   "source": [
    "# Describe index\n",
    "pc.describe_index(indexes[0].name)"
   ]
  },
  {
   "cell_type": "code",
   "execution_count": null,
   "id": "a71a2979-f970-49dd-a628-8643fdc454bd",
   "metadata": {},
   "outputs": [],
   "source": [
    "#create index\n",
    "new_index_name = \"prices\"\n",
    "dimension = 64\n",
    "metric = \"cosine\""
   ]
  },
  {
   "cell_type": "code",
   "execution_count": null,
   "id": "4fdd4d90-b67a-498c-bde8-a5a5ad9bf027",
   "metadata": {},
   "outputs": [],
   "source": [
    "# if exists delete\n",
    "for index in pc.list_indexes().indexes:\n",
    "    if index.name == new_index_name:\n",
    "        pc.delete_index(new_index_name)"
   ]
  },
  {
   "cell_type": "code",
   "execution_count": null,
   "id": "fba6df8e-1725-4413-a498-bc8adf1f5ecf",
   "metadata": {},
   "outputs": [],
   "source": [
    "from pinecone import PodSpec\n",
    "pc.create_index(\n",
    "    name=new_index_name, \n",
    "    dimension=dimension, \n",
    "    metric=metric, \n",
    "    spec=PodSpec(\n",
    "        environment=\"gcp-starter\",\n",
    "        pod_type=\"starter\",\n",
    "        pods=1,\n",
    "        replicas=1,\n",
    "        shards=1\n",
    "))"
   ]
  },
  {
   "cell_type": "code",
   "execution_count": null,
   "id": "a031d01e-ab2a-413c-958c-4415bdde0db3",
   "metadata": {},
   "outputs": [],
   "source": [
    "pc.describe_index(new_index_name)"
   ]
  },
  {
   "cell_type": "code",
   "execution_count": null,
   "id": "91049cb2-95db-4d3b-81e4-96810c119f66",
   "metadata": {},
   "outputs": [],
   "source": [
    "index = pc.Index(name=new_index_name)"
   ]
  },
  {
   "cell_type": "code",
   "execution_count": null,
   "id": "8cd8f123-2917-42bb-b09b-11c62f03d928",
   "metadata": {},
   "outputs": [],
   "source": [
    "index"
   ]
  },
  {
   "cell_type": "code",
   "execution_count": null,
   "id": "743fcbdf-5253-424a-8267-0d102b7144ab",
   "metadata": {},
   "outputs": [],
   "source": [
    "import random\n",
    "ids = [ 'a', 'b', 'c', 'd']\n",
    "vectors = [ [random.random() for _ in range(64)] for vec in range(4) ]"
   ]
  },
  {
   "cell_type": "code",
   "execution_count": null,
   "id": "764cea9c-c1ee-4e78-8550-89bffea2e808",
   "metadata": {},
   "outputs": [],
   "source": [
    "ids"
   ]
  },
  {
   "cell_type": "code",
   "execution_count": null,
   "id": "c8f98b1b-fa99-476c-a58c-871711d16a3b",
   "metadata": {},
   "outputs": [],
   "source": [
    "len(vectors)"
   ]
  },
  {
   "cell_type": "code",
   "execution_count": null,
   "id": "546aeb4f-acf7-4fef-8318-5b166db2ad53",
   "metadata": {},
   "outputs": [],
   "source": [
    "# Bulk Insert some data\n",
    "# [(id1, vecvtor1), (id2, vector2)]\n",
    "index.upsert(vectors=zip(ids,vectors))"
   ]
  },
  {
   "cell_type": "code",
   "execution_count": null,
   "id": "1745b3bd-2301-4ba2-b208-3e702f72f371",
   "metadata": {},
   "outputs": [],
   "source": [
    "index.describe_index_stats()"
   ]
  },
  {
   "cell_type": "code",
   "execution_count": null,
   "id": "2cc7083a-35a0-43bb-886b-79b4d9c2ab80",
   "metadata": {},
   "outputs": [],
   "source": [
    "# large amounts of data should be inserted in batches over serveral requests"
   ]
  },
  {
   "cell_type": "code",
   "execution_count": null,
   "id": "191aca41-1e47-42d8-b3b5-776d5bf13169",
   "metadata": {},
   "outputs": [],
   "source": [
    "import itertools\n",
    "\n",
    "vector_dimension = 64\n",
    "vector_count = 1000"
   ]
  },
  {
   "cell_type": "code",
   "execution_count": null,
   "id": "905722fd-8c6b-4156-8033-b9a198f0d3bf",
   "metadata": {},
   "outputs": [],
   "source": [
    "# (id, vector)\n",
    "example_data_generator = map (\n",
    "    lambda i :\n",
    "        (f'id-{i}', [random.random() for _ in range(vector_dimension)]), range(vector_count)\n",
    ")\n",
    "\n",
    "# helper function to split data into batches\n",
    "def chunks(iterable, batch_size):\n",
    "    \n",
    "     it = iter(iterable)\n",
    "     chunk = tuple(itertools.islice(it, batch_size))\n",
    "     while chunk:\n",
    "        yield chunk\n",
    "        chunk = tuple(itertools.islice(it, batch_size))\n",
    "\t"
   ]
  },
  {
   "cell_type": "code",
   "execution_count": null,
   "id": "86ea15ab",
   "metadata": {},
   "outputs": [],
   "source": [
    "for chunk in chunks(example_data_generator, 100):\n",
    "    index.upsert(vectors=chunk)"
   ]
  }
 ],
 "metadata": {
  "kernelspec": {
   "display_name": "Python 3 (ipykernel)",
   "language": "python",
   "name": "python3"
  },
  "language_info": {
   "codemirror_mode": {
    "name": "ipython",
    "version": 3
   },
   "file_extension": ".py",
   "mimetype": "text/x-python",
   "name": "python",
   "nbconvert_exporter": "python",
   "pygments_lexer": "ipython3",
   "version": "3.11.0rc1"
  }
 },
 "nbformat": 4,
 "nbformat_minor": 5
}
