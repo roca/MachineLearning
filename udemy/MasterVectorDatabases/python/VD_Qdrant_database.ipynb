{
  "nbformat": 4,
  "nbformat_minor": 0,
  "metadata": {
    "colab": {
      "provenance": []
    },
    "kernelspec": {
      "name": "python3",
      "display_name": "Python 3"
    },
    "language_info": {
      "name": "python"
    }
  },
  "cells": [
    {
      "cell_type": "markdown",
      "source": [
        "## Qdrant"
      ],
      "metadata": {
        "id": "1pcasDiuMVvR"
      }
    },
    {
      "cell_type": "markdown",
      "source": [
        "- Vector Database\n",
        "- Open Source\n",
        "- An alternative to Pinecone database\n",
        "- Managed Services\n",
        "\n",
        "www.qdrant.tech"
      ],
      "metadata": {
        "id": "1LeIRKnaMirt"
      }
    },
    {
      "cell_type": "markdown",
      "source": [
        "### Setup\n",
        "- Setup 1GB Free cluster in cloud service\n",
        "- Vector database persistent in time\n",
        "- Database available from a URL\n",
        "- Data available via simple APIs"
      ],
      "metadata": {
        "id": "Ndc8bOHtMyWb"
      }
    },
    {
      "cell_type": "code",
      "source": [
        "# https://87cf3a23-f1db-424a-9d5f-da212d4074aa.us-east4-0.gcp.cloud.qdrant.io"
      ],
      "metadata": {
        "id": "RzH7Rc6dMYBl"
      },
      "execution_count": null,
      "outputs": []
    },
    {
      "cell_type": "code",
      "source": [
        "# api_key = ''"
      ],
      "metadata": {
        "id": "oOVr9ZFAMaO4"
      },
      "execution_count": 1,
      "outputs": []
    },
    {
      "cell_type": "code",
      "source": [
        "# Cluster > Collection > Vector Store > Point or Vector"
      ],
      "metadata": {
        "id": "drRctnGsMaRt"
      },
      "execution_count": null,
      "outputs": []
    },
    {
      "cell_type": "code",
      "source": [
        "# Vector is a numerical representation of your text"
      ],
      "metadata": {
        "id": "80SaPRRLMaUq"
      },
      "execution_count": null,
      "outputs": []
    },
    {
      "cell_type": "code",
      "source": [
        "!pip install qdrant_client openai tiktoken langchain"
      ],
      "metadata": {
        "id": "qkqEXLsDMaXn"
      },
      "execution_count": null,
      "outputs": []
    },
    {
      "cell_type": "code",
      "source": [
        "import os\n",
        "import qdrant_client\n",
        "\n",
        "from langchain.vectorstores import Qdrant\n",
        "from langchain.embeddings.openai import OpenAIEmbeddings"
      ],
      "metadata": {
        "id": "xXbpMXa-ZE_D"
      },
      "execution_count": null,
      "outputs": []
    },
    {
      "cell_type": "code",
      "source": [
        "# Create a qdrant client\n",
        "\n",
        "os.environ['QDRANT_HOST'] = ''\n",
        "os.environ['QDRANT_API_KEY'] = ''\n"
      ],
      "metadata": {
        "id": "suLwIEhlZYMu"
      },
      "execution_count": null,
      "outputs": []
    },
    {
      "cell_type": "code",
      "source": [
        "client = qdrant_client.QdrantClient(\n",
        "    os.getenv('QDRANT_HOST'),\n",
        "    api_key = os.getenv('QDRANT_API_KEY')\n",
        ")"
      ],
      "metadata": {
        "id": "b-qjFNQwZYPh"
      },
      "execution_count": null,
      "outputs": []
    },
    {
      "cell_type": "code",
      "source": [
        "from qdrant_client.http import models"
      ],
      "metadata": {
        "id": "6DFI3edIeUeN"
      },
      "execution_count": null,
      "outputs": []
    },
    {
      "cell_type": "code",
      "source": [
        "# create a collection (A database with vectors)\n",
        "# name, size or dimension, distance calculations = COSINE\n",
        "\n",
        "os.environ[\"QDRANT_COLLECTION_NAME\"] = 'collection1'\n",
        "\n",
        "vector_config = models.VectorParams(\n",
        "    size = 1536, # same as openAI\n",
        "    distance = models.Distance.COSINE\n",
        ")\n",
        "\n",
        "client.recreate_collection(\n",
        "    collection_name = os.getenv(\"QDRANT_COLLECTION_NAME\"),\n",
        "    vectors_config = vector_config\n",
        ")"
      ],
      "metadata": {
        "colab": {
          "base_uri": "https://localhost:8080/"
        },
        "id": "xMDwx5iUZYSN",
        "outputId": "4ecbc407-b9d9-486f-b6f5-e1a3a13375ce"
      },
      "execution_count": null,
      "outputs": [
        {
          "output_type": "execute_result",
          "data": {
            "text/plain": [
              "True"
            ]
          },
          "metadata": {},
          "execution_count": 11
        }
      ]
    },
    {
      "cell_type": "code",
      "source": [
        "# Create a vector store to store the documents"
      ],
      "metadata": {
        "id": "5BkdtsCkeT9g"
      },
      "execution_count": null,
      "outputs": []
    },
    {
      "cell_type": "code",
      "source": [
        "# Qdrant client - client, collection name, embeddings\n",
        "\n",
        "os.environ[\"OPENAI_API_KEY\"] = \"\"\n",
        "\n",
        "embeddings = OpenAIEmbeddings()\n",
        "\n",
        "vector_store = Qdrant(\n",
        "    client = client,\n",
        "    collection_name = os.getenv(\"QDRANT_COLLECTION_NAME\"),\n",
        "    embeddings = embeddings\n",
        ")\n",
        "\n"
      ],
      "metadata": {
        "id": "oEysNEK6cLHE"
      },
      "execution_count": null,
      "outputs": []
    },
    {
      "cell_type": "code",
      "source": [
        "# Add a document to vector store"
      ],
      "metadata": {
        "id": "qEjeARdncLJu"
      },
      "execution_count": null,
      "outputs": []
    },
    {
      "cell_type": "code",
      "source": [
        "# long documents > split the document into chunks > 1000 characters"
      ],
      "metadata": {
        "id": "x1qf9WuVcLM-"
      },
      "execution_count": null,
      "outputs": []
    },
    {
      "cell_type": "code",
      "source": [
        "with open('tsla_news.txt') as f:\n",
        "  raw_text = f.read()\n",
        "  print(raw_text)"
      ],
      "metadata": {
        "id": "6JWMb2q0ZFBu",
        "colab": {
          "base_uri": "https://localhost:8080/"
        },
        "outputId": "3c8f2de0-b72a-426f-a9ec-ebf2e4d247b0"
      },
      "execution_count": null,
      "outputs": [
        {
          "output_type": "stream",
          "name": "stdout",
          "text": [
            "As a company, Tesla (NASDAQ: TSLA) has been at the center of investors’ attention for many years. On the one hand, it represents the world’s most recognizable EV maker, piloted by one of the world’s most recognized billionaires. \n",
            "\n",
            "On the other hand, many have assessed that the firm is overvalued and priced as a big tech company and not a car maker – with Musk himself claiming the former on at least one occasion.\n",
            "\n",
            "No matter the stock market sentiment toward the EV maker, the numbers paint a decisive yet curious picture. Throughout 2020, Tesla delivered approximately 499 million vehicles and made $31.5 billion in revenue. In the first three quarters of 2023, the company delivered more than 1.3 million vehicles and already accrued more than $72 billion in revenue.\n",
            "\n",
            "Tesla’s earnings per share and profits have similarly vastly increased between 2020 and 2023 – $0.24 to $3.14 and $782 million to $11 billion, respectively. Despite the indisputable growth, the price of the EV maker’s shares is almost exactly the same – after accounting for the stock split – at the time of publication as it was at the tail end of 2020 – hovering near $220.\n",
            "\n",
            "The striking discrepancy between Tesla’s production and revenue growth between 2020 and 2023 and the apparent stagnation of its share price and market capitalization raised the question of whether the EV maker’s stock is bound for a manifold surge.\n",
            "\n",
            "Unfortunately, the future of Tesla’s stock remains a highly contentious topic. Based on the data from TipRanks, Wall Street analysts are themselves highly divided on how it will perform over the next 12 months.\n",
            "\n",
            "The average estimate shows a bullish sentiment – though nowhere near reflective of the revenue and production growth – and prices the shares at $248.93. It is important to note, however, that the difference between the highest and lowest estimates is very large and ranges from $85 per share to $380 per share.\n",
            "\n",
            "Part of the reason for the apparent stagnation in the value of Tesla’s shares is that both the bulls and the bears have reasonably strong arguments. \n",
            "\n",
            "The bear case for Tesla\n",
            "As mentioned above, many have argued over the years that Tesla is severely overpriced, with Elon Musk himself sending its price down after expressing the opinion on X – then known as Twitter – in 2020. \n",
            "\n",
            "This stance is further reinforced by another relatively common opinion that the company should not be viewed as a tech company but rather as a car manufacturing giant – an argument that has seemingly gained validity in recent years as other, more traditional companies have started designing and producing electric vehicles.\n",
            "\n",
            "Should Tesla become more aligned with other car companies, its stock might realistically meet the most bearish expectations and fall into a range between $10 – like the Ford Motor Company (NYSE: F)  – and $100 – similar to BMW (ETR: BMW).\n",
            "\n",
            "Apart from the broader discussion on how Tesla should actually be classified, the company has been facing several difficulties throughout 2023. There has been an overall slowdown in the EV market, and the company’s Q3 earnings report is widely seen as disappointing.\n",
            "\n",
            "A common point raised by Tesla’s detractors is the many reported seemingly spontaneous combustions of its vehicles. According to Tesla Fire, a website that tracks all verified instances of Tesla vehicles catching fire, there have been more than 20 such incidents so far in 2023. \n",
            "\n",
            "It is important to note, however, that while the news covering such events does have an impact on Tesla’s image – and its stock price by extension – the EV maker’s machines appear not to be significantly more or less frequent than with other manufacturers. They only make the headlines more often due to the company’s prominence.\n",
            "\n",
            "The bull case for Tesla\n",
            "Despite the issues and concerns, a strong case for Tesla bulls certainly remains. No matter where the company falls on the spectrum between a technology company and a car manufacturer, the EV maker has always held a key spot at the bleeding edge of electric vehicle innovation.\n",
            "\n",
            "This is perhaps best exemplified by the relatively broad adoption of Tesla infrastructure by other players in the industry. For example, Lucid Motors (NASDAQ: LCID), another EV maker, joined Tesla’s North American Charging Standard (NACS). Additionally, on November 13, the UK’s EG petrol station group announced it would acquire Tesla’s ultra-fast chargers to boost its own network.\n",
            "\n",
            "Additionally, Tesla recently made a breakthrough in the manufacturing process itself, leading to the news that its Berlin plant is likely to begin the production of a new €25,000 model.\n",
            "\n",
            "It is also possible that Tesla will enter a large, emerging EV market as soon as it is close to reaching an agreement with India’s government that would significantly reduce the country’s tariffs, according to a Financial TImes report from November 13.\n",
            "\n",
            "Finally, it is important not to look at Tesla’s share price in a vacuum. While it is similar to the values seen in late 2020, the company has achieved remarkable growth throughout the year and is up more than 100% since the start of the year. \n",
            "\n",
            "Additionally, it is handling the EV market slowdown comparatively well Tesla is maintaining its goal of 1.8 million vehicles.\n",
            "\n",
            "Tesla stock price analysis\n",
            "Whatever the future may bring for the EV maker, its share price stands at $223.71 at the time of publication. Over the previous 24 hours, it rose 4.22%. Its numbers for the previous month – largely due to the aforementioned Q3 report – are somewhat weaker, and the company declined by 11.90%.\n"
          ]
        }
      ]
    },
    {
      "cell_type": "code",
      "source": [
        "from langchain.text_splitter import CharacterTextSplitter\n",
        "\n",
        "def get_chunks(text):\n",
        "  text_splitter = CharacterTextSplitter(\n",
        "      separator = \"\\n\",\n",
        "      chunk_size = 200,\n",
        "      chunk_overlap = 40,\n",
        "      length_function = len\n",
        "  )\n",
        "\n",
        "  chunks = text_splitter.split_text(text)\n",
        "\n",
        "  return chunks\n"
      ],
      "metadata": {
        "id": "3YyMYy5uZFEW"
      },
      "execution_count": null,
      "outputs": []
    },
    {
      "cell_type": "code",
      "source": [
        "texts = get_chunks(raw_text)\n",
        "print(texts)"
      ],
      "metadata": {
        "id": "GDycqhFCZFG5",
        "colab": {
          "base_uri": "https://localhost:8080/"
        },
        "outputId": "321f2c87-f0f1-4ffd-f005-984fc0352786"
      },
      "execution_count": null,
      "outputs": [
        {
          "output_type": "stream",
          "name": "stderr",
          "text": [
            "WARNING:langchain.text_splitter:Created a chunk of size 229, which is longer than the specified 200\n",
            "WARNING:langchain.text_splitter:Created a chunk of size 354, which is longer than the specified 200\n",
            "WARNING:langchain.text_splitter:Created a chunk of size 375, which is longer than the specified 200\n",
            "WARNING:langchain.text_splitter:Created a chunk of size 248, which is longer than the specified 200\n",
            "WARNING:langchain.text_splitter:Created a chunk of size 210, which is longer than the specified 200\n",
            "WARNING:langchain.text_splitter:Created a chunk of size 310, which is longer than the specified 200\n",
            "WARNING:langchain.text_splitter:Created a chunk of size 202, which is longer than the specified 200\n",
            "WARNING:langchain.text_splitter:Created a chunk of size 324, which is longer than the specified 200\n",
            "WARNING:langchain.text_splitter:Created a chunk of size 238, which is longer than the specified 200\n",
            "WARNING:langchain.text_splitter:Created a chunk of size 266, which is longer than the specified 200\n",
            "WARNING:langchain.text_splitter:Created a chunk of size 279, which is longer than the specified 200\n",
            "WARNING:langchain.text_splitter:Created a chunk of size 329, which is longer than the specified 200\n",
            "WARNING:langchain.text_splitter:Created a chunk of size 277, which is longer than the specified 200\n",
            "WARNING:langchain.text_splitter:Created a chunk of size 383, which is longer than the specified 200\n",
            "WARNING:langchain.text_splitter:Created a chunk of size 252, which is longer than the specified 200\n",
            "WARNING:langchain.text_splitter:Created a chunk of size 243, which is longer than the specified 200\n"
          ]
        },
        {
          "output_type": "stream",
          "name": "stdout",
          "text": [
            "['As a company, Tesla (NASDAQ: TSLA) has been at the center of investors’ attention for many years. On the one hand, it represents the world’s most recognizable EV maker, piloted by one of the world’s most recognized billionaires.', 'On the other hand, many have assessed that the firm is overvalued and priced as a big tech company and not a car maker – with Musk himself claiming the former on at least one occasion.', 'No matter the stock market sentiment toward the EV maker, the numbers paint a decisive yet curious picture. Throughout 2020, Tesla delivered approximately 499 million vehicles and made $31.5 billion in revenue. In the first three quarters of 2023, the company delivered more than 1.3 million vehicles and already accrued more than $72 billion in revenue.', 'Tesla’s earnings per share and profits have similarly vastly increased between 2020 and 2023 – $0.24 to $3.14 and $782 million to $11 billion, respectively. Despite the indisputable growth, the price of the EV maker’s shares is almost exactly the same – after accounting for the stock split – at the time of publication as it was at the tail end of 2020 – hovering near $220.', 'The striking discrepancy between Tesla’s production and revenue growth between 2020 and 2023 and the apparent stagnation of its share price and market capitalization raised the question of whether the EV maker’s stock is bound for a manifold surge.', 'Unfortunately, the future of Tesla’s stock remains a highly contentious topic. Based on the data from TipRanks, Wall Street analysts are themselves highly divided on how it will perform over the next 12 months.', 'The average estimate shows a bullish sentiment – though nowhere near reflective of the revenue and production growth – and prices the shares at $248.93. It is important to note, however, that the difference between the highest and lowest estimates is very large and ranges from $85 per share to $380 per share.', 'Part of the reason for the apparent stagnation in the value of Tesla’s shares is that both the bulls and the bears have reasonably strong arguments. \\nThe bear case for Tesla', 'As mentioned above, many have argued over the years that Tesla is severely overpriced, with Elon Musk himself sending its price down after expressing the opinion on X – then known as Twitter – in 2020.', 'This stance is further reinforced by another relatively common opinion that the company should not be viewed as a tech company but rather as a car manufacturing giant – an argument that has seemingly gained validity in recent years as other, more traditional companies have started designing and producing electric vehicles.', 'Should Tesla become more aligned with other car companies, its stock might realistically meet the most bearish expectations and fall into a range between $10 – like the Ford Motor Company (NYSE: F)  – and $100 – similar to BMW (ETR: BMW).', 'Apart from the broader discussion on how Tesla should actually be classified, the company has been facing several difficulties throughout 2023. There has been an overall slowdown in the EV market, and the company’s Q3 earnings report is widely seen as disappointing.', 'A common point raised by Tesla’s detractors is the many reported seemingly spontaneous combustions of its vehicles. According to Tesla Fire, a website that tracks all verified instances of Tesla vehicles catching fire, there have been more than 20 such incidents so far in 2023.', 'It is important to note, however, that while the news covering such events does have an impact on Tesla’s image – and its stock price by extension – the EV maker’s machines appear not to be significantly more or less frequent than with other manufacturers. They only make the headlines more often due to the company’s prominence.', 'The bull case for Tesla', 'Despite the issues and concerns, a strong case for Tesla bulls certainly remains. No matter where the company falls on the spectrum between a technology company and a car manufacturer, the EV maker has always held a key spot at the bleeding edge of electric vehicle innovation.', 'This is perhaps best exemplified by the relatively broad adoption of Tesla infrastructure by other players in the industry. For example, Lucid Motors (NASDAQ: LCID), another EV maker, joined Tesla’s North American Charging Standard (NACS). Additionally, on November 13, the UK’s EG petrol station group announced it would acquire Tesla’s ultra-fast chargers to boost its own network.', 'Additionally, Tesla recently made a breakthrough in the manufacturing process itself, leading to the news that its Berlin plant is likely to begin the production of a new €25,000 model.', 'It is also possible that Tesla will enter a large, emerging EV market as soon as it is close to reaching an agreement with India’s government that would significantly reduce the country’s tariffs, according to a Financial TImes report from November 13.', 'Finally, it is important not to look at Tesla’s share price in a vacuum. While it is similar to the values seen in late 2020, the company has achieved remarkable growth throughout the year and is up more than 100% since the start of the year.', 'Additionally, it is handling the EV market slowdown comparatively well Tesla is maintaining its goal of 1.8 million vehicles.\\nTesla stock price analysis', 'Whatever the future may bring for the EV maker, its share price stands at $223.71 at the time of publication. Over the previous 24 hours, it rose 4.22%. Its numbers for the previous month – largely due to the aforementioned Q3 report – are somewhat weaker, and the company declined by 11.90%.']\n"
          ]
        }
      ]
    },
    {
      "cell_type": "code",
      "source": [
        "len(texts)"
      ],
      "metadata": {
        "colab": {
          "base_uri": "https://localhost:8080/"
        },
        "id": "7yzABzwDE52w",
        "outputId": "4816fe5f-78dc-4ed1-93ba-597be9c6da7d"
      },
      "execution_count": null,
      "outputs": [
        {
          "output_type": "execute_result",
          "data": {
            "text/plain": [
              "22"
            ]
          },
          "metadata": {},
          "execution_count": 28
        }
      ]
    },
    {
      "cell_type": "code",
      "source": [
        "vector_store.add_texts(texts)"
      ],
      "metadata": {
        "colab": {
          "base_uri": "https://localhost:8080/"
        },
        "id": "2Ntt-EqbE55y",
        "outputId": "5877d0ec-c1e4-422c-f34a-47850b293544"
      },
      "execution_count": null,
      "outputs": [
        {
          "output_type": "execute_result",
          "data": {
            "text/plain": [
              "['f3467c1746f54fe08692bf4f1fb0c6bf',\n",
              " '4fadc267f690402abe51e78e4f1f5d7a',\n",
              " 'b0315c3d2b9e4e4a8c2bbfa775ae9a22',\n",
              " '40523d09495d434589fbab1e0b9a2270',\n",
              " '2cdaef6a9c9a4ceea1c64c88326ff2a5',\n",
              " 'e0d70bc828aa4146986a1e0938f822ee',\n",
              " 'aed6b24f64d2421eaf5984b70ab12f34',\n",
              " '873449f3615f447d97e9eb820730f083',\n",
              " '25eeb4dc75cc4917be7858320ac843c6',\n",
              " '304608e5249c4fb69301429498faf31b',\n",
              " 'de893e2086924a75ab77e3b9519e38e6',\n",
              " 'c2506853bdf64b98a03119bce04af441',\n",
              " '3a18ac67cd9b43458f0a8038170567de',\n",
              " '63544aad3be94c0b8eb478beccc82480',\n",
              " 'dd6c7a960cbf473aba9c1d85e275e7d1',\n",
              " '09ec006b982340d68fac3c2384183d08',\n",
              " 'bd7fbbc4823d4a58a25307de120d6873',\n",
              " '2cce050901004d96951b60efbca24b50',\n",
              " 'afbbf791be6b41a2af40162448d9cb35',\n",
              " 'f41c7f358ef44d73ac04833434eb1b3a',\n",
              " 'fda1630175604b6788e2fee618ad44c8',\n",
              " '6dce0b27d9374d8b8f1cd4380f11848c']"
            ]
          },
          "metadata": {},
          "execution_count": 29
        }
      ]
    },
    {
      "cell_type": "code",
      "source": [
        "# query the data"
      ],
      "metadata": {
        "id": "dxt45ljoK6js"
      },
      "execution_count": null,
      "outputs": []
    },
    {
      "cell_type": "code",
      "source": [
        "# retriever\n",
        "\n",
        "from langchain.llms import OpenAI\n",
        "from langchain.chains import RetrievalQA\n",
        "from langchain.schema import retriever\n"
      ],
      "metadata": {
        "id": "UVG6wTJiNoAc"
      },
      "execution_count": null,
      "outputs": []
    },
    {
      "cell_type": "code",
      "source": [
        "qa = RetrievalQA.from_chain_type(\n",
        "    llm = OpenAI(),\n",
        "    chain_type = \"stuff\",\n",
        "    retriever = vector_store.as_retriever()\n",
        ")"
      ],
      "metadata": {
        "id": "LyHJ8l_iNoDZ"
      },
      "execution_count": null,
      "outputs": []
    },
    {
      "cell_type": "code",
      "source": [
        "query = \"What was the tesla earning price\"\n",
        "response = qa.run(query)\n",
        "print(response)"
      ],
      "metadata": {
        "colab": {
          "base_uri": "https://localhost:8080/"
        },
        "id": "WT6Ag6udNoGN",
        "outputId": "53141f17-aeda-4648-bed6-58f66d1d91c2"
      },
      "execution_count": null,
      "outputs": [
        {
          "output_type": "stream",
          "name": "stdout",
          "text": [
            " Tesla's earnings per share in 2023 was $3.14.\n"
          ]
        }
      ]
    },
    {
      "cell_type": "code",
      "source": [
        "query = \"Give me the top 5 main key points of the news\"\n",
        "response = qa.run(query)\n",
        "print(response)"
      ],
      "metadata": {
        "id": "1nenDyknZFM6",
        "colab": {
          "base_uri": "https://localhost:8080/"
        },
        "outputId": "afa01675-7efd-4aa3-d1a4-e95dbee31af6"
      },
      "execution_count": null,
      "outputs": [
        {
          "output_type": "stream",
          "name": "stdout",
          "text": [
            " 1. Tesla has experienced events that have impacted its stock price, but they may not be more frequent than other manufacturers. \n",
            "2. Tesla recently made a breakthrough in the manufacturing process. \n",
            "3. Tesla's Berlin plant is likely to begin the production of a new €25,000 model. \n",
            "4. Tesla is the world's most recognizable EV maker. \n",
            "5. Tesla is piloted by one of the world's most recognized billionaires.\n"
          ]
        }
      ]
    },
    {
      "cell_type": "code",
      "source": [],
      "metadata": {
        "id": "jrUMJ29FMaaM"
      },
      "execution_count": null,
      "outputs": []
    }
  ]
}