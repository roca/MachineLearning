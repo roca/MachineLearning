{
  "cells": [
    {
      "cell_type": "markdown",
      "metadata": {
        "id": "1pcasDiuMVvR"
      },
      "source": [
        "## Qdrant"
      ]
    },
    {
      "cell_type": "markdown",
      "metadata": {
        "id": "1LeIRKnaMirt"
      },
      "source": [
        "- Vector Database\n",
        "- Open Source\n",
        "- An alternative to Pinecone database\n",
        "- Managed Services\n",
        "\n",
        "www.qdrant.tech"
      ]
    },
    {
      "cell_type": "markdown",
      "metadata": {
        "id": "Ndc8bOHtMyWb"
      },
      "source": [
        "### Setup\n",
        "- Setup 1GB Free cluster in cloud service\n",
        "- Vector database persistent in time\n",
        "- Database available from a URL\n",
        "- Data available via simple APIs"
      ]
    },
    {
      "cell_type": "code",
      "execution_count": null,
      "metadata": {
        "id": "RzH7Rc6dMYBl"
      },
      "outputs": [],
      "source": [
        "# https://87cf3a23-f1db-424a-9d5f-da212d4074aa.us-east4-0.gcp.cloud.qdrant.io"
      ]
    },
    {
      "cell_type": "code",
      "execution_count": null,
      "metadata": {
        "id": "oOVr9ZFAMaO4"
      },
      "outputs": [],
      "source": [
        "# api_key = ''"
      ]
    },
    {
      "cell_type": "code",
      "execution_count": null,
      "metadata": {
        "id": "drRctnGsMaRt"
      },
      "outputs": [],
      "source": [
        "# Cluster > Collection > Vector Store > Point or Vector"
      ]
    },
    {
      "cell_type": "code",
      "execution_count": null,
      "metadata": {
        "id": "80SaPRRLMaUq"
      },
      "outputs": [],
      "source": [
        "# Vector is a numerical representation of your text"
      ]
    },
    {
      "cell_type": "code",
      "execution_count": null,
      "metadata": {
        "id": "qkqEXLsDMaXn"
      },
      "outputs": [],
      "source": [
        "!pip install qdrant_client openai tiktoken langchain-openai langchain_community langchain"
      ]
    },
    {
      "cell_type": "code",
      "execution_count": null,
      "metadata": {
        "id": "xXbpMXa-ZE_D"
      },
      "outputs": [],
      "source": [
        "import os\n",
        "import qdrant_client\n",
        "\n",
        "from langchain_community.vectorstores import Qdrant\n",
        "from langchain_openai import OpenAIEmbeddings"
      ]
    },
    {
      "cell_type": "code",
      "execution_count": null,
      "metadata": {
        "id": "suLwIEhlZYMu"
      },
      "outputs": [],
      "source": [
        "# # Create a qdrant client\n",
        "\n",
        "# os.environ['QDRANT_HOST'] = ''\n",
        "# os.environ['QDRANT_API_KEY'] = ''\n",
        "os.environ['QDRANT_HOST']\n"
      ]
    },
    {
      "cell_type": "code",
      "execution_count": null,
      "metadata": {
        "id": "b-qjFNQwZYPh"
      },
      "outputs": [],
      "source": [
        "client = qdrant_client.QdrantClient(\n",
        "    os.getenv('QDRANT_HOST'),\n",
        "    #api_key = os.getenv('QDRANT_API_KEY')\n",
        ")"
      ]
    },
    {
      "cell_type": "code",
      "execution_count": null,
      "metadata": {},
      "outputs": [],
      "source": [
        "os.getenv('QDRANT_HOST')"
      ]
    },
    {
      "cell_type": "code",
      "execution_count": null,
      "metadata": {
        "id": "6DFI3edIeUeN"
      },
      "outputs": [],
      "source": [
        "from qdrant_client.http import models"
      ]
    },
    {
      "cell_type": "code",
      "execution_count": null,
      "metadata": {
        "colab": {
          "base_uri": "https://localhost:8080/"
        },
        "id": "xMDwx5iUZYSN",
        "outputId": "4ecbc407-b9d9-486f-b6f5-e1a3a13375ce"
      },
      "outputs": [],
      "source": [
        "# create a collection (A database with vectors)\n",
        "# name, size or dimension, distance calculations = COSINE\n",
        "\n",
        "os.environ[\"QDRANT_COLLECTION_NAME\"] = 'collection1'\n",
        "\n",
        "vector_config = models.VectorParams(\n",
        "    size = 1536, # same as openAI\n",
        "    distance = models.Distance.COSINE\n",
        ")\n",
        "\n",
        "client.recreate_collection(\n",
        "    collection_name = os.getenv(\"QDRANT_COLLECTION_NAME\"),\n",
        "    vectors_config = vector_config\n",
        ")"
      ]
    },
    {
      "cell_type": "code",
      "execution_count": null,
      "metadata": {},
      "outputs": [],
      "source": [
        "client.get_collections()"
      ]
    },
    {
      "cell_type": "code",
      "execution_count": null,
      "metadata": {
        "id": "5BkdtsCkeT9g"
      },
      "outputs": [],
      "source": [
        "# Create a vector store to store the documents"
      ]
    },
    {
      "cell_type": "code",
      "execution_count": null,
      "metadata": {},
      "outputs": [],
      "source": [
        "os.environ[\"OPENAI_API_KEY\"]"
      ]
    },
    {
      "cell_type": "code",
      "execution_count": null,
      "metadata": {
        "id": "oEysNEK6cLHE"
      },
      "outputs": [],
      "source": [
        "# Qdrant client - client, collection name, embeddings\n",
        "\n",
        "#os.environ[\"OPENAI_API_KEY\"] = \"\"\n",
        "\n",
        "embeddings = OpenAIEmbeddings()\n",
        "\n",
        "vector_store = Qdrant(\n",
        "    client = client,\n",
        "    collection_name = os.getenv(\"QDRANT_COLLECTION_NAME\"),\n",
        "    embeddings = embeddings\n",
        ")"
      ]
    },
    {
      "cell_type": "code",
      "execution_count": null,
      "metadata": {
        "id": "qEjeARdncLJu"
      },
      "outputs": [],
      "source": [
        "# Add a document to vector store"
      ]
    },
    {
      "cell_type": "code",
      "execution_count": null,
      "metadata": {
        "id": "x1qf9WuVcLM-"
      },
      "outputs": [],
      "source": [
        "# long documents > split the document into chunks > 1000 characters"
      ]
    },
    {
      "cell_type": "code",
      "execution_count": null,
      "metadata": {
        "colab": {
          "base_uri": "https://localhost:8080/"
        },
        "id": "6JWMb2q0ZFBu",
        "outputId": "3c8f2de0-b72a-426f-a9ec-ebf2e4d247b0"
      },
      "outputs": [],
      "source": [
        "with open('tsla_news.txt') as f:\n",
        "  raw_text = f.read()\n",
        "  print(raw_text)"
      ]
    },
    {
      "cell_type": "code",
      "execution_count": null,
      "metadata": {
        "id": "3YyMYy5uZFEW"
      },
      "outputs": [],
      "source": [
        "from langchain.text_splitter import CharacterTextSplitter\n",
        "\n",
        "def get_chunks(text):\n",
        "  text_splitter = CharacterTextSplitter(\n",
        "      separator = \"\\n\",\n",
        "      chunk_size = 200,\n",
        "      chunk_overlap = 40,\n",
        "      length_function = len\n",
        "  )\n",
        "\n",
        "  chunks = text_splitter.split_text(text)\n",
        "\n",
        "  return chunks\n"
      ]
    },
    {
      "cell_type": "code",
      "execution_count": null,
      "metadata": {
        "colab": {
          "base_uri": "https://localhost:8080/"
        },
        "id": "GDycqhFCZFG5",
        "outputId": "321f2c87-f0f1-4ffd-f005-984fc0352786"
      },
      "outputs": [],
      "source": [
        "texts = get_chunks(raw_text)\n",
        "print(texts)"
      ]
    },
    {
      "cell_type": "code",
      "execution_count": null,
      "metadata": {
        "colab": {
          "base_uri": "https://localhost:8080/"
        },
        "id": "7yzABzwDE52w",
        "outputId": "4816fe5f-78dc-4ed1-93ba-597be9c6da7d"
      },
      "outputs": [],
      "source": [
        "len(texts)"
      ]
    },
    {
      "cell_type": "code",
      "execution_count": null,
      "metadata": {
        "colab": {
          "base_uri": "https://localhost:8080/"
        },
        "id": "2Ntt-EqbE55y",
        "outputId": "5877d0ec-c1e4-422c-f34a-47850b293544"
      },
      "outputs": [],
      "source": [
        "vector_store.add_texts(texts)"
      ]
    },
    {
      "cell_type": "code",
      "execution_count": null,
      "metadata": {
        "id": "dxt45ljoK6js"
      },
      "outputs": [],
      "source": [
        "# query the data"
      ]
    },
    {
      "cell_type": "code",
      "execution_count": null,
      "metadata": {
        "id": "UVG6wTJiNoAc"
      },
      "outputs": [],
      "source": [
        "# retriever\n",
        "\n",
        "from langchain.llms import OpenAI\n",
        "from langchain.chains import RetrievalQA\n",
        "from langchain.schema import retriever\n"
      ]
    },
    {
      "cell_type": "code",
      "execution_count": null,
      "metadata": {
        "id": "LyHJ8l_iNoDZ"
      },
      "outputs": [],
      "source": [
        "qa = RetrievalQA.from_chain_type(\n",
        "    llm = OpenAI(),\n",
        "    chain_type = \"stuff\",\n",
        "    retriever = vector_store.as_retriever()\n",
        ")"
      ]
    },
    {
      "cell_type": "code",
      "execution_count": null,
      "metadata": {
        "colab": {
          "base_uri": "https://localhost:8080/"
        },
        "id": "WT6Ag6udNoGN",
        "outputId": "53141f17-aeda-4648-bed6-58f66d1d91c2"
      },
      "outputs": [],
      "source": [
        "query = \"What was the tesla earning price\"\n",
        "response = qa.run(query)\n",
        "print(response)"
      ]
    },
    {
      "cell_type": "code",
      "execution_count": null,
      "metadata": {
        "colab": {
          "base_uri": "https://localhost:8080/"
        },
        "id": "1nenDyknZFM6",
        "outputId": "afa01675-7efd-4aa3-d1a4-e95dbee31af6"
      },
      "outputs": [],
      "source": [
        "query = \"Give me the top 5 main key points of the news\"\n",
        "response = qa.run(query)\n",
        "print(response)"
      ]
    },
    {
      "cell_type": "code",
      "execution_count": null,
      "metadata": {
        "id": "jrUMJ29FMaaM"
      },
      "outputs": [],
      "source": []
    }
  ],
  "metadata": {
    "colab": {
      "provenance": []
    },
    "kernelspec": {
      "display_name": "Python 3 (ipykernel)",
      "language": "python",
      "name": "python3"
    },
    "language_info": {
      "codemirror_mode": {
        "name": "ipython",
        "version": 3
      },
      "file_extension": ".py",
      "mimetype": "text/x-python",
      "name": "python",
      "nbconvert_exporter": "python",
      "pygments_lexer": "ipython3",
      "version": "3.11.0rc1"
    }
  },
  "nbformat": 4,
  "nbformat_minor": 0
}
