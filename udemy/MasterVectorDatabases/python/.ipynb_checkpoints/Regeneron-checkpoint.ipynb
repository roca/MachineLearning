{
 "cells": [
  {
   "cell_type": "code",
   "execution_count": null,
   "id": "75d4fae5-9b39-4dce-97c0-ebe8330b31fe",
   "metadata": {},
   "outputs": [],
   "source": [
    "#  Code ref: https://ritscm.regeneron.com/projects/DSEAIM/repos/secureaccess/browse/securekeyapp.py"
   ]
  },
  {
   "cell_type": "code",
   "execution_count": null,
   "id": "30ffc01b-b77e-44b9-a575-32979335e2f9",
   "metadata": {},
   "outputs": [],
   "source": [
    "!pip install --trusted-host pypi.python.org --trusted-host pypi.org --trusted-host files.pythonhosted.org --upgrade pip"
   ]
  },
  {
   "cell_type": "code",
   "execution_count": null,
   "id": "9f7cb266-a8b8-4f43-9774-eaf4e3b9dd58",
   "metadata": {},
   "outputs": [],
   "source": [
    "!pip install  --trusted-host pypi.python.org --trusted-host pypi.org --trusted-host files.pythonhosted.org \\\n",
    "msal \\\n",
    "retry \\\n",
    "simplejson \\\n",
    "openai"
   ]
  },
  {
   "cell_type": "code",
   "execution_count": null,
   "id": "d9a6ae04-c6e9-4774-9284-31b441f59ece",
   "metadata": {},
   "outputs": [],
   "source": [
    "import os\n",
    "import openai\n",
    "import requests\n",
    "import simplejson as json\n",
    "from retry import retry\n",
    "from msal import PublicClientApplication, ConfidentialClientApplication, ClientApplication\n",
    "import time"
   ]
  },
  {
   "cell_type": "code",
   "execution_count": null,
   "id": "4ba72e62-598b-423f-b694-900e9850ab4b",
   "metadata": {},
   "outputs": [],
   "source": [
    "@retry (tries=3, delay=2)\n",
    "def getapikey():\n",
    "    # These are the AZURE parameters needed by the client application\n",
    "    # In this scheme, the user does not have to worry about the api key, all of that is handled\n",
    "    # at the AZURE Back End.   The API key is rotated hourly.\n",
    "    # We can handle these as Kuberbetes secrets, or as environment variables.\n",
    "    client_id = os.getenv(\"AZURE_CLIENT_ID\")\n",
    "    tenant_id = os.getenv(\"AZURE_TENANT_ID\")\n",
    "    endpoint = os.getenv(\"AZURE_ENDPOINT\")\n",
    "\n",
    "    scopes = [os.getenv(\"AZURE_APPLICATION_SCOPE\")]\n",
    "\n",
    "    app = ClientApplication(\n",
    "        client_id=client_id,\n",
    "        authority=\"https://login.microsoftonline.com/\" + tenant_id\n",
    "    )\n",
    "\n",
    "\n",
    "    acquire_tokens_result = app.acquire_token_by_username_password(username=os.getenv(\"SVC_ACCOUNT\"),\n",
    "                                                                   password=os.getenv(\"SVC_PASSWORD\"),\n",
    "                                                                   scopes=scopes)\n",
    "    if 'error' in acquire_tokens_result:\n",
    "        print(\"Error: \" + acquire_tokens_result['error'])\n",
    "        print(\"Description: \" + acquire_tokens_result['error_description'])\n",
    "        return 2\n",
    "    else:\n",
    "        header_token = {\"Authorization\": \"Bearer {}\".format(acquire_tokens_result['access_token'])}\n",
    "        rt = requests.post(url=endpoint, headers=header_token, data=b'{\"key\":\"openaikey2\"}')\n",
    "        return rt.json()"
   ]
  },
  {
   "cell_type": "code",
   "execution_count": null,
   "id": "767de030-c9e3-4f2c-89c8-0268b7c3c3ed",
   "metadata": {},
   "outputs": [],
   "source": [
    "openai.api_type = os.getenv(\"OPENAI_API_TYPE\")\n",
    "openai.api_base = os.getenv(\"OPENAI_API_BASE\")\n",
    "openai.api_version = os.getenv(\"OPENAI_API_VERSION\")\n",
    "# We are dynamically getting the key from AZURE>   Access is based on the service account/ad group combination\n",
    "openai.api_key = getapikey()\n",
    "print(openai.api_key)"
   ]
  },
  {
   "cell_type": "code",
   "execution_count": null,
   "id": "63859fee-2954-4cef-8181-439af601d142",
   "metadata": {},
   "outputs": [],
   "source": [
    "import os\n",
    "from openai import AzureOpenAI\n",
    "\n",
    "client = AzureOpenAI(\n",
    "  api_key = getapikey(),  \n",
    "  api_version = os.getenv(\"OPENAI_API_VERSION\"),\n",
    "  azure_endpoint = os.getenv(\"AZURE_OPENAI_ENDPOINT\")\n",
    ")\n",
    "\n",
    "response = client.embeddings.create(\n",
    "    input = \"Your text string goes here\",\n",
    "    model= \"RegnADA002\"\n",
    ")\n",
    "\n",
    "print(response.model_dump_json(indent=2))"
   ]
  },
  {
   "cell_type": "code",
   "execution_count": null,
   "id": "f02790f6-1ef1-45e2-9df7-e56a14e134ee",
   "metadata": {},
   "outputs": [],
   "source": []
  }
 ],
 "metadata": {
  "kernelspec": {
   "display_name": "Python 3 (ipykernel)",
   "language": "python",
   "name": "python3"
  },
  "language_info": {
   "codemirror_mode": {
    "name": "ipython",
    "version": 3
   },
   "file_extension": ".py",
   "mimetype": "text/x-python",
   "name": "python",
   "nbconvert_exporter": "python",
   "pygments_lexer": "ipython3",
   "version": "3.11.0rc1"
  }
 },
 "nbformat": 4,
 "nbformat_minor": 5
}
