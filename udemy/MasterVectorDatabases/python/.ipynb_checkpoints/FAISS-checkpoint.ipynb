{
  "nbformat": 4,
  "nbformat_minor": 0,
  "metadata": {
    "colab": {
      "provenance": [],
      "gpuType": "T4"
    },
    "kernelspec": {
      "name": "python3",
      "display_name": "Python 3"
    },
    "language_info": {
      "name": "python"
    }
  },
  "cells": [
    {
      "cell_type": "markdown",
      "source": [
        "## FAISS"
      ],
      "metadata": {
        "id": "cX8lawwGnlYD"
      }
    },
    {
      "cell_type": "markdown",
      "source": [
        "- An AI library developed by Facebook\n",
        "- A library for efficient similarity search\n",
        "- It has lots of indexes to computer the approximate nearest neighbours vectors\n",
        "\n",
        "https://engineering.fb.com/2017/03/29/data-infrastructure/faiss-a-library-for-efficient-similarity-search/"
      ],
      "metadata": {
        "id": "8lgXdYPFnoOy"
      }
    },
    {
      "cell_type": "markdown",
      "source": [
        "https://github.com/facebookresearch/faiss/wiki"
      ],
      "metadata": {
        "id": "Alt3Bv7loSDs"
      }
    },
    {
      "cell_type": "markdown",
      "source": [
        "https://github.com/facebookresearch/faiss/wiki/Faiss-indexes"
      ],
      "metadata": {
        "id": "zaw1EMnpotyF"
      }
    },
    {
      "cell_type": "markdown",
      "source": [
        "- Distance Calculation method : L2 (Euclidean distance)"
      ],
      "metadata": {
        "id": "no6SVYNYoeN7"
      }
    },
    {
      "cell_type": "markdown",
      "source": [
        "- Cell-Probe Method"
      ],
      "metadata": {
        "id": "1AZNtFiLo66R"
      }
    },
    {
      "cell_type": "markdown",
      "source": [
        "1. How they work?\n",
        "2. How to use them?\n",
        "3. Compare them with Brute force approach"
      ],
      "metadata": {
        "id": "juJSvw97pDke"
      }
    },
    {
      "cell_type": "code",
      "source": [
        "!pip install faiss-cpu\n"
      ],
      "metadata": {
        "colab": {
          "base_uri": "https://localhost:8080/"
        },
        "id": "3zVGOjtInnEb",
        "outputId": "6d9430bf-1906-4050-b841-f8cfcbdab181"
      },
      "execution_count": null,
      "outputs": [
        {
          "output_type": "stream",
          "name": "stdout",
          "text": [
            "Collecting faiss-cpu\n",
            "  Downloading faiss_cpu-1.7.4-cp310-cp310-manylinux_2_17_x86_64.manylinux2014_x86_64.whl (17.6 MB)\n",
            "\u001b[2K     \u001b[90m━━━━━━━━━━━━━━━━━━━━━━━━━━━━━━━━━━━━━━━━\u001b[0m \u001b[32m17.6/17.6 MB\u001b[0m \u001b[31m46.0 MB/s\u001b[0m eta \u001b[36m0:00:00\u001b[0m\n",
            "\u001b[?25hInstalling collected packages: faiss-cpu\n",
            "Successfully installed faiss-cpu-1.7.4\n"
          ]
        }
      ]
    },
    {
      "cell_type": "code",
      "source": [
        "#Efficient, High dimentional indexing, GPU Accelarion, Versatility - Flat, IVF , PQ"
      ],
      "metadata": {
        "id": "jVtTIHjwOidL"
      },
      "execution_count": null,
      "outputs": []
    },
    {
      "cell_type": "code",
      "source": [
        "import faiss\n",
        "import numpy as np"
      ],
      "metadata": {
        "id": "gqB2WibrnCfs"
      },
      "execution_count": null,
      "outputs": []
    },
    {
      "cell_type": "code",
      "source": [
        "# Generate some random vectors for demonstration\n",
        "\n",
        "dimension = 64\n",
        "num_vectors = 1000\n",
        "\n",
        "query_vector = np.random.random((1, dimension)).astype('float32')\n",
        "data_vectors = np.random.random((num_vectors, dimension)).astype('float32')"
      ],
      "metadata": {
        "id": "FINwo_d9nCin"
      },
      "execution_count": null,
      "outputs": []
    },
    {
      "cell_type": "code",
      "source": [
        "query_vector"
      ],
      "metadata": {
        "colab": {
          "base_uri": "https://localhost:8080/"
        },
        "id": "i1f4M7v9nClk",
        "outputId": "7aef4fc9-c430-449e-b82a-fb908852d3f5"
      },
      "execution_count": null,
      "outputs": [
        {
          "output_type": "execute_result",
          "data": {
            "text/plain": [
              "array([[0.83631843, 0.24012427, 0.8614218 , 0.15864664, 0.2133401 ,\n",
              "        0.9668993 , 0.7471294 , 0.25806025, 0.04115563, 0.89170384,\n",
              "        0.52258253, 0.99731773, 0.52784187, 0.20670287, 0.47734925,\n",
              "        0.27800924, 0.732037  , 0.77009296, 0.3643049 , 0.7415578 ,\n",
              "        0.978897  , 0.07220161, 0.4572621 , 0.32064703, 0.5628677 ,\n",
              "        0.2582574 , 0.02254519, 0.03717828, 0.4304883 , 0.8752154 ,\n",
              "        0.82644206, 0.7229053 , 0.6928956 , 0.03229824, 0.6929262 ,\n",
              "        0.4507195 , 0.5699979 , 0.02610633, 0.9497388 , 0.8031532 ,\n",
              "        0.9929684 , 0.28322113, 0.63157773, 0.01299521, 0.25403017,\n",
              "        0.73477316, 0.507482  , 0.5712722 , 0.8850522 , 0.9285125 ,\n",
              "        0.7747772 , 0.55473506, 0.19500738, 0.9684543 , 0.9188128 ,\n",
              "        0.87259597, 0.68696654, 0.689767  , 0.03645605, 0.15864179,\n",
              "        0.5065967 , 0.11222789, 0.31783998, 0.25767252]], dtype=float32)"
            ]
          },
          "metadata": {},
          "execution_count": 22
        }
      ]
    },
    {
      "cell_type": "code",
      "source": [
        "len(query_vector)"
      ],
      "metadata": {
        "colab": {
          "base_uri": "https://localhost:8080/"
        },
        "id": "2nssTZeYnAsZ",
        "outputId": "320ff38b-d30a-48ae-9e33-71458feb1e36"
      },
      "execution_count": null,
      "outputs": [
        {
          "output_type": "execute_result",
          "data": {
            "text/plain": [
              "1"
            ]
          },
          "metadata": {},
          "execution_count": 23
        }
      ]
    },
    {
      "cell_type": "code",
      "source": [
        "data_vectors"
      ],
      "metadata": {
        "colab": {
          "base_uri": "https://localhost:8080/"
        },
        "id": "tbMbcutpnAvK",
        "outputId": "eaf46c47-35d0-4434-aa78-fb8b0962bab0"
      },
      "execution_count": null,
      "outputs": [
        {
          "output_type": "execute_result",
          "data": {
            "text/plain": [
              "array([[0.40953824, 0.6455848 , 0.02474913, ..., 0.4171508 , 0.74445766,\n",
              "        0.16831145],\n",
              "       [0.96388644, 0.9969586 , 0.9585898 , ..., 0.09090518, 0.12181119,\n",
              "        0.14733487],\n",
              "       [0.585377  , 0.07516428, 0.537337  , ..., 0.9120703 , 0.9705723 ,\n",
              "        0.81738025],\n",
              "       ...,\n",
              "       [0.50279367, 0.47600177, 0.13900325, ..., 0.5442151 , 0.49166384,\n",
              "        0.22557332],\n",
              "       [0.01815673, 0.09730221, 0.03071379, ..., 0.07988773, 0.9094777 ,\n",
              "        0.85385627],\n",
              "       [0.13798845, 0.21091416, 0.11956664, ..., 0.9482063 , 0.1706366 ,\n",
              "        0.32964477]], dtype=float32)"
            ]
          },
          "metadata": {},
          "execution_count": 24
        }
      ]
    },
    {
      "cell_type": "code",
      "source": [
        "len(data_vectors)"
      ],
      "metadata": {
        "colab": {
          "base_uri": "https://localhost:8080/"
        },
        "id": "i8J4A1A4nAxm",
        "outputId": "91939e42-ca77-446b-b4f7-3c304bfe38a6"
      },
      "execution_count": null,
      "outputs": [
        {
          "output_type": "execute_result",
          "data": {
            "text/plain": [
              "1000"
            ]
          },
          "metadata": {},
          "execution_count": 25
        }
      ]
    },
    {
      "cell_type": "code",
      "source": [
        "# create a simple 'flat' index\n",
        "\n",
        "# index = datastructure to help us perform effieciently similarity search\n",
        "\n",
        "index = faiss.IndexFlatL2(dimension)"
      ],
      "metadata": {
        "id": "tSko2GQ2nA0N"
      },
      "execution_count": null,
      "outputs": []
    },
    {
      "cell_type": "markdown",
      "source": [
        "In the context of Faiss, an \"index\" refers to a data structure that is constructed to efficiently perform similarity search on a set of vectors. The index is built on the dataset, allowing for quick retrieval of nearest neighbors or similar vectors when given a query vector. Faiss provides various types of indexes, each suitable for different scenarios and datasets.\n"
      ],
      "metadata": {
        "id": "lhOqSFXktUsI"
      }
    },
    {
      "cell_type": "code",
      "source": [
        "index"
      ],
      "metadata": {
        "colab": {
          "base_uri": "https://localhost:8080/"
        },
        "id": "JPQpP1SbnA3M",
        "outputId": "9d9e18ee-1284-476e-dfb4-3113bc30bd28"
      },
      "execution_count": null,
      "outputs": [
        {
          "output_type": "execute_result",
          "data": {
            "text/plain": [
              "<faiss.swigfaiss_avx2.IndexFlatL2; proxy of <Swig Object of type 'faiss::IndexFlatL2 *' at 0x798f84699c80> >"
            ]
          },
          "metadata": {},
          "execution_count": 27
        }
      ]
    },
    {
      "cell_type": "code",
      "source": [
        "# index > vectors\n",
        "\n",
        "# Add data vectors to index\n",
        "\n",
        "index.add(data_vectors)"
      ],
      "metadata": {
        "id": "_fJkxYdKrbWf"
      },
      "execution_count": null,
      "outputs": []
    },
    {
      "cell_type": "code",
      "source": [
        "# Perform a vector search\n",
        "\n",
        "k = 5 # number of nearest neighbours to retrieve\n",
        "\n",
        "distances, indices = index.search(query_vector, k)"
      ],
      "metadata": {
        "id": "r6oTyJvKrdID"
      },
      "execution_count": null,
      "outputs": []
    },
    {
      "cell_type": "code",
      "source": [
        "# print the results\n",
        "\n",
        "print(\"Query Vector:\\n\", query_vector)\n",
        "print(\"\\nNearest Neighbours:\")\n",
        "for i in range(k):\n",
        "  print(f\"Index : {indices[0][i]}, Distance: {distances[0][i]}\")"
      ],
      "metadata": {
        "colab": {
          "base_uri": "https://localhost:8080/"
        },
        "id": "6VyaXfp1rdK4",
        "outputId": "0146ba34-2102-4c88-95a0-106277bf35fe"
      },
      "execution_count": null,
      "outputs": [
        {
          "output_type": "stream",
          "name": "stdout",
          "text": [
            "Query Vector:\n",
            " [[0.83631843 0.24012427 0.8614218  0.15864664 0.2133401  0.9668993\n",
            "  0.7471294  0.25806025 0.04115563 0.89170384 0.52258253 0.99731773\n",
            "  0.52784187 0.20670287 0.47734925 0.27800924 0.732037   0.77009296\n",
            "  0.3643049  0.7415578  0.978897   0.07220161 0.4572621  0.32064703\n",
            "  0.5628677  0.2582574  0.02254519 0.03717828 0.4304883  0.8752154\n",
            "  0.82644206 0.7229053  0.6928956  0.03229824 0.6929262  0.4507195\n",
            "  0.5699979  0.02610633 0.9497388  0.8031532  0.9929684  0.28322113\n",
            "  0.63157773 0.01299521 0.25403017 0.73477316 0.507482   0.5712722\n",
            "  0.8850522  0.9285125  0.7747772  0.55473506 0.19500738 0.9684543\n",
            "  0.9188128  0.87259597 0.68696654 0.689767   0.03645605 0.15864179\n",
            "  0.5065967  0.11222789 0.31783998 0.25767252]]\n",
            "\n",
            "Nearest Neighbours:\n",
            "Index : 963, Distance: 6.606414318084717\n",
            "Index : 431, Distance: 6.76371955871582\n",
            "Index : 276, Distance: 7.1480817794799805\n",
            "Index : 525, Distance: 7.3619384765625\n",
            "Index : 967, Distance: 7.407787322998047\n"
          ]
        }
      ]
    },
    {
      "cell_type": "code",
      "source": [
        "# Finding nearest neighbours"
      ],
      "metadata": {
        "id": "v5cONc7TsAe4"
      },
      "execution_count": null,
      "outputs": []
    },
    {
      "cell_type": "code",
      "source": [
        "query_vector = np.array([[10.0]* 64], dtype='float32')"
      ],
      "metadata": {
        "id": "llVM6GqwtZGC"
      },
      "execution_count": null,
      "outputs": []
    },
    {
      "cell_type": "code",
      "source": [
        "query_vector"
      ],
      "metadata": {
        "colab": {
          "base_uri": "https://localhost:8080/"
        },
        "id": "LXsfhyzftZIo",
        "outputId": "5b3b48e4-a35f-4535-9471-18e114e86dea"
      },
      "execution_count": null,
      "outputs": [
        {
          "output_type": "execute_result",
          "data": {
            "text/plain": [
              "array([[10., 10., 10., 10., 10., 10., 10., 10., 10., 10., 10., 10., 10.,\n",
              "        10., 10., 10., 10., 10., 10., 10., 10., 10., 10., 10., 10., 10.,\n",
              "        10., 10., 10., 10., 10., 10., 10., 10., 10., 10., 10., 10., 10.,\n",
              "        10., 10., 10., 10., 10., 10., 10., 10., 10., 10., 10., 10., 10.,\n",
              "        10., 10., 10., 10., 10., 10., 10., 10., 10., 10., 10., 10.]],\n",
              "      dtype=float32)"
            ]
          },
          "metadata": {},
          "execution_count": 33
        }
      ]
    },
    {
      "cell_type": "code",
      "source": [
        "dimensions = 64\n",
        "num_vectors = 1000\n",
        "data_vectors = np.random.normal(loc=10, scale=1, size=(num_vectors, dimension)).astype('float32')"
      ],
      "metadata": {
        "id": "91VeR5_qtZLd"
      },
      "execution_count": null,
      "outputs": []
    },
    {
      "cell_type": "code",
      "source": [
        "data_vectors"
      ],
      "metadata": {
        "colab": {
          "base_uri": "https://localhost:8080/"
        },
        "id": "-g2uZhv1tZOP",
        "outputId": "03dd8518-51f3-4d04-900d-5bab2a5d952a"
      },
      "execution_count": null,
      "outputs": [
        {
          "output_type": "execute_result",
          "data": {
            "text/plain": [
              "array([[10.976    ,  8.334698 ,  9.825231 , ..., 10.316686 , 10.298373 ,\n",
              "        10.415993 ],\n",
              "       [ 9.917686 ,  9.356894 , 10.280453 , ..., 10.649538 ,  9.656099 ,\n",
              "         7.9423347],\n",
              "       [ 9.821852 , 10.658847 ,  9.545566 , ..., 10.434568 , 10.512574 ,\n",
              "         9.674537 ],\n",
              "       ...,\n",
              "       [ 9.518309 ,  9.511969 ,  8.602661 , ..., 11.113427 ,  8.587387 ,\n",
              "         9.772464 ],\n",
              "       [10.388731 , 10.094328 ,  8.88617  , ..., 10.442276 ,  9.386941 ,\n",
              "         9.586914 ],\n",
              "       [ 9.285284 , 10.785852 ,  9.863935 , ..., 10.706663 ,  9.920414 ,\n",
              "        11.345318 ]], dtype=float32)"
            ]
          },
          "metadata": {},
          "execution_count": 35
        }
      ]
    },
    {
      "cell_type": "code",
      "source": [
        "index = faiss.IndexFlatL2(dimension)"
      ],
      "metadata": {
        "id": "hAgSuIjgtZRE"
      },
      "execution_count": null,
      "outputs": []
    },
    {
      "cell_type": "code",
      "source": [
        "index.add(data_vectors)"
      ],
      "metadata": {
        "id": "tmnYNonYu5wo"
      },
      "execution_count": null,
      "outputs": []
    },
    {
      "cell_type": "code",
      "source": [
        "k = 5\n",
        "distances, indices = index.search(query_vector, k)"
      ],
      "metadata": {
        "id": "yHlIvuhjsAhk"
      },
      "execution_count": null,
      "outputs": []
    },
    {
      "cell_type": "code",
      "source": [
        "print(\"Query Vector:\\n\", query_vector)\n",
        "print(\"\\nNearest Neighbours:\")\n",
        "for i in range(k):\n",
        "  index_number = indices[0][i]\n",
        "  distance_value = distances[0][i]\n",
        "  actual_number = data_vectors[index_number][0]\n",
        "  print(f\"Index : {index_number}, Actual Number : {actual_number}, Distance: {distance_value}\")"
      ],
      "metadata": {
        "colab": {
          "base_uri": "https://localhost:8080/"
        },
        "id": "HhQWnbWjvEYf",
        "outputId": "895924f5-5311-47e1-8fac-89a2fe1a6d80"
      },
      "execution_count": null,
      "outputs": [
        {
          "output_type": "stream",
          "name": "stdout",
          "text": [
            "Query Vector:\n",
            " [[10. 10. 10. 10. 10. 10. 10. 10. 10. 10. 10. 10. 10. 10. 10. 10. 10. 10.\n",
            "  10. 10. 10. 10. 10. 10. 10. 10. 10. 10. 10. 10. 10. 10. 10. 10. 10. 10.\n",
            "  10. 10. 10. 10. 10. 10. 10. 10. 10. 10. 10. 10. 10. 10. 10. 10. 10. 10.\n",
            "  10. 10. 10. 10. 10. 10. 10. 10. 10. 10.]]\n",
            "\n",
            "Nearest Neighbours:\n",
            "Index : 405, Actual Number : 9.512840270996094, Distance: 33.853981018066406\n",
            "Index : 317, Actual Number : 10.656074523925781, Distance: 37.03443145751953\n",
            "Index : 684, Actual Number : 11.339433670043945, Distance: 38.95702362060547\n",
            "Index : 213, Actual Number : 10.985352516174316, Distance: 40.08647918701172\n",
            "Index : 127, Actual Number : 9.810687065124512, Distance: 40.38578796386719\n"
          ]
        }
      ]
    },
    {
      "cell_type": "code",
      "source": [],
      "metadata": {
        "id": "Mx25jV9DvEbb"
      },
      "execution_count": null,
      "outputs": []
    }
  ]
}