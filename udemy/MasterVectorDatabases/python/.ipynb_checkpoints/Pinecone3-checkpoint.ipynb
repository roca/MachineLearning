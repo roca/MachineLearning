{
 "cells": [
  {
   "cell_type": "code",
   "execution_count": null,
   "id": "d5d56514-9645-4611-8975-4bfc14f4084a",
   "metadata": {
    "scrolled": true
   },
   "outputs": [],
   "source": [
    "pip install --trusted-host pypi.python.org --trusted-host pypi.org --trusted-host files.pythonhosted.org  --upgrade pip"
   ]
  },
  {
   "cell_type": "code",
   "execution_count": null,
   "id": "657d247e-05f2-463a-ae41-493ebf20373f",
   "metadata": {},
   "outputs": [],
   "source": [
    "!pip install --trusted-host pypi.python.org --trusted-host pypi.org --trusted-host files.pythonhosted.org  \\\n",
    "pinecone-client \\\n",
    "pandas \\\n",
    "langchain \\\n",
    "sentence-transformers"
   ]
  },
  {
   "cell_type": "code",
   "execution_count": null,
   "id": "7624e401-e6c5-422a-9ca8-d575578fda05",
   "metadata": {},
   "outputs": [],
   "source": [
    "from pinecone import Pinecone\n",
    "import os\n",
    "import pandas as pd\n",
    "import numpy as np\n",
    "\n",
    "from sentence_transformers import SentenceTransformer\n",
    "from langchain.document_loaders import TextLoader\n",
    "from langchain.document_loaders import  DirectoryLoader\n",
    "from langchain.text_splitter import RecursiveCharacterTextSplitter"
   ]
  },
  {
   "cell_type": "code",
   "execution_count": null,
   "id": "a2a7660f-201c-4a07-a087-4ae20b9814d7",
   "metadata": {},
   "outputs": [],
   "source": [
    "# initialize connection to pinecone (get API key at app.pc.io)\n",
    "api_key = os.environ.get('PINECONE_API_KEY') or 'PINECONE_API_KEY'\n",
    "environment = os.environ.get('PINECONE_ENVIRONMENT') or 'PINECONE_ENVIRONMENT'\n",
    "\n",
    "# configure client\n",
    "pc = Pinecone(api_key=api_key)"
   ]
  },
  {
   "cell_type": "markdown",
   "id": "f7d8c05f",
   "metadata": {},
   "source": [
    "# Prepare Data - New Articles"
   ]
  },
  {
   "cell_type": "code",
   "execution_count": null,
   "id": "d223f886",
   "metadata": {},
   "outputs": [],
   "source": [
    "# load multiple document and process documants\n",
    "loader = DirectoryLoader(\"./bbc/sport\", glob=\"./*.txt\", loader_cls=TextLoader)\n",
    "documents = loader.load()"
   ]
  },
  {
   "cell_type": "code",
   "execution_count": null,
   "id": "32d6c2cd",
   "metadata": {},
   "outputs": [],
   "source": [
    "# split the text into smaler chunks\n",
    "text_spliter = RecursiveCharacterTextSplitter(chunk_size=1000, chunk_overlap=200)\n",
    "texts = text_spliter.split_documents(documents)"
   ]
  },
  {
   "cell_type": "markdown",
   "id": "d5242728",
   "metadata": {},
   "source": [
    "# Cesate Embeddings and Vectors"
   ]
  },
  {
   "cell_type": "code",
   "execution_count": null,
   "id": "ad2ef1ad-c070-44b8-8e20-9ddd6d805084",
   "metadata": {},
   "outputs": [],
   "source": [
    "import ssl\n",
    "ssl._create_default_https_context = ssl._create_unverified_context\n",
    "os.environ[\"CURL_CA_BUNDLE\"] = \"\""
   ]
  },
  {
   "cell_type": "code",
   "execution_count": null,
   "id": "a04955c5",
   "metadata": {},
   "outputs": [],
   "source": [
    "# average_word_embeddings_komninos\n",
    "# dimension = 300\n",
    "model = SentenceTransformer('average_word_embeddings_komninos')"
   ]
  },
  {
   "cell_type": "code",
   "execution_count": null,
   "id": "e06207a1",
   "metadata": {},
   "outputs": [],
   "source": [
    "# check dimensionality of embeddings"
   ]
  },
  {
   "cell_type": "markdown",
   "id": "aaddb92b",
   "metadata": {},
   "source": [
    "# Setupup Pinecone index\n",
    "\t- Make sure the dimenionality of the embeddings matches the dimensionality of the index"
   ]
  },
  {
   "cell_type": "markdown",
   "id": "2824ab19",
   "metadata": {},
   "source": [
    "# Upsert vector data"
   ]
  },
  {
   "cell_type": "markdown",
   "id": "996e9848",
   "metadata": {},
   "source": [
    "# Query vector data"
   ]
  },
  {
   "cell_type": "markdown",
   "id": "267f685f",
   "metadata": {},
   "source": [
    "# Query with metadata filters"
   ]
  },
  {
   "cell_type": "markdown",
   "id": "2b67fe04",
   "metadata": {},
   "source": [
    "# Cleanup"
   ]
  }
 ],
 "metadata": {
  "kernelspec": {
   "display_name": "Python 3 (ipykernel)",
   "language": "python",
   "name": "python3"
  },
  "language_info": {
   "codemirror_mode": {
    "name": "ipython",
    "version": 3
   },
   "file_extension": ".py",
   "mimetype": "text/x-python",
   "name": "python",
   "nbconvert_exporter": "python",
   "pygments_lexer": "ipython3",
   "version": "3.11.0rc1"
  }
 },
 "nbformat": 4,
 "nbformat_minor": 5
}
