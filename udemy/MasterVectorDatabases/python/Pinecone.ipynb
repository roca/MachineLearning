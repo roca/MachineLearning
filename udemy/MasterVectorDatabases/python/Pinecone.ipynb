{
 "cells": [
  {
   "cell_type": "code",
   "execution_count": null,
   "id": "d5d56514-9645-4611-8975-4bfc14f4084a",
   "metadata": {
    "scrolled": true
   },
   "outputs": [],
   "source": [
    "pip install --upgrade pip"
   ]
  },
  {
   "cell_type": "code",
   "execution_count": null,
   "id": "657d247e-05f2-463a-ae41-493ebf20373f",
   "metadata": {},
   "outputs": [],
   "source": [
    "!pip install pinecone-client pandas"
   ]
  },
  {
   "cell_type": "code",
   "execution_count": null,
   "id": "7624e401-e6c5-422a-9ca8-d575578fda05",
   "metadata": {},
   "outputs": [],
   "source": [
    "from pinecone import Pinecone\n",
    "import os"
   ]
  },
  {
   "cell_type": "code",
   "execution_count": null,
   "id": "a2a7660f-201c-4a07-a087-4ae20b9814d7",
   "metadata": {},
   "outputs": [],
   "source": [
    "# initialize connection to pinecone (get API key at app.pc.io)\n",
    "api_key = os.environ.get('PINECONE_API_KEY') or 'PINECONE_API_KEY'\n",
    "environment = os.environ.get('PINECONE_ENVIRONMENT') or 'PINECONE_ENVIRONMENT'\n",
    "\n",
    "# configure client\n",
    "pc = Pinecone(api_key=api_key)"
   ]
  },
  {
   "cell_type": "code",
   "execution_count": null,
   "id": "aef47bfc-1035-48d7-b996-e03102ff6593",
   "metadata": {},
   "outputs": [],
   "source": [
    "pc.list_indexes()"
   ]
  },
  {
   "cell_type": "code",
   "execution_count": null,
   "id": "25d1f363-62ea-4e81-8e50-c21988818d2a",
   "metadata": {},
   "outputs": [],
   "source": [
    "# List indexes\n",
    "indexes = pc.list_indexes()\n",
    "print(indexes[0].name)"
   ]
  },
  {
   "cell_type": "code",
   "execution_count": null,
   "id": "0ed7de52-9f6b-4514-86d8-63a87f469b06",
   "metadata": {},
   "outputs": [],
   "source": [
    "# Describe index\n",
    "pc.describe_index(indexes[0].name)"
   ]
  },
  {
   "cell_type": "code",
   "execution_count": null,
   "id": "a71a2979-f970-49dd-a628-8643fdc454bd",
   "metadata": {},
   "outputs": [],
   "source": [
    "#create index\n",
    "new_index_name = \"stock-prices\"\n",
    "dimension = 3\n",
    "metric = \"cosine\""
   ]
  },
  {
   "cell_type": "code",
   "execution_count": null,
   "id": "4fdd4d90-b67a-498c-bde8-a5a5ad9bf027",
   "metadata": {},
   "outputs": [],
   "source": [
    "# if exists delete\n",
    "for index in pc.list_indexes().indexes:\n",
    "    if index.name == new_index_name:\n",
    "        pc.delete_index(new_index_name)"
   ]
  },
  {
   "cell_type": "code",
   "execution_count": null,
   "id": "fba6df8e-1725-4413-a498-bc8adf1f5ecf",
   "metadata": {},
   "outputs": [],
   "source": [
    "from pinecone import PodSpec\n",
    "pc.create_index(\n",
    "    name=new_index_name, \n",
    "    dimension=dimension, \n",
    "    metric=metric, \n",
    "    spec=PodSpec(\n",
    "        environment=\"gcp-starter\",\n",
    "        pod_type=\"starter\",\n",
    "        pods=1,\n",
    "        replicas=1,\n",
    "        shards=1\n",
    "))"
   ]
  },
  {
   "cell_type": "code",
   "execution_count": null,
   "id": "a031d01e-ab2a-413c-958c-4415bdde0db3",
   "metadata": {},
   "outputs": [],
   "source": [
    "pc.describe_index(new_index_name)"
   ]
  },
  {
   "cell_type": "code",
   "execution_count": null,
   "id": "91049cb2-95db-4d3b-81e4-96810c119f66",
   "metadata": {},
   "outputs": [],
   "source": [
    "index = pc.Index(name=new_index_name)"
   ]
  },
  {
   "cell_type": "code",
   "execution_count": null,
   "id": "8cd8f123-2917-42bb-b09b-11c62f03d928",
   "metadata": {},
   "outputs": [],
   "source": [
    "index"
   ]
  },
  {
   "cell_type": "code",
   "execution_count": null,
   "id": "52624154-b2ba-46d8-83b2-3ba58d9f4467",
   "metadata": {},
   "outputs": [],
   "source": [
    "# Insert some data\n",
    "# [(id1, vecvtor1), (id2, vector2)]\n",
    "index.upsert(\n",
    "    [\n",
    "        (\"TSLA\", [1., 1., 1.]),\n",
    "        (\"IBM\",  [1., 2., 3.]),\n",
    "        (\"GM\",   [2., 1., 1.]),\n",
    "        (\"AMZN\", [3., 2., 1.]),\n",
    "        (\"C\",    [2., 2., 2.]),\n",
    "    ]\n",
    ")"
   ]
  },
  {
   "cell_type": "code",
   "execution_count": null,
   "id": "3c1f9622-b977-4d5f-a5b5-06090db5273f",
   "metadata": {},
   "outputs": [],
   "source": [
    "index.describe_index_stats()"
   ]
  },
  {
   "cell_type": "code",
   "execution_count": null,
   "id": "ed1b2d88-e15c-4ac4-aecc-cb71ea9cfc0c",
   "metadata": {},
   "outputs": [],
   "source": [
    "# Add meta data\n",
    "index.upsert(\n",
    "    [\n",
    "        (\"TSLA\", [1., 1., 1.], {\"stock_name\":\"Tesla\", \"sector\":\"automotive\"}),\n",
    "        (\"C\", [1., 1., 1.], {\"stock_name\":\"Citi\", \"sector\":\"automotive\"}),\n",
    "    ]\n",
    ")"
   ]
  },
  {
   "cell_type": "code",
   "execution_count": null,
   "id": "9d9659bb-b694-4f6d-8aa5-2fd1d2fd8ee9",
   "metadata": {},
   "outputs": [],
   "source": [
    "# insert data from a dataframe\n",
    "data = {\n",
    "    \"id\": [\"NIO\",\"v\"],\n",
    "    \"vector\": [\n",
    "        [4., 4., 4.],\n",
    "        [2., 2., 5.]\n",
    "    ]\n",
    "}\n",
    "data"
   ]
  },
  {
   "cell_type": "code",
   "execution_count": null,
   "id": "f3f31767-4ef7-4ac8-a75c-9ee10e1e263a",
   "metadata": {},
   "outputs": [],
   "source": [
    "import pandas as pd\n",
    "df = pd.DataFrame(data)\n",
    "df"
   ]
  },
  {
   "cell_type": "code",
   "execution_count": null,
   "id": "85800601-253e-45db-b739-10f17bd4b737",
   "metadata": {},
   "outputs": [],
   "source": [
    "index.upsert(zip(df.id, df.vector))"
   ]
  },
  {
   "cell_type": "code",
   "execution_count": null,
   "id": "abb3fcde-8cec-472a-87b6-96d4610f4f1d",
   "metadata": {},
   "outputs": [],
   "source": [
    "index.describe_index_stats()"
   ]
  },
  {
   "cell_type": "code",
   "execution_count": null,
   "id": "4e8ac014-44ef-4c37-8999-82a2aa3f5132",
   "metadata": {},
   "outputs": [],
   "source": [
    "# Query the vector data\n",
    "index.query(\n",
    "  vector=[2., 2., 4.],\n",
    "  top_k=1,\n",
    "  include_values=True\n",
    ")"
   ]
  },
  {
   "cell_type": "code",
   "execution_count": null,
   "id": "8c558344-112d-4afe-a0ed-89a7b77c3d87",
   "metadata": {},
   "outputs": [],
   "source": [
    "# by meta data\n",
    "index.query(\n",
    "    vector=[2., 2., 4.],\n",
    "    filter={\n",
    "        #\"stock_name\": {\"$eq\": \"Tesla\"},\n",
    "        # \"sector\": \"automotive\",\n",
    "        \"sector\": {\"$eq\": \"automotive\"},\n",
    "    },\n",
    "    top_k=3,\n",
    "    include_metadata=True\n",
    ")"
   ]
  },
  {
   "cell_type": "code",
   "execution_count": null,
   "id": "6fc2d7df-7664-4d5b-baf3-a0785677e76d",
   "metadata": {},
   "outputs": [],
   "source": []
  }
 ],
 "metadata": {
  "kernelspec": {
   "display_name": "Python 3 (ipykernel)",
   "language": "python",
   "name": "python3"
  },
  "language_info": {
   "codemirror_mode": {
    "name": "ipython",
    "version": 3
   },
   "file_extension": ".py",
   "mimetype": "text/x-python",
   "name": "python",
   "nbconvert_exporter": "python",
   "pygments_lexer": "ipython3",
   "version": "3.11.0rc1"
  }
 },
 "nbformat": 4,
 "nbformat_minor": 5
}
