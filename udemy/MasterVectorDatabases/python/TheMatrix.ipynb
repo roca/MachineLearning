{
 "cells": [
  {
   "cell_type": "code",
   "execution_count": 1,
   "metadata": {
    "id": "qCOp1IVCo0Wc"
   },
   "outputs": [
    {
     "name": "stdout",
     "output_type": "stream",
     "text": [
      "\u001b[33mWARNING: Running pip as the 'root' user can result in broken permissions and conflicting behaviour with the system package manager. It is recommended to use a virtual environment instead: https://pip.pypa.io/warnings/venv\u001b[0m\u001b[33m\n",
      "\u001b[0m\n",
      "\u001b[1m[\u001b[0m\u001b[34;49mnotice\u001b[0m\u001b[1;39;49m]\u001b[0m\u001b[39;49m A new release of pip is available: \u001b[0m\u001b[31;49m23.2.1\u001b[0m\u001b[39;49m -> \u001b[0m\u001b[32;49m23.3.2\u001b[0m\n",
      "\u001b[1m[\u001b[0m\u001b[34;49mnotice\u001b[0m\u001b[1;39;49m]\u001b[0m\u001b[39;49m To update, run: \u001b[0m\u001b[32;49mpython3 -m pip install --upgrade pip\u001b[0m\n"
     ]
    }
   ],
   "source": [
    "!pip install  --trusted-host pypi.org --trusted-host files.pythonhosted.org chromadb openai -q"
   ]
  },
  {
   "cell_type": "code",
   "execution_count": 2,
   "metadata": {
    "id": "11XfUnEmp76M"
   },
   "outputs": [
    {
     "name": "stdout",
     "output_type": "stream",
     "text": [
      "^C\n"
     ]
    }
   ],
   "source": [
    "# needs this to work with embedding\n",
    "!pip install sentence-transformers -q"
   ]
  },
  {
   "cell_type": "code",
   "execution_count": null,
   "metadata": {
    "id": "NDfT27fSr071"
   },
   "outputs": [],
   "source": [
    "# setup the client\n",
    "import chromadb\n",
    "from chromadb.config import Settings\n",
    "#client = chromadb.Client()\n",
    "client = chromadb.HttpClient(host=\"chroma\", port = 8000, settings=Settings(allow_reset=True, anonymized_telemetry=False))"
   ]
  },
  {
   "cell_type": "code",
   "execution_count": null,
   "metadata": {
    "id": "41Fii-mlsCsM"
   },
   "outputs": [],
   "source": [
    "neo_collection = client.create_collection(name=\"neo\")"
   ]
  },
  {
   "cell_type": "code",
   "execution_count": null,
   "metadata": {
    "colab": {
     "base_uri": "https://localhost:8080/"
    },
    "id": "6Y5W32mvsNsS",
    "outputId": "f4e1fda8-0ea4-41b1-eade-8c4537a11f9e"
   },
   "outputs": [],
   "source": [
    "#inspecting a collection\n",
    "print(neo_collection)"
   ]
  },
  {
   "cell_type": "code",
   "execution_count": null,
   "metadata": {
    "colab": {
     "base_uri": "https://localhost:8080/"
    },
    "id": "-DhnDv7CsZyF",
    "outputId": "8ae89d7f-77e5-47c1-a1ba-4e774dd12cf4"
   },
   "outputs": [],
   "source": [
    "#Rename the collection name and inspect it again\n",
    "neo_collection.modify(name=\"mr_anderson\")\n",
    "print(neo_collection)"
   ]
  },
  {
   "cell_type": "code",
   "execution_count": null,
   "metadata": {
    "colab": {
     "base_uri": "https://localhost:8080/"
    },
    "id": "VhxyuM6ls42b",
    "outputId": "bc58abf6-5321-4e8f-ef66-354e938fbc3e"
   },
   "outputs": [],
   "source": [
    "# Counting items\n",
    "print(f\"# of items in the collection: {neo_collection.count()}\")"
   ]
  },
  {
   "cell_type": "code",
   "execution_count": null,
   "metadata": {
    "colab": {
     "base_uri": "https://localhost:8080/"
    },
    "id": "0xHOlOk-tJ-B",
    "outputId": "64371044-65b9-4b10-ca2d-e43bfa2eed22"
   },
   "outputs": [],
   "source": [
    "# Get or Create a new collection, and change the distance function\n",
    "trinity_collection = client.get_or_create_collection(\n",
    "    name=\"trinity\", metadata={\"hnsw:space\": \"cosine\"}\n",
    ")\n",
    "print(trinity_collection)"
   ]
  },
  {
   "cell_type": "code",
   "execution_count": null,
   "metadata": {
    "colab": {
     "base_uri": "https://localhost:8080/"
    },
    "id": "wT3SBDxF5Vim",
    "outputId": "2894f5d5-077a-4d42-9d2a-895041f6bbf3"
   },
   "outputs": [],
   "source": [
    "# Delete a collection\n",
    "try:\n",
    "  client.delete_collection(name=\"mr_anderson\")\n",
    "  print(\"Mr. Anderson collection deleted\")\n",
    "except ValueError as e:\n",
    "  print(f\"Error: {e}\")"
   ]
  },
  {
   "cell_type": "code",
   "execution_count": null,
   "metadata": {
    "id": "GvqsmPI352X3"
   },
   "outputs": [],
   "source": [
    "neo_collection = client.create_collection(name=\"neo\")"
   ]
  },
  {
   "cell_type": "code",
   "execution_count": null,
   "metadata": {
    "colab": {
     "base_uri": "https://localhost:8080/"
    },
    "id": "YAQhxzcT6Cpw",
    "outputId": "d9461356-a0a4-426f-ca6d-5756f945395d"
   },
   "outputs": [],
   "source": [
    "# Adding data\n",
    "# Adding raw documents\n",
    "neo_collection.add(\n",
    "    documents=[\n",
    "        \"There is no spoon.\",\n",
    "        \"I know kung fu.\"\n",
    "    ],\n",
    "    ids=[\"quote1\", \"quote2\"]\n",
    ")"
   ]
  },
  {
   "cell_type": "code",
   "execution_count": null,
   "metadata": {
    "id": "ogqcKWSf63xw"
   },
   "outputs": [],
   "source": [
    "item_count = neo_collection.count()\n",
    "print(f\"# of items in the collection: {item_count}\")"
   ]
  },
  {
   "cell_type": "code",
   "execution_count": null,
   "metadata": {
    "id": "LUsmFhj68GN5"
   },
   "outputs": [],
   "source": [
    "neo_collection.get()"
   ]
  },
  {
   "cell_type": "code",
   "execution_count": null,
   "metadata": {
    "id": "xJvaTDFi7cTg",
    "scrolled": true
   },
   "outputs": [],
   "source": [
    "# Take a peek\n",
    "neo_collection.peek(limit=5)"
   ]
  },
  {
   "cell_type": "code",
   "execution_count": null,
   "metadata": {
    "id": "YAKkygND8kE8"
   },
   "outputs": [],
   "source": [
    "# Delete a collection\n",
    "try:\n",
    "  client.delete_collection(name=\"morpheus\")\n",
    "  print(\"Morpheus collection deleted\")\n",
    "except:\n",
    "  print(\"Collection already deleted\")"
   ]
  },
  {
   "cell_type": "code",
   "execution_count": null,
   "metadata": {
    "id": "YAKkygND8kE8"
   },
   "outputs": [],
   "source": [
    "morpheus_collection = client.create_collection(name=\"morpheus\")"
   ]
  },
  {
   "cell_type": "code",
   "execution_count": null,
   "metadata": {
    "id": "ljAIaf1x8v0d"
   },
   "outputs": [],
   "source": [
    "morpheus_collection.add(\n",
    "    documents=[\n",
    "        \"Welcome to the real world.\",\n",
    "        \"What if I told you everything you knew was a lie\"\n",
    "    ],\n",
    "    embeddings=[[0.1, 0.2, 0.3], [0.4, 0.5, 0.6]],\n",
    "    ids=[\"quote1\", \"quote2\"]\n",
    ")"
   ]
  },
  {
   "cell_type": "code",
   "execution_count": null,
   "metadata": {
    "colab": {
     "base_uri": "https://localhost:8080/"
    },
    "id": "ZRNwF2cJ9i5G",
    "outputId": "5c21f2ef-177d-44cf-e9e7-54e08ee067b3"
   },
   "outputs": [],
   "source": [
    "morpheus_collection.count()"
   ]
  },
  {
   "cell_type": "code",
   "execution_count": null,
   "metadata": {
    "colab": {
     "base_uri": "https://localhost:8080/"
    },
    "id": "ZRNwF2cJ9i5G",
    "outputId": "5c21f2ef-177d-44cf-e9e7-54e08ee067b3"
   },
   "outputs": [],
   "source": [
    "morpheus_collection.get()"
   ]
  },
  {
   "cell_type": "code",
   "execution_count": null,
   "metadata": {},
   "outputs": [],
   "source": [
    "# Create the collection\n",
    "locations_collection = client.get_or_create_collection(name=\"locations\")"
   ]
  },
  {
   "cell_type": "code",
   "execution_count": null,
   "metadata": {},
   "outputs": [],
   "source": [
    "# Adding Embeddings and metadata\n",
    "locations_collection.add(\n",
    "    embeddings=[[0.1, 0.2, 0.3], [0.4, 0.5, 0.6]],\n",
    "    metadatas=[\n",
    "        {\"location\": \"Machine City\", \"description\": \"city inhabited by machines\"},\n",
    "        {\"location\": \"Zion\", \"description\": \"Last city inhabited by humans\"}\n",
    "    ],\n",
    "    ids=[\"location1\", \"location2\"]\n",
    ")"
   ]
  },
  {
   "cell_type": "code",
   "execution_count": null,
   "metadata": {},
   "outputs": [],
   "source": [
    "locations_collection.count()"
   ]
  },
  {
   "cell_type": "code",
   "execution_count": null,
   "metadata": {},
   "outputs": [],
   "source": [
    "locations_collection.get()"
   ]
  },
  {
   "cell_type": "code",
   "execution_count": null,
   "metadata": {},
   "outputs": [],
   "source": [
    "# Delete a collection\n",
    "try:\n",
    "  client.delete_collection(name=\"morpheus\")\n",
    "  print(\"Morpheus collection deleted\")\n",
    "except:\n",
    "  print(\"Collection already deleted\")"
   ]
  },
  {
   "cell_type": "code",
   "execution_count": null,
   "metadata": {},
   "outputs": [],
   "source": [
    "morpheus_collection = client.create_collection(name=\"morpheus\", metadata={\"hnsw:space\": \"cosine\"})"
   ]
  },
  {
   "cell_type": "code",
   "execution_count": null,
   "metadata": {},
   "outputs": [],
   "source": [
    "morpheus_collection.add(\n",
    "    documents=[\n",
    "        \"This is your last chance. After this, there is no turning back.\",\n",
    "        \"You take the blue pill, the story ends, you wake up in your bed and believe whatever you want to believe.\",\n",
    "        \"You take the red pill, you stay in Wonderland and I show you how deep the rabbit hole goes\"\n",
    "    ],\n",
    "    ids=[\"quote1\", \"quote2\", \"quote3\"]\n",
    ")\n",
    "morpheus_collection.get()"
   ]
  },
  {
   "cell_type": "code",
   "execution_count": null,
   "metadata": {},
   "outputs": [],
   "source": [
    "# Query by a set of query_tests\n",
    "results = morpheus_collection.query(\n",
    "    query_texts=[\"Take the red pill\"],\n",
    "    n_results=2,\n",
    ")\n",
    "print(results)"
   ]
  },
  {
   "cell_type": "code",
   "execution_count": null,
   "metadata": {},
   "outputs": [],
   "source": [
    "trinity_collection.add(\n",
    "    documents=[\n",
    "        \"Dodge this.\",\n",
    "        \"I think they're trying to tell us something.\",\n",
    "        \"Neo, no one has ever done this before.\"\n",
    "    ],\n",
    "    ids=[\"quote1\", \"quote2\", \"quote3\"]\n",
    ")\n",
    "trinity_collection.get()"
   ]
  },
  {
   "cell_type": "code",
   "execution_count": null,
   "metadata": {},
   "outputs": [],
   "source": [
    "trinity_collection.get(ids=[\"quote2\", \"quote3\"])"
   ]
  },
  {
   "cell_type": "code",
   "execution_count": null,
   "metadata": {
    "scrolled": true
   },
   "outputs": [],
   "source": [
    "# Choosing which data is returned from the collection\n",
    "# Query by text and choos which data to return\n",
    "results = morpheus_collection.query(\n",
    "    query_texts=[\"Take the red pill\"],\n",
    "    n_results=1,\n",
    "    include=[\"embeddings\",\"distances\"]\n",
    ")\n",
    "print(results)"
   ]
  },
  {
   "cell_type": "code",
   "execution_count": null,
   "metadata": {},
   "outputs": [],
   "source": [
    "# Create a matrix collection\n",
    "matrix_collection = client.create_collection(name=\"matrix\")"
   ]
  },
  {
   "cell_type": "code",
   "execution_count": null,
   "metadata": {},
   "outputs": [],
   "source": [
    "matrix_collection.add(\n",
    "    documents=[\n",
    "        \"The Matrix is everywhere. It is all around us.\",\n",
    "        \"Unfortunately, no one can be told what the Matrix is.\",\n",
    "        \"You can see it when you look out your window or when you turn on your television.\",\n",
    "        \"Like everyone else you were born into bondage. Into a prison that you cannot taste or see or touch. A prison for your mind.\",\n",
    "        \"It is the world that has been pulled over your eyes to blind you from the truth.\",\n",
    "        \"Human beings are a disease, a cancer of this planet. You're a plague and we are the cure.\",\n",
    "        \"Look out that window. You've had your time. The future is our world, Morpheus. The future is our time.\",\n",
    "    ],\n",
    "    metadatas=[\n",
    "        {\"category\": \"quote\", \"speaker\": \"Morpheus\"},\n",
    "        {\"category\": \"quote\", \"speaker\": \"Morpheus\"},\n",
    "        {\"category\": \"quote\", \"speaker\": \"Morpheus\"},\n",
    "        {\"category\": \"quote\", \"speaker\": \"Morpheus\"},\n",
    "        {\"category\": \"quote\", \"speaker\": \"Morpheus\"},\n",
    "        {\"category\": \"quote\", \"speaker\": \"Agent Smith\"},\n",
    "        {\"category\": \"quote\", \"speaker\": \"Agent Smith\"},\n",
    "    ],\n",
    "    ids=[\"quote1\", \"quote2\", \"quote3\", \"quote4\", \"quote5\", \"quote6\", \"quote7\"]\n",
    ")\n",
    "matrix_collection.get()\n",
    "        "
   ]
  },
  {
   "cell_type": "code",
   "execution_count": null,
   "metadata": {},
   "outputs": [],
   "source": [
    "# Query with where filter\n",
    "results = matrix_collection.query(\n",
    "    query_texts=[\"What is the the matrix\"],\n",
    "    where={\"speaker\": \"Morpheus\"},\n",
    "    n_results=2\n",
    ")\n",
    "print(results)"
   ]
  },
  {
   "cell_type": "code",
   "execution_count": null,
   "metadata": {},
   "outputs": [],
   "source": [
    "# Update items in a collection\n",
    "matrix_collection.update(\n",
    "    ids=[\"quote2\"],\n",
    "    metadatas=[{'category': 'quote', 'speaker': 'Morpheus'}],\n",
    "    documents=[\"The Matrix is a system, Neo. That system is our enemy\"],\n",
    ")\n",
    "matrix_collection.get(ids=[\"quote2\"])"
   ]
  },
  {
   "cell_type": "code",
   "execution_count": null,
   "metadata": {},
   "outputs": [],
   "source": [
    "# Upsert operation\n",
    "matrix_collection.upsert(\n",
    "    ids=[\"quote2\", \"quote4\"],\n",
    "    metadatas=[\n",
    "        {'category': 'quote', 'speaker': 'Morpheus'},\n",
    "        {'category': 'quote', 'speaker': 'Agent Smith'},\n",
    "    ],\n",
    "    documents=[\n",
    "        \"You take the blue pill - the story ends, you wake up in your bed and believe whatever you want to believe.\",\n",
    "        \"I'm going to enjoy watching you die, Mr. Anderson.\",\n",
    "    ],\n",
    ")\n",
    "matrix_collection.get(ids=[\"quote2\", \"quote4\"])"
   ]
  },
  {
   "cell_type": "code",
   "execution_count": null,
   "metadata": {},
   "outputs": [],
   "source": [
    "trinity_collection.get()"
   ]
  },
  {
   "cell_type": "code",
   "execution_count": null,
   "metadata": {},
   "outputs": [],
   "source": [
    "# Delete by ID\n",
    "trinity_collection.delete(ids=[\"quote2\"])\n",
    "trinity_collection.get()"
   ]
  },
  {
   "cell_type": "code",
   "execution_count": null,
   "metadata": {},
   "outputs": [],
   "source": [
    "# Delete by where clause\n",
    "matrix_collection.delete(where={'speaker': 'Agent Smith'})\n",
    "matrix_collection.get()"
   ]
  },
  {
   "cell_type": "code",
   "execution_count": null,
   "metadata": {},
   "outputs": [],
   "source": []
  }
 ],
 "metadata": {
  "colab": {
   "provenance": []
  },
  "kernelspec": {
   "display_name": "Python 3 (ipykernel)",
   "language": "python",
   "name": "python3"
  },
  "language_info": {
   "codemirror_mode": {
    "name": "ipython",
    "version": 3
   },
   "file_extension": ".py",
   "mimetype": "text/x-python",
   "name": "python",
   "nbconvert_exporter": "python",
   "pygments_lexer": "ipython3",
   "version": "3.11.0rc1"
  }
 },
 "nbformat": 4,
 "nbformat_minor": 4
}
